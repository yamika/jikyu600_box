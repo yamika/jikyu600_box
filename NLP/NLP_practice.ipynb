{
 "cells": [
  {
   "cell_type": "code",
   "execution_count": 1,
   "metadata": {
    "collapsed": true
   },
   "outputs": [],
   "source": [
    "import numpy as np\n",
    "import matplotlib.pyplot as plt\n",
    "import seaborn as sns\n",
    "import itertools\n",
    "from sklearn import metrics\n",
    "import pandas as pd\n",
    "from sklearn import svm\n",
    "import gensim\n",
    "import gensim.parsing\n",
    "import os\n",
    "%matplotlib inline"
   ]
  },
  {
   "cell_type": "code",
   "execution_count": 2,
   "metadata": {},
   "outputs": [],
   "source": [
    "train_df = pd.read_csv('train.tsv',delimiter='\\t')"
   ]
  },
  {
   "cell_type": "code",
   "execution_count": 3,
   "metadata": {},
   "outputs": [
    {
     "data": {
      "text/html": [
       "<div>\n",
       "<style>\n",
       "    .dataframe thead tr:only-child th {\n",
       "        text-align: right;\n",
       "    }\n",
       "\n",
       "    .dataframe thead th {\n",
       "        text-align: left;\n",
       "    }\n",
       "\n",
       "    .dataframe tbody tr th {\n",
       "        vertical-align: top;\n",
       "    }\n",
       "</style>\n",
       "<table border=\"1\" class=\"dataframe\">\n",
       "  <thead>\n",
       "    <tr style=\"text-align: right;\">\n",
       "      <th></th>\n",
       "      <th>train_id</th>\n",
       "      <th>name</th>\n",
       "      <th>item_condition_id</th>\n",
       "      <th>category_name</th>\n",
       "      <th>brand_name</th>\n",
       "      <th>price</th>\n",
       "      <th>shipping</th>\n",
       "      <th>item_description</th>\n",
       "    </tr>\n",
       "  </thead>\n",
       "  <tbody>\n",
       "    <tr>\n",
       "      <th>0</th>\n",
       "      <td>0</td>\n",
       "      <td>MLB Cincinnati Reds T Shirt Size XL</td>\n",
       "      <td>3</td>\n",
       "      <td>Men/Tops/T-shirts</td>\n",
       "      <td>NaN</td>\n",
       "      <td>10.0</td>\n",
       "      <td>1</td>\n",
       "      <td>No description yet</td>\n",
       "    </tr>\n",
       "    <tr>\n",
       "      <th>1</th>\n",
       "      <td>1</td>\n",
       "      <td>Razer BlackWidow Chroma Keyboard</td>\n",
       "      <td>3</td>\n",
       "      <td>Electronics/Computers &amp; Tablets/Components &amp; P...</td>\n",
       "      <td>Razer</td>\n",
       "      <td>52.0</td>\n",
       "      <td>0</td>\n",
       "      <td>This keyboard is in great condition and works ...</td>\n",
       "    </tr>\n",
       "    <tr>\n",
       "      <th>2</th>\n",
       "      <td>2</td>\n",
       "      <td>AVA-VIV Blouse</td>\n",
       "      <td>1</td>\n",
       "      <td>Women/Tops &amp; Blouses/Blouse</td>\n",
       "      <td>Target</td>\n",
       "      <td>10.0</td>\n",
       "      <td>1</td>\n",
       "      <td>Adorable top with a hint of lace and a key hol...</td>\n",
       "    </tr>\n",
       "    <tr>\n",
       "      <th>3</th>\n",
       "      <td>3</td>\n",
       "      <td>Leather Horse Statues</td>\n",
       "      <td>1</td>\n",
       "      <td>Home/Home Décor/Home Décor Accents</td>\n",
       "      <td>NaN</td>\n",
       "      <td>35.0</td>\n",
       "      <td>1</td>\n",
       "      <td>New with tags. Leather horses. Retail for [rm]...</td>\n",
       "    </tr>\n",
       "    <tr>\n",
       "      <th>4</th>\n",
       "      <td>4</td>\n",
       "      <td>24K GOLD plated rose</td>\n",
       "      <td>1</td>\n",
       "      <td>Women/Jewelry/Necklaces</td>\n",
       "      <td>NaN</td>\n",
       "      <td>44.0</td>\n",
       "      <td>0</td>\n",
       "      <td>Complete with certificate of authenticity</td>\n",
       "    </tr>\n",
       "  </tbody>\n",
       "</table>\n",
       "</div>"
      ],
      "text/plain": [
       "   train_id                                 name  item_condition_id  \\\n",
       "0         0  MLB Cincinnati Reds T Shirt Size XL                  3   \n",
       "1         1     Razer BlackWidow Chroma Keyboard                  3   \n",
       "2         2                       AVA-VIV Blouse                  1   \n",
       "3         3                Leather Horse Statues                  1   \n",
       "4         4                 24K GOLD plated rose                  1   \n",
       "\n",
       "                                       category_name brand_name  price  \\\n",
       "0                                  Men/Tops/T-shirts        NaN   10.0   \n",
       "1  Electronics/Computers & Tablets/Components & P...      Razer   52.0   \n",
       "2                        Women/Tops & Blouses/Blouse     Target   10.0   \n",
       "3                 Home/Home Décor/Home Décor Accents        NaN   35.0   \n",
       "4                            Women/Jewelry/Necklaces        NaN   44.0   \n",
       "\n",
       "   shipping                                   item_description  \n",
       "0         1                                 No description yet  \n",
       "1         0  This keyboard is in great condition and works ...  \n",
       "2         1  Adorable top with a hint of lace and a key hol...  \n",
       "3         1  New with tags. Leather horses. Retail for [rm]...  \n",
       "4         0          Complete with certificate of authenticity  "
      ]
     },
     "execution_count": 3,
     "metadata": {},
     "output_type": "execute_result"
    }
   ],
   "source": [
    "train_df.head(5)"
   ]
  },
  {
   "cell_type": "code",
   "execution_count": 4,
   "metadata": {},
   "outputs": [
    {
     "data": {
      "text/plain": [
       "train_id                  0\n",
       "name                      0\n",
       "item_condition_id         0\n",
       "category_name          6327\n",
       "brand_name           632682\n",
       "price                     0\n",
       "shipping                  0\n",
       "item_description          4\n",
       "dtype: int64"
      ]
     },
     "execution_count": 4,
     "metadata": {},
     "output_type": "execute_result"
    }
   ],
   "source": [
    "train_df.isnull().sum()"
   ]
  },
  {
   "cell_type": "code",
   "execution_count": 5,
   "metadata": {},
   "outputs": [],
   "source": [
    "train_df = train_df.dropna(subset=['category_name'])"
   ]
  },
  {
   "cell_type": "code",
   "execution_count": 6,
   "metadata": {},
   "outputs": [
    {
     "data": {
      "text/plain": [
       "train_id                  0\n",
       "name                      0\n",
       "item_condition_id         0\n",
       "category_name             0\n",
       "brand_name           629225\n",
       "price                     0\n",
       "shipping                  0\n",
       "item_description          4\n",
       "dtype: int64"
      ]
     },
     "execution_count": 6,
     "metadata": {},
     "output_type": "execute_result"
    }
   ],
   "source": [
    "train_df.isnull().sum()"
   ]
  },
  {
   "cell_type": "code",
   "execution_count": 8,
   "metadata": {
    "collapsed": true
   },
   "outputs": [],
   "source": [
    "def get_first_category_name(x):\n",
    "    category_name = str(x['category_name'])\n",
    "    return category_name.split('/')[0]"
   ]
  },
  {
   "cell_type": "code",
   "execution_count": 9,
   "metadata": {
    "collapsed": true
   },
   "outputs": [],
   "source": [
    "# category_nameの第一カテゴリを抜き取る\n",
    "#train_df['category_name']=train_df[['category_name']].fillna(\"Unknown\")\n",
    "train_df['first_category_name'] =  train_df.apply(lambda x: get_first_category_name(x), axis=1)"
   ]
  },
  {
   "cell_type": "code",
   "execution_count": 10,
   "metadata": {},
   "outputs": [
    {
     "data": {
      "text/plain": [
       "Women                     664385\n",
       "Beauty                    207828\n",
       "Kids                      171689\n",
       "Electronics               122690\n",
       "Men                        93680\n",
       "Home                       67871\n",
       "Vintage & Collectibles     46530\n",
       "Other                      45351\n",
       "Handmade                   30842\n",
       "Sports & Outdoors          25342\n",
       "Name: first_category_name, dtype: int64"
      ]
     },
     "execution_count": 10,
     "metadata": {},
     "output_type": "execute_result"
    }
   ],
   "source": [
    "train_df['first_category_name'].value_counts()"
   ]
  },
  {
   "cell_type": "code",
   "execution_count": 11,
   "metadata": {
    "collapsed": true
   },
   "outputs": [],
   "source": [
    "from sklearn import preprocessing\n",
    "le = preprocessing.LabelEncoder()\n",
    "\n",
    "train_df['onehot_first_category_name'] = train_df[['first_category_name']].apply(le.fit_transform)"
   ]
  },
  {
   "cell_type": "code",
   "execution_count": 12,
   "metadata": {},
   "outputs": [],
   "source": [
    "key = np.arange(le.classes_.shape[0])\n",
    "le_dict = dict(zip(key,le.classes_))"
   ]
  },
  {
   "cell_type": "code",
   "execution_count": 13,
   "metadata": {},
   "outputs": [
    {
     "data": {
      "text/plain": [
       "{0: 'Beauty',\n",
       " 1: 'Electronics',\n",
       " 2: 'Handmade',\n",
       " 3: 'Home',\n",
       " 4: 'Kids',\n",
       " 5: 'Men',\n",
       " 6: 'Other',\n",
       " 7: 'Sports & Outdoors',\n",
       " 8: 'Vintage & Collectibles',\n",
       " 9: 'Women'}"
      ]
     },
     "execution_count": 13,
     "metadata": {},
     "output_type": "execute_result"
    }
   ],
   "source": [
    "le_dict"
   ]
  },
  {
   "cell_type": "code",
   "execution_count": 15,
   "metadata": {},
   "outputs": [
    {
     "data": {
      "text/html": [
       "<div>\n",
       "<style>\n",
       "    .dataframe thead tr:only-child th {\n",
       "        text-align: right;\n",
       "    }\n",
       "\n",
       "    .dataframe thead th {\n",
       "        text-align: left;\n",
       "    }\n",
       "\n",
       "    .dataframe tbody tr th {\n",
       "        vertical-align: top;\n",
       "    }\n",
       "</style>\n",
       "<table border=\"1\" class=\"dataframe\">\n",
       "  <thead>\n",
       "    <tr style=\"text-align: right;\">\n",
       "      <th></th>\n",
       "      <th>train_id</th>\n",
       "      <th>name</th>\n",
       "      <th>item_condition_id</th>\n",
       "      <th>category_name</th>\n",
       "      <th>brand_name</th>\n",
       "      <th>price</th>\n",
       "      <th>shipping</th>\n",
       "      <th>item_description</th>\n",
       "      <th>first_category_name</th>\n",
       "      <th>onehot_first_category_name</th>\n",
       "    </tr>\n",
       "  </thead>\n",
       "  <tbody>\n",
       "    <tr>\n",
       "      <th>0</th>\n",
       "      <td>0</td>\n",
       "      <td>MLB Cincinnati Reds T Shirt Size XL</td>\n",
       "      <td>3</td>\n",
       "      <td>Men/Tops/T-shirts</td>\n",
       "      <td>NaN</td>\n",
       "      <td>10.0</td>\n",
       "      <td>1</td>\n",
       "      <td>No description yet</td>\n",
       "      <td>Men</td>\n",
       "      <td>5</td>\n",
       "    </tr>\n",
       "    <tr>\n",
       "      <th>1</th>\n",
       "      <td>1</td>\n",
       "      <td>Razer BlackWidow Chroma Keyboard</td>\n",
       "      <td>3</td>\n",
       "      <td>Electronics/Computers &amp; Tablets/Components &amp; P...</td>\n",
       "      <td>Razer</td>\n",
       "      <td>52.0</td>\n",
       "      <td>0</td>\n",
       "      <td>This keyboard is in great condition and works ...</td>\n",
       "      <td>Electronics</td>\n",
       "      <td>1</td>\n",
       "    </tr>\n",
       "    <tr>\n",
       "      <th>2</th>\n",
       "      <td>2</td>\n",
       "      <td>AVA-VIV Blouse</td>\n",
       "      <td>1</td>\n",
       "      <td>Women/Tops &amp; Blouses/Blouse</td>\n",
       "      <td>Target</td>\n",
       "      <td>10.0</td>\n",
       "      <td>1</td>\n",
       "      <td>Adorable top with a hint of lace and a key hol...</td>\n",
       "      <td>Women</td>\n",
       "      <td>9</td>\n",
       "    </tr>\n",
       "    <tr>\n",
       "      <th>3</th>\n",
       "      <td>3</td>\n",
       "      <td>Leather Horse Statues</td>\n",
       "      <td>1</td>\n",
       "      <td>Home/Home Décor/Home Décor Accents</td>\n",
       "      <td>NaN</td>\n",
       "      <td>35.0</td>\n",
       "      <td>1</td>\n",
       "      <td>New with tags. Leather horses. Retail for [rm]...</td>\n",
       "      <td>Home</td>\n",
       "      <td>3</td>\n",
       "    </tr>\n",
       "    <tr>\n",
       "      <th>4</th>\n",
       "      <td>4</td>\n",
       "      <td>24K GOLD plated rose</td>\n",
       "      <td>1</td>\n",
       "      <td>Women/Jewelry/Necklaces</td>\n",
       "      <td>NaN</td>\n",
       "      <td>44.0</td>\n",
       "      <td>0</td>\n",
       "      <td>Complete with certificate of authenticity</td>\n",
       "      <td>Women</td>\n",
       "      <td>9</td>\n",
       "    </tr>\n",
       "  </tbody>\n",
       "</table>\n",
       "</div>"
      ],
      "text/plain": [
       "   train_id                                 name  item_condition_id  \\\n",
       "0         0  MLB Cincinnati Reds T Shirt Size XL                  3   \n",
       "1         1     Razer BlackWidow Chroma Keyboard                  3   \n",
       "2         2                       AVA-VIV Blouse                  1   \n",
       "3         3                Leather Horse Statues                  1   \n",
       "4         4                 24K GOLD plated rose                  1   \n",
       "\n",
       "                                       category_name brand_name  price  \\\n",
       "0                                  Men/Tops/T-shirts        NaN   10.0   \n",
       "1  Electronics/Computers & Tablets/Components & P...      Razer   52.0   \n",
       "2                        Women/Tops & Blouses/Blouse     Target   10.0   \n",
       "3                 Home/Home Décor/Home Décor Accents        NaN   35.0   \n",
       "4                            Women/Jewelry/Necklaces        NaN   44.0   \n",
       "\n",
       "   shipping                                   item_description  \\\n",
       "0         1                                 No description yet   \n",
       "1         0  This keyboard is in great condition and works ...   \n",
       "2         1  Adorable top with a hint of lace and a key hol...   \n",
       "3         1  New with tags. Leather horses. Retail for [rm]...   \n",
       "4         0          Complete with certificate of authenticity   \n",
       "\n",
       "  first_category_name  onehot_first_category_name  \n",
       "0                 Men                           5  \n",
       "1         Electronics                           1  \n",
       "2               Women                           9  \n",
       "3                Home                           3  \n",
       "4               Women                           9  "
      ]
     },
     "execution_count": 15,
     "metadata": {},
     "output_type": "execute_result"
    }
   ],
   "source": [
    "train_df.head(5)"
   ]
  },
  {
   "cell_type": "code",
   "execution_count": 101,
   "metadata": {
    "collapsed": true
   },
   "outputs": [],
   "source": [
    "itemname = list(train_df['name'][:100000])"
   ]
  },
  {
   "cell_type": "code",
   "execution_count": 102,
   "metadata": {},
   "outputs": [],
   "source": [
    "pre_itemname = []\n",
    "# gensim.parsing.preprocess_string(文字列)は以下の関数を実行した結果を返してくれる\n",
    "# strip_tags() : <a>hoge</hoge>といったhtmlのタグを消してくれる\n",
    "# strip_punctuation() : ,や!といった記号を消してくれる\n",
    "# strip_multiple_whitespaces() : \\rや\\nといった空白文字を消してくれる\n",
    "# strip_numeric() : 文字列の中にある数字を消してくれる\n",
    "# remove_stopwords() : am や but　といったストップワードと呼ばれる単語を削除してくれる\n",
    "# strip_short() : 一定の長さを持たない単語を削除する(デフォルトでは３)\n",
    "# stem_text() : ステミング(useやuseful,usingなら -> us)を行ってくれる\n",
    "for i in itemname:\n",
    "    pre_itemname.append(gensim.parsing.preprocess_string(i))"
   ]
  },
  {
   "cell_type": "code",
   "execution_count": 103,
   "metadata": {},
   "outputs": [
    {
     "name": "stdout",
     "output_type": "stream",
     "text": [
      "MLB Cincinnati Reds T Shirt Size XL\n",
      "['mlb', 'cincinnati', 'red', 'shirt', 'size'] \n",
      "\n",
      "Razer BlackWidow Chroma Keyboard\n",
      "['razer', 'blackwidow', 'chroma', 'keyboard'] \n",
      "\n",
      "AVA-VIV Blouse\n",
      "['ava', 'viv', 'blous'] \n",
      "\n",
      "Leather Horse Statues\n",
      "['leather', 'hors', 'statu'] \n",
      "\n",
      "24K GOLD plated rose\n",
      "['gold', 'plate', 'rose'] \n",
      "\n"
     ]
    }
   ],
   "source": [
    "for i in range(0,5):\n",
    "    print(itemname[i])\n",
    "    print(pre_itemname[i],'\\n')"
   ]
  },
  {
   "cell_type": "code",
   "execution_count": 104,
   "metadata": {},
   "outputs": [],
   "source": [
    "import collections\n",
    "import re\n",
    "\n",
    "def TF(desc,terms,norm=False):\n",
    "    tf_dict = {}\n",
    "    d = desc.lower()\n",
    "    for term in terms:\n",
    "        i = 0\n",
    "        for m in re.finditer(term,d):\n",
    "            i += 1\n",
    "        if i > 0 and norm==False:\n",
    "            tf_dict[term] = i\n",
    "        elif i > 0 and norm==True:\n",
    "            tf_dict[term] = i/len(set(d.split(' ')))\n",
    "    return tf_dict"
   ]
  },
  {
   "cell_type": "code",
   "execution_count": 105,
   "metadata": {},
   "outputs": [],
   "source": [
    "tf_dict = {}\n",
    "for i in range(0,len(pre_itemname)):\n",
    "    tf_dict[i] = TF(itemname[i],pre_itemname[i],norm=False)"
   ]
  },
  {
   "cell_type": "code",
   "execution_count": 106,
   "metadata": {},
   "outputs": [
    {
     "name": "stdout",
     "output_type": "stream",
     "text": [
      "{'mlb': 1, 'cincinnati': 1, 'red': 1, 'shirt': 1, 'size': 1}\n",
      "{'razer': 1, 'blackwidow': 1, 'chroma': 1, 'keyboard': 1}\n",
      "{'ava': 1, 'viv': 1, 'blous': 1}\n",
      "{'leather': 1, 'hors': 1, 'statu': 1}\n",
      "{'gold': 1, 'plate': 1, 'rose': 1}\n"
     ]
    }
   ],
   "source": [
    "for i in range(0,5):\n",
    "    print(tf_dict[i])"
   ]
  },
  {
   "cell_type": "code",
   "execution_count": 107,
   "metadata": {
    "collapsed": true
   },
   "outputs": [],
   "source": [
    "def get_terms_dict(doc):    \n",
    "    d = collections.defaultdict(int)\n",
    "    for i in doc:\n",
    "        # 重複はカウントしない\n",
    "        terms = set(i)\n",
    "        for term in terms:\n",
    "            d[term] += 1\n",
    "    return d"
   ]
  },
  {
   "cell_type": "code",
   "execution_count": 108,
   "metadata": {
    "collapsed": true
   },
   "outputs": [],
   "source": [
    "def IDF(terms_dict,term,doc_num):\n",
    "    return (1+np.log2(doc_num/terms_dict[term]))"
   ]
  },
  {
   "cell_type": "code",
   "execution_count": 109,
   "metadata": {
    "scrolled": false
   },
   "outputs": [],
   "source": [
    "doc_num = len(pre_itemname)\n",
    "terms_dict = get_terms_dict(pre_itemname)"
   ]
  },
  {
   "cell_type": "code",
   "execution_count": 110,
   "metadata": {},
   "outputs": [
    {
     "data": {
      "text/plain": [
       "21"
      ]
     },
     "execution_count": 110,
     "metadata": {},
     "output_type": "execute_result"
    }
   ],
   "source": [
    "terms_dict['mlb']"
   ]
  },
  {
   "cell_type": "code",
   "execution_count": 111,
   "metadata": {},
   "outputs": [],
   "source": [
    "idf_dict = {}\n",
    "for k,v in terms_dict.items():\n",
    "    idf_dict[k] = IDF(terms_dict,k,doc_num)"
   ]
  },
  {
   "cell_type": "code",
   "execution_count": 112,
   "metadata": {},
   "outputs": [
    {
     "name": "stdout",
     "output_type": "stream",
     "text": [
      "mlb : \n",
      "コーパスでの出現回数 : 21, IDF値 : 13.21732305165805\n",
      "\n",
      "cincinnati : \n",
      "コーパスでの出現回数 : 14, IDF値 : 13.802285552379209\n",
      "\n",
      "red : \n",
      "コーパスでの出現回数 : 932, IDF値 : 7.745454329782532\n",
      "\n",
      "shirt : \n",
      "コーパスでの出現回数 : 2874, IDF値 : 6.120796127979475\n",
      "\n",
      "size : \n",
      "コーパスでの出現回数 : 5043, IDF値 : 5.309573964479489\n",
      "\n",
      "razer : \n",
      "コーパスでの出現回数 : 11, IDF値 : 14.150208855799514\n",
      "\n",
      "blackwidow : \n",
      "コーパスでの出現回数 : 3, IDF値 : 16.024677973715654\n",
      "\n",
      "chroma : \n",
      "コーパスでの出現回数 : 6, IDF値 : 15.024677973715656\n",
      "\n",
      "keyboard : \n",
      "コーパスでの出現回数 : 48, IDF値 : 12.024677973715656\n",
      "\n",
      "ava : \n",
      "コーパスでの出現回数 : 10, IDF値 : 14.287712379549449\n",
      "\n",
      "viv : \n",
      "コーパスでの出現回数 : 6, IDF値 : 15.024677973715656\n",
      "\n",
      "blous : \n",
      "コーパスでの出現回数 : 367, IDF値 : 9.090004221593599\n",
      "\n",
      "leather : \n",
      "コーパスでの出現回数 : 634, IDF値 : 8.301301444297405\n",
      "\n",
      "hors : \n",
      "コーパスでの出現回数 : 34, IDF値 : 12.522177633186473\n",
      "\n",
      "statu : \n",
      "コーパスでの出現回数 : 16, IDF値 : 13.609640474436812\n",
      "\n",
      "gold : \n",
      "コーパスでの出現回数 : 1176, IDF値 : 7.409968129600448\n",
      "\n",
      "plate : \n",
      "コーパスでの出現回数 : 137, IDF値 : 10.511608391476285\n",
      "\n",
      "rose : \n",
      "コーパスでの出現回数 : 613, IDF値 : 8.349897210746029\n",
      "\n"
     ]
    }
   ],
   "source": [
    "for i in range(0,5):\n",
    "    for k,v in tf_dict[i].items():\n",
    "        print(\"{0} : \\nコーパスでの出現回数 : {1}, IDF値 : {2}\\n\".format(k,terms_dict[k],idf_dict[k]))"
   ]
  },
  {
   "cell_type": "code",
   "execution_count": 113,
   "metadata": {
    "collapsed": true
   },
   "outputs": [],
   "source": [
    "def TFIDF(tf,idf):\n",
    "    tfidf_dict = {}\n",
    "    tf_list = list(tf.items())\n",
    "    for t in tf_list:\n",
    "        tmp_dict = {}\n",
    "        for k,v in t[1].items():\n",
    "            tmp_dict[k] = v*idf[k]\n",
    "        tfidf_dict[t[0]] = tmp_dict\n",
    "    return tfidf_dict"
   ]
  },
  {
   "cell_type": "code",
   "execution_count": 114,
   "metadata": {},
   "outputs": [],
   "source": [
    "tfidf_dict = TFIDF(tf_dict,idf_dict)"
   ]
  },
  {
   "cell_type": "code",
   "execution_count": 115,
   "metadata": {},
   "outputs": [
    {
     "name": "stdout",
     "output_type": "stream",
     "text": [
      "TFIDF値 : {'mlb': 13.217323051658051, 'cincinnati': 13.802285552379209, 'red': 7.7454543297825316, 'shirt': 6.1207961279794754, 'size': 5.3095739644794886}\n",
      "\n",
      "TFIDF値 : {'razer': 14.150208855799514, 'blackwidow': 16.024677973715654, 'chroma': 15.024677973715656, 'keyboard': 12.024677973715656}\n",
      "\n",
      "TFIDF値 : {'ava': 14.287712379549449, 'viv': 15.024677973715656, 'blous': 9.090004221593599}\n",
      "\n",
      "TFIDF値 : {'leather': 8.3013014442974047, 'hors': 12.522177633186473, 'statu': 13.609640474436812}\n",
      "\n",
      "TFIDF値 : {'gold': 7.4099681296004478, 'plate': 10.511608391476285, 'rose': 8.349897210746029}\n",
      "\n"
     ]
    }
   ],
   "source": [
    "for i in range(0,5):\n",
    "    print(\"TFIDF値 : {0}\\n\".format(tfidf_dict[i]))"
   ]
  },
  {
   "cell_type": "code",
   "execution_count": 120,
   "metadata": {},
   "outputs": [
    {
     "name": "stdout",
     "output_type": "stream",
     "text": [
      "MLB Cincinnati Reds T Shirt Size XL \n",
      "\n",
      "TFIDF : {'mlb': 13.217323051658051, 'cincinnati': 13.802285552379209, 'red': 7.7454543297825316, 'shirt': 6.1207961279794754, 'size': 5.3095739644794886}\n",
      "\n",
      "TF : {'mlb': 1, 'cincinnati': 1, 'red': 1, 'shirt': 1, 'size': 1}\n",
      "\n",
      "Razer BlackWidow Chroma Keyboard \n",
      "\n",
      "TFIDF : {'razer': 14.150208855799514, 'blackwidow': 16.024677973715654, 'chroma': 15.024677973715656, 'keyboard': 12.024677973715656}\n",
      "\n",
      "TF : {'razer': 1, 'blackwidow': 1, 'chroma': 1, 'keyboard': 1}\n",
      "\n",
      "AVA-VIV Blouse \n",
      "\n",
      "TFIDF : {'ava': 14.287712379549449, 'viv': 15.024677973715656, 'blous': 9.090004221593599}\n",
      "\n",
      "TF : {'ava': 1, 'viv': 1, 'blous': 1}\n",
      "\n",
      "Leather Horse Statues \n",
      "\n",
      "TFIDF : {'leather': 8.3013014442974047, 'hors': 12.522177633186473, 'statu': 13.609640474436812}\n",
      "\n",
      "TF : {'leather': 1, 'hors': 1, 'statu': 1}\n",
      "\n",
      "24K GOLD plated rose \n",
      "\n",
      "TFIDF : {'gold': 7.4099681296004478, 'plate': 10.511608391476285, 'rose': 8.349897210746029}\n",
      "\n",
      "TF : {'gold': 1, 'plate': 1, 'rose': 1}\n",
      "\n"
     ]
    }
   ],
   "source": [
    "for i in range(0,5):\n",
    "    print(itemname[i],'\\n')\n",
    "    print('TFIDF : {0}\\n'.format(tfidf_dict[i]))\n",
    "    print('TF : {0}\\n'.format(tf_dict[i]))"
   ]
  },
  {
   "cell_type": "code",
   "execution_count": 121,
   "metadata": {},
   "outputs": [
    {
     "name": "stdout",
     "output_type": "stream",
     "text": [
      "19797\n"
     ]
    }
   ],
   "source": [
    "itemname_corpora_dict = gensim.corpora.Dictionary(pre_itemname)\n",
    "print(len(itemname_corpora_dict))"
   ]
  },
  {
   "cell_type": "code",
   "execution_count": 122,
   "metadata": {},
   "outputs": [
    {
     "data": {
      "text/plain": [
       "(5103, 5103)"
      ]
     },
     "execution_count": 122,
     "metadata": {},
     "output_type": "execute_result"
    }
   ],
   "source": [
    "# 自分で作ったコーパス内での用語出現回数リストとライブラリで作ったものの用語出現回数リストが合致しているかチェック\n",
    "itemname_corpora_dict.dfs[itemname_corpora_dict.token2id['new']],terms_dict['new']"
   ]
  },
  {
   "cell_type": "code",
   "execution_count": 123,
   "metadata": {},
   "outputs": [],
   "source": [
    "bow_dict = {}\n",
    "for i in range(0,len(pre_itemname)):\n",
    "    bow_dict[i] = itemname_corpora_dict.doc2bow(pre_itemname[i])"
   ]
  },
  {
   "cell_type": "code",
   "execution_count": 124,
   "metadata": {},
   "outputs": [
    {
     "data": {
      "text/plain": [
       "([(9, 1), (10, 1), (11, 1)], ['ava', 'viv', 'blous'])"
      ]
     },
     "execution_count": 124,
     "metadata": {},
     "output_type": "execute_result"
    }
   ],
   "source": [
    "bow_dict[2],pre_itemname[2]"
   ]
  },
  {
   "cell_type": "code",
   "execution_count": 125,
   "metadata": {},
   "outputs": [],
   "source": [
    "tfidf_model = gensim.models.TfidfModel(bow_dict.values(),normalize=False)\n",
    "tfidf_corpus = tfidf_model[bow_dict.values()]"
   ]
  },
  {
   "cell_type": "code",
   "execution_count": 126,
   "metadata": {},
   "outputs": [
    {
     "name": "stdout",
     "output_type": "stream",
     "text": [
      "My TFIDF value \n",
      " {'ava': 14.287712379549449, 'viv': 15.024677973715656, 'blous': 9.090004221593599}\n",
      "gensim libraly TFIDF value\n",
      "ava 13.2877123795\n",
      "viv 14.0246779737\n",
      "blous 8.09000422159\n",
      "\n",
      " My TFIDF value \n",
      " {'leather': 8.3013014442974047, 'hors': 12.522177633186473, 'statu': 13.609640474436812}\n",
      "gensim libraly TFIDF value\n",
      "leather 7.3013014443\n",
      "hors 11.5221776332\n",
      "statu 12.6096404744\n"
     ]
    }
   ],
   "source": [
    "print(\"My TFIDF value \\n {0}\".format(tfidf_dict[2]))\n",
    "print(\"gensim libraly TFIDF value\")\n",
    "for k,v in tfidf_dict[2].items():\n",
    "    for i in tfidf_model[bow_dict[2]]:\n",
    "        if i[0] == itemname_corpora_dict.token2id[k]:\n",
    "            print(k,i[1])\n",
    "print(\"\\n My TFIDF value \\n {0}\".format(tfidf_dict[3]))\n",
    "print(\"gensim libraly TFIDF value\")\n",
    "for k,v in tfidf_dict[3].items():\n",
    "    for i in tfidf_model[bow_dict[3]]:\n",
    "        if i[0] == itemname_corpora_dict.token2id[k]:\n",
    "            print(k,i[1])"
   ]
  },
  {
   "cell_type": "code",
   "execution_count": 127,
   "metadata": {
    "collapsed": true
   },
   "outputs": [],
   "source": [
    "itemname_corpora_dict.filter_extremes(no_below=3,no_above=0.6)\n",
    "bow_dict = {}\n",
    "for i in range(0,len(pre_itemname)):\n",
    "    bow_dict[i] = itemname_corpora_dict.doc2bow(pre_itemname[i])"
   ]
  },
  {
   "cell_type": "code",
   "execution_count": 128,
   "metadata": {
    "collapsed": true
   },
   "outputs": [],
   "source": [
    "tfidf_model = gensim.models.TfidfModel(bow_dict.values(),normalize=True)\n",
    "tfidf_corpus = tfidf_model[bow_dict.values()]"
   ]
  },
  {
   "cell_type": "code",
   "execution_count": 129,
   "metadata": {},
   "outputs": [
    {
     "name": "stdout",
     "output_type": "stream",
     "text": [
      "(7174, 100000)\n"
     ]
    }
   ],
   "source": [
    "feature_vec = gensim.matutils.corpus2dense(list(tfidf_corpus), num_terms=len(itemname_corpora_dict))\n",
    "print(feature_vec.shape)"
   ]
  },
  {
   "cell_type": "code",
   "execution_count": 130,
   "metadata": {},
   "outputs": [
    {
     "name": "stdout",
     "output_type": "stream",
     "text": [
      "(100000, 7174)\n"
     ]
    }
   ],
   "source": [
    "feature_vec = feature_vec.T\n",
    "print(feature_vec.shape)"
   ]
  },
  {
   "cell_type": "code",
   "execution_count": 131,
   "metadata": {},
   "outputs": [
    {
     "data": {
      "text/plain": [
       "((100000, 7174), (100000,))"
      ]
     },
     "execution_count": 131,
     "metadata": {},
     "output_type": "execute_result"
    }
   ],
   "source": [
    "labels = np.array(list(train_df['onehot_first_category_name']))[:feature_vec.shape[0]]\n",
    "feature_vec.shape,labels.shape"
   ]
  },
  {
   "cell_type": "code",
   "execution_count": 132,
   "metadata": {
    "collapsed": true
   },
   "outputs": [],
   "source": [
    "X_train = feature_vec[:80000]\n",
    "y_train = labels[:80000]\n",
    "X_test = feature_vec[80000:]\n",
    "y_test = labels[80000:]"
   ]
  },
  {
   "cell_type": "code",
   "execution_count": 133,
   "metadata": {},
   "outputs": [],
   "source": [
    "# TFIDFで重み付けしたもので分類\n",
    "from sklearn.grid_search import GridSearchCV\n",
    "from sklearn.cross_validation import StratifiedKFold\n",
    "from sklearn.linear_model import SGDClassifier\n",
    "clf = GridSearchCV(SGDClassifier(penalty=\"l2\"), param_grid={'alpha':[0.01,0.05,0.001,0.0001]})"
   ]
  },
  {
   "cell_type": "code",
   "execution_count": 134,
   "metadata": {},
   "outputs": [
    {
     "name": "stdout",
     "output_type": "stream",
     "text": [
      "1 finished. test accuracy : 0.7737262737262737\n",
      "2 finished. test accuracy : 0.7909068198850862\n",
      "3 finished. test accuracy : 0.78525\n",
      "4 finished. test accuracy : 0.7850888166124593\n",
      "5 finished. test accuracy : 0.7862862862862863\n"
     ]
    }
   ],
   "source": [
    "# StratifiedKFold(y, n_folds, shuffle=True) 交差検証用にデータを分割してくれる\n",
    "for i, (itr, ite) in enumerate(StratifiedKFold(y_test,n_folds=5, shuffle=True)):\n",
    "    clf.fit(X_train[itr], y_train[itr])\n",
    "    train_pred = clf.predict(X_train[ite])\n",
    "    train_acc = metrics.accuracy_score(train_pred,y_train[ite])\n",
    "    print(\"{0} finished. test accuracy : {1}\".format(i+1,train_acc))"
   ]
  },
  {
   "cell_type": "code",
   "execution_count": 135,
   "metadata": {},
   "outputs": [
    {
     "name": "stdout",
     "output_type": "stream",
     "text": [
      "0.78095\n"
     ]
    }
   ],
   "source": [
    "ypred = clf.predict(X_test)\n",
    "accuracy = metrics.accuracy_score(y_test,ypred)\n",
    "print(accuracy)"
   ]
  },
  {
   "cell_type": "code",
   "execution_count": 136,
   "metadata": {},
   "outputs": [
    {
     "data": {
      "text/plain": [
       "array(['Beauty', 'Electronics', 'Handmade', 'Home', 'Kids', 'Men', 'Other',\n",
       "       'Sports & Outdoors', 'Vintage & Collectibles', 'Women'], dtype=object)"
      ]
     },
     "execution_count": 136,
     "metadata": {},
     "output_type": "execute_result"
    }
   ],
   "source": [
    "le.classes_"
   ]
  },
  {
   "cell_type": "code",
   "execution_count": 137,
   "metadata": {},
   "outputs": [
    {
     "name": "stdout",
     "output_type": "stream",
     "text": [
      "                        precision    recall  f1-score   support\n",
      "\n",
      "                Beauty       0.83      0.88      0.86      2862\n",
      "           Electronics       0.87      0.85      0.86      1630\n",
      "              Handmade       0.56      0.07      0.13       391\n",
      "                  Home       0.72      0.59      0.65       943\n",
      "                  Kids       0.78      0.61      0.69      2277\n",
      "                   Men       0.77      0.42      0.55      1303\n",
      "                 Other       0.70      0.36      0.48       587\n",
      "     Sports & Outdoors       0.60      0.31      0.41       339\n",
      "Vintage & Collectibles       0.43      0.19      0.26       588\n",
      "                 Women       0.77      0.96      0.86      9080\n",
      "\n",
      "           avg / total       0.77      0.78      0.76     20000\n",
      "\n"
     ]
    }
   ],
   "source": [
    "print(metrics.classification_report(y_test,ypred,target_names=le.classes_))"
   ]
  },
  {
   "cell_type": "code",
   "execution_count": 138,
   "metadata": {},
   "outputs": [],
   "source": [
    "# 重み付けなし\n",
    "feature_vec2 = gensim.matutils.corpus2dense(list(bow_dict.values()), num_terms=len(itemname_corpora_dict))"
   ]
  },
  {
   "cell_type": "code",
   "execution_count": 139,
   "metadata": {},
   "outputs": [
    {
     "data": {
      "text/plain": [
       "((100000, 7174), (100000,))"
      ]
     },
     "execution_count": 139,
     "metadata": {},
     "output_type": "execute_result"
    }
   ],
   "source": [
    "feature_vec2 = feature_vec2.T\n",
    "feature_vec2.shape,labels.shape"
   ]
  },
  {
   "cell_type": "code",
   "execution_count": 140,
   "metadata": {
    "collapsed": true
   },
   "outputs": [],
   "source": [
    "X_train2 = feature_vec2[:80000]\n",
    "y_train2 = labels[:80000]\n",
    "X_test2 = feature_vec2[80000:]\n",
    "y_test2 = labels[80000:]"
   ]
  },
  {
   "cell_type": "code",
   "execution_count": 142,
   "metadata": {},
   "outputs": [
    {
     "name": "stdout",
     "output_type": "stream",
     "text": [
      "1 finished. test accuracy : 0.7882117882117882\n",
      "2 finished. test accuracy : 0.7706719960029977\n",
      "3 finished. test accuracy : 0.78125\n",
      "4 finished. test accuracy : 0.7838378784088066\n",
      "5 finished. test accuracy : 0.7837837837837838\n"
     ]
    }
   ],
   "source": [
    "clf = GridSearchCV(SGDClassifier(penalty='l2'), param_grid={'alpha':[0.01,0.05,0.001,0.0001]})\n",
    "\n",
    "for i, (itr, ite) in enumerate(StratifiedKFold(y_test,n_folds=5, shuffle=True)):\n",
    "    clf.fit(X_train2[itr], y_train2[itr])\n",
    "    train_pred = clf.predict(X_train2[ite])\n",
    "    train_acc = metrics.accuracy_score(train_pred,y_train2[ite])\n",
    "    print(\"{0} finished. test accuracy : {1}\".format(i+1,train_acc))"
   ]
  },
  {
   "cell_type": "code",
   "execution_count": 144,
   "metadata": {},
   "outputs": [
    {
     "name": "stdout",
     "output_type": "stream",
     "text": [
      "0.7827\n"
     ]
    }
   ],
   "source": [
    "ypred = clf.predict(X_test2)\n",
    "accuracy = metrics.accuracy_score(y_test2,ypred)\n",
    "print(accuracy)"
   ]
  },
  {
   "cell_type": "code",
   "execution_count": 145,
   "metadata": {},
   "outputs": [
    {
     "name": "stdout",
     "output_type": "stream",
     "text": [
      "                        precision    recall  f1-score   support\n",
      "\n",
      "                Beauty       0.88      0.86      0.87      2862\n",
      "           Electronics       0.87      0.83      0.85      1630\n",
      "              Handmade       0.48      0.26      0.34       391\n",
      "                  Home       0.74      0.60      0.67       943\n",
      "                  Kids       0.76      0.62      0.69      2277\n",
      "                   Men       0.72      0.49      0.59      1303\n",
      "                 Other       0.64      0.39      0.48       587\n",
      "     Sports & Outdoors       0.70      0.28      0.40       339\n",
      "Vintage & Collectibles       0.39      0.22      0.29       588\n",
      "                 Women       0.78      0.95      0.86      9080\n",
      "\n",
      "           avg / total       0.77      0.78      0.77     20000\n",
      "\n"
     ]
    }
   ],
   "source": [
    "print(metrics.classification_report(y_test,ypred,target_names=le.classes_))"
   ]
  }
 ],
 "metadata": {
  "kernelspec": {
   "display_name": "Python 3",
   "language": "python",
   "name": "python3"
  },
  "language_info": {
   "codemirror_mode": {
    "name": "ipython",
    "version": 3
   },
   "file_extension": ".py",
   "mimetype": "text/x-python",
   "name": "python",
   "nbconvert_exporter": "python",
   "pygments_lexer": "ipython3",
   "version": "3.6.2"
  }
 },
 "nbformat": 4,
 "nbformat_minor": 2
}
