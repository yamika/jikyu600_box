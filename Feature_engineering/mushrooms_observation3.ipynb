{
 "cells": [
  {
   "cell_type": "code",
   "execution_count": 1,
   "metadata": {
    "collapsed": true
   },
   "outputs": [],
   "source": [
    "import numpy as np\n",
    "import pandas as pd\n",
    "import seaborn as sns\n",
    "import matplotlib.pyplot as plt\n",
    "import tensorflow as tf\n",
    "%matplotlib inline"
   ]
  },
  {
   "cell_type": "code",
   "execution_count": 2,
   "metadata": {
    "collapsed": true
   },
   "outputs": [],
   "source": [
    "# CSVファイル読み込み\n",
    "df = pd.read_csv('new_mushrooms.csv')"
   ]
  },
  {
   "cell_type": "code",
   "execution_count": 3,
   "metadata": {
    "collapsed": true
   },
   "outputs": [],
   "source": [
    "# Unnamed が邪魔なので削除する\n",
    "drop_columns = ['Unnamed: 0']\n",
    "df = df.drop(drop_columns, axis=1)"
   ]
  },
  {
   "cell_type": "code",
   "execution_count": 4,
   "metadata": {},
   "outputs": [
    {
     "name": "stdout",
     "output_type": "stream",
     "text": [
      "訓練データ : \n",
      " 0    2966\n",
      "1    2720\n",
      "Name: class, dtype: int64\n",
      "テストデータ : \n",
      " 0    1242\n",
      "1    1196\n",
      "Name: class, dtype: int64\n"
     ]
    }
   ],
   "source": [
    "# データを訓練データ、テストデータに分割する\n",
    "from sklearn.model_selection import train_test_split\n",
    "\n",
    "train_df, test_df = train_test_split(df, test_size = 0.3)\n",
    "# indexをリセットする\n",
    "train_df = train_df.reset_index(drop=True)\n",
    "test_df = test_df.reset_index(drop=True)\n",
    "print(\"訓練データ : \\n\",train_df['class'].value_counts())\n",
    "print(\"テストデータ : \\n\",test_df['class'].value_counts())\n",
    "# 特徴として使うデータとラベルとして使うデータに分ける\n",
    "X_train = np.array(train_df.drop('class', axis=1).values).astype(np.float32)\n",
    "y_train = np.array(train_df['class'].values).astype(np.float32)\n",
    "\n",
    "X_test = np.array(test_df.drop('class', axis=1).values).astype(np.float32)\n",
    "y_test = np.array(test_df['class'].values).astype(np.float32)\n",
    "\n",
    "y_train = y_train.reshape(-1,1)\n",
    "y_test =y_test.reshape(-1,1)"
   ]
  },
  {
   "cell_type": "code",
   "execution_count": 5,
   "metadata": {
    "collapsed": true
   },
   "outputs": [],
   "source": [
    "# 入力層\n",
    "X = tf.placeholder(tf.float32, shape=[None, 6], name=\"input\")\n",
    "t = tf.placeholder(tf.float32, shape=[None, 1])\n",
    "# パラメータ1\n",
    "stddev = np.sqrt(2.0 / 6)\n",
    "W1 = tf.Variable(tf.truncated_normal([6,8], stddev=stddev))\n",
    "b1 = tf.Variable(tf.constant(0.1, shape=[1]))\n",
    "\n",
    "# パラメータ2\n",
    "stddev = np.sqrt(2.0 / 8)\n",
    "W2 = tf.Variable(tf.truncated_normal([8,1], stddev=stddev))\n",
    "b2 = tf.Variable(tf.constant(0.1, shape=[1]))\n",
    "\n",
    "layer1 = tf.matmul(X,W1) + b1\n",
    "layer2 = tf.matmul(layer1,W2) + b2\n",
    "\n",
    "p = tf.nn.sigmoid(layer2,name=\"output\")\n",
    "# 損失関数\n",
    "loss = tf.reduce_mean(tf.square(p - t))\n",
    "# 学習アルゴリズム\n",
    "optimizer = tf.train.GradientDescentOptimizer(0.01)\n",
    "train_step = optimizer.minimize(loss)\n",
    "# 精度\n",
    "correct_prediction = tf.equal(tf.sign(p-0.5), tf.sign(t-0.5))\n",
    "accuracy = tf.reduce_mean(tf.cast(correct_prediction, tf.float32))"
   ]
  },
  {
   "cell_type": "code",
   "execution_count": 6,
   "metadata": {},
   "outputs": [
    {
     "name": "stdout",
     "output_type": "stream",
     "text": [
      "[Train] step: 0, loss: 0.474276, acc: 0.521632, [Test] loss: 0.486439, acc : 0.509434\n",
      "[Train] step: 100, loss: 0.464342, acc: 0.521632, [Test] loss: 0.476400, acc : 0.509434\n",
      "[Train] step: 200, loss: 0.311857, acc: 0.678333, [Test] loss: 0.319457, acc : 0.672272\n"
     ]
    }
   ],
   "source": [
    "sess = tf.Session()\n",
    "sess.run(tf.global_variables_initializer())\n",
    "\n",
    "batch_size = 30\n",
    "for i in range(300):\n",
    "    batch_mask = np.random.choice(X_train.shape[0], batch_size)\n",
    "    x_batch = X_train[batch_mask]\n",
    "    y_batch = y_train[batch_mask]\n",
    "    sess.run(train_step,feed_dict={X: x_batch, t: y_batch})\n",
    "    if i % 100 == 0:\n",
    "        train_acc, train_loss = sess.run([accuracy,loss], feed_dict={X: X_train, t: y_train})\n",
    "        test_acc, test_loss = sess.run([accuracy,loss], feed_dict={X: X_test, t: y_test})\n",
    "        print(\"[Train] step: %d, loss: %f, acc: %f, [Test] loss: %f, acc : %f\" % (i, train_loss, train_acc,test_loss,test_acc))"
   ]
  },
  {
   "cell_type": "markdown",
   "metadata": {},
   "source": [
    "混同行列を作成する             \n",
    "このCSVファイルでは食用キノコの時は値が 1 , 毒キノコなら値は 0　となっている。           \n",
    "\n",
    "混同行列は以下のように定義される          \n",
    "$\n",
    "  混同行列 = \\left(\n",
    "    \\begin{array}{cc}\n",
    "      真陽性(tp)  & 偽陽性(fp) \\\\\n",
    "      偽陰性(fn) & 真陰性(tn) \\\\\n",
    "    \\end{array}\n",
    "  \\right)\n",
    "$"
   ]
  },
  {
   "cell_type": "code",
   "execution_count": 7,
   "metadata": {},
   "outputs": [
    {
     "data": {
      "text/plain": [
       "array([[ 768.,  474.],\n",
       "       [ 464.,  732.]])"
      ]
     },
     "execution_count": 7,
     "metadata": {},
     "output_type": "execute_result"
    }
   ],
   "source": [
    "# 混同行列を作成する\n",
    "# 食用キノコなら 1 毒キノコなら 0\n",
    "conf_mat = np.array([[0.,0.],[0.,0.]])\n",
    "pred = sess.run(p,feed_dict={X: X_test}).reshape(-1,)\n",
    "\n",
    "for i in range(0,(X_test).shape[0]):\n",
    "    \n",
    "    # 真陰性(食用と判断して害がなかった場合)\n",
    "    if (y_test[i] == 1) and (pred[i] >= 0.5):\n",
    "        conf_mat[1,1] += 1.\n",
    "        \n",
    "    # 偽陰性(食用と予測したが毒キノコだった場合)\n",
    "    elif (y_test[i] == 0) and (pred[i] >= 0.5):\n",
    "        conf_mat[0,1] += 1.\n",
    "    \n",
    "    # 偽陽性(毒キノコと予測したが食用キノコだった場合)\n",
    "    elif (y_test[i] == 1) and (pred[i] < 0.5):\n",
    "        conf_mat[1,0] += 1.\n",
    "    \n",
    "    # 真陽性(毒キノコとどちらも判断して警戒した時):\n",
    "    elif (y_test[i] == 0) and (pred[i] < 0.5):\n",
    "        conf_mat[0,0] += 1.\n",
    "        \n",
    "conf_mat"
   ]
  },
  {
   "cell_type": "markdown",
   "metadata": {},
   "source": [
    "期待利益を求める         \n",
    "前提として各クラスの組み合わせによる利益やコストの値を定義し、損益行列を定義する必要がある。            \n",
    "\n",
    "$\n",
    "  損益行列 = \\left(\n",
    "    \\begin{array}{ccc}\n",
    "     　tp時の利益b(\\boldsymbol{Y},\\boldsymbol{p})  & fp時のコストc(\\boldsymbol{Y},\\boldsymbol{n}) & \\\\\n",
    "      fn時のコストc(\\boldsymbol{N},\\boldsymbol{p}) & tn時の利益b(\\boldsymbol{N},\\boldsymbol{n})  &\\\\\n",
    "    \\end{array}\n",
    "  \\right)\n",
    "$       \n",
    "\n",
    "(Y,p)などは行が予測値、列が実際の値とする     "
   ]
  },
  {
   "cell_type": "code",
   "execution_count": 8,
   "metadata": {},
   "outputs": [
    {
     "data": {
      "text/plain": [
       "array([[  0.,   0.],\n",
       "       [ -5.,  10.]])"
      ]
     },
     "execution_count": 8,
     "metadata": {},
     "output_type": "execute_result"
    }
   ],
   "source": [
    "# 損益行列を定義する            \n",
    "# tn時の利益を 10ドル       \n",
    "# fn時のコストを -5ドル     \n",
    "# tp,tp時の利益、コストを 0　とする        \n",
    "\n",
    "cost_benefit_mat = np.array([[0.,0.],[-5.,10.]])\n",
    "\n",
    "cost_benefit_mat"
   ]
  },
  {
   "cell_type": "markdown",
   "metadata": {},
   "source": [
    "期待利益を計算する         \n",
    "\n",
    "$\n",
    "期待利益 = p(\\boldsymbol{Y},\\boldsymbol{p})\\cdot b(\\boldsymbol{Y},\\boldsymbol{p})\n",
    "+p(\\boldsymbol{N},\\boldsymbol{p})\\cdot b(\\boldsymbol{N},\\boldsymbol{p})\n",
    "+p(\\boldsymbol{N},\\boldsymbol{n})\\cdot b(\\boldsymbol{N},\\boldsymbol{n})\n",
    "+p(\\boldsymbol{Y},\\boldsymbol{n})\\cdot b(\\boldsymbol{Y},\\boldsymbol{n})\n",
    "$   \n",
    "\n",
    "$\n",
    "p(x,y) = p(y) \\cdot p(x|y)　より\n",
    "$   \n",
    "\n",
    "$\n",
    "期待利益 = p(\\boldsymbol{p})\\cdot(p(\\boldsymbol{Y}\\mid \\boldsymbol{p})\\cdot b(\\boldsymbol{Y},\\boldsymbol{p})\n",
    "+p(\\boldsymbol{N}\\mid \\boldsymbol{p})\\cdot c(\\boldsymbol{N},\\boldsymbol{p}))\n",
    "+p(\\boldsymbol{n})\\cdot(p(\\boldsymbol{N}\\mid \\boldsymbol{n})\\cdot b(\\boldsymbol{N},\\boldsymbol{n})\n",
    "+p(\\boldsymbol{Y}\\mid \\boldsymbol{n})\\cdot c(\\boldsymbol{Y},\\boldsymbol{n}))\n",
    "$      \n",
    "\n",
    "p(p),p(n)はクラスの事前確率であり、陽性と陰性がそれぞれ出現する確率を表す     \n",
    "p(Y | p)などは混同行列を割合へ変換することで求めることができる     \n",
    "つまり        \n",
    "$\n",
    "期待利益 = p(\\boldsymbol{p})\\cdot(tp率\\cdot b(\\boldsymbol{Y},\\boldsymbol{p})\n",
    "+fn率\\cdot c(\\boldsymbol{N},\\boldsymbol{p}))\n",
    "+p(\\boldsymbol{n})\\cdot(tn率\\cdot b(\\boldsymbol{N},\\boldsymbol{n})\n",
    "+fp率\\cdot c(\\boldsymbol{Y},\\boldsymbol{n}))\n",
    "$と表記できる     "
   ]
  },
  {
   "cell_type": "code",
   "execution_count": 9,
   "metadata": {},
   "outputs": [
    {
     "name": "stdout",
     "output_type": "stream",
     "text": [
      "事前確率 p(p) : 0.505332239541\n",
      "事前確率 p(n) : 0.494667760459\n",
      "tp率 : 0.623376623377\n",
      "fp率 : 0.393034825871\n",
      "tn率 : 0.606965174129\n",
      "fn率 : 0.376623376623\n",
      "期待利益 : 2.05086136177\n"
     ]
    }
   ],
   "source": [
    "# クラスの事前確率を求める\n",
    "\n",
    "T = X_test.shape[0]\n",
    "positive_num = conf_mat[0,0] + conf_mat[1,0]\n",
    "negative_num = conf_mat[0,1] + conf_mat[1,1]\n",
    "\n",
    "prob_p = positive_num / T\n",
    "prob_n =1 - prob_p\n",
    "\n",
    "prob_tp = conf_mat[0,0] / positive_num\n",
    "prob_fp = conf_mat[0,1] / negative_num\n",
    "prob_fn = 1 - prob_tp\n",
    "prob_tn = 1 - prob_fp\n",
    "\n",
    "expect_profit = prob_p*(prob_tp*cost_benefit_mat[0,0] + prob_fn*cost_benefit_mat[1,0])+prob_n*(prob_tn*cost_benefit_mat[1,1] + prob_fp*cost_benefit_mat[0,1])\n",
    "    \n",
    "print(\"事前確率 p(p) : \"+str(prob_p))\n",
    "print(\"事前確率 p(n) : \"+str(prob_n))\n",
    "print(\"tp率 : \"+str(prob_tp))\n",
    "print(\"fp率 : \"+str(prob_fp))\n",
    "print(\"tn率 : \"+str(prob_tn))\n",
    "print(\"fn率 : \"+str(prob_fn))\n",
    "print(\"期待利益 : \"+str(expect_profit))"
   ]
  },
  {
   "cell_type": "code",
   "execution_count": 10,
   "metadata": {
    "collapsed": true
   },
   "outputs": [],
   "source": [
    "# 利益曲線を描く\n",
    "# 予測と実際の値の組を作成し、予測値の昇順にソートする\n",
    "idx = pred.copy()\n",
    "idx = np.argsort(idx)[::-1]\n",
    "score_list = []\n",
    "for i in idx:\n",
    "    score_list.append((y_test[i][0],pred[i]))"
   ]
  },
  {
   "cell_type": "code",
   "execution_count": 11,
   "metadata": {},
   "outputs": [
    {
     "name": "stdout",
     "output_type": "stream",
     "text": [
      "[[ 1232.  1206.]\n",
      " [    0.     0.]]\n",
      "[[ 758.  474.]\n",
      " [ 474.  732.]]\n"
     ]
    }
   ],
   "source": [
    "conf_mat2 = np.array([[conf_mat[0,0]+conf_mat[1,0],conf_mat[0,1]+conf_mat[1,1]],[0.,0.]])\n",
    "print(conf_mat2)\n",
    "\n",
    "profit_curve = []\n",
    "t = 0\n",
    "# 初期値を追加\n",
    "profit_curve.append(0)\n",
    "for l,v in score_list:\n",
    "    \n",
    "    # 真陰性(食用と判断して害がなかった場合)\n",
    "    if(v >= 0.5 and l==1):\n",
    "        t += cost_benefit_mat[1,1]\n",
    "        if(conf_mat[0,1]+conf_mat[1,1] > conf_mat2[1,1]):\n",
    "            conf_mat2[0,1] -= 1.\n",
    "            conf_mat2[1,1] += 1.\n",
    "    # 偽陰性(食用と判断したが毒キノコだった場合)\n",
    "    elif(v >= 0.5 and l==0):\n",
    "        t += cost_benefit_mat[1,0]\n",
    "        if(conf_mat[0,0]+conf_mat[1,0] > conf_mat2[1,0]):\n",
    "            conf_mat2[0,0] -= 1.\n",
    "            conf_mat2[1,0] += 1.\n",
    "    # スコアが0.5未満の場合は毒キノコと判定し、利益には影響しないのでループを終える\n",
    "    elif(v < 0.5):\n",
    "        break\n",
    "    \n",
    "    profit_curve.append(t)\n",
    "    \n",
    "print(conf_mat2)"
   ]
  },
  {
   "cell_type": "markdown",
   "metadata": {},
   "source": [
    "利益曲線を描く"
   ]
  },
  {
   "cell_type": "code",
   "execution_count": 12,
   "metadata": {},
   "outputs": [
    {
     "data": {
      "text/plain": [
       "[<matplotlib.lines.Line2D at 0x7fc3048349b0>]"
      ]
     },
     "execution_count": 12,
     "metadata": {},
     "output_type": "execute_result"
    },
    {
     "data": {
      "image/png": "[encoded data removed]",
      "text/plain": [
       "<matplotlib.figure.Figure at 0x7fc305d109b0>"
      ]
     },
     "metadata": {},
     "output_type": "display_data"
    }
   ],
   "source": [
    "plt.xlabel('Testdata num rate')\n",
    "plt.ylabel('Profit')\n",
    "plt.ylim([-3000,7000])\n",
    "axis_x = np.linspace(0,100,len(profit_curve))\n",
    "plt.plot(axis_x,profit_curve,\"r-\")"
   ]
  },
  {
   "cell_type": "markdown",
   "metadata": {},
   "source": [
    "受信者動作特性(ROC)グラフを描く"
   ]
  },
  {
   "cell_type": "code",
   "execution_count": 13,
   "metadata": {},
   "outputs": [
    {
     "data": {
      "text/plain": [
       "[<matplotlib.lines.Line2D at 0x7fc30050ecc0>]"
      ]
     },
     "execution_count": 13,
     "metadata": {},
     "output_type": "execute_result"
    },
    {
     "data": {
      "image/png": "[encoded data removed]",
      "text/plain": [
       "<matplotlib.figure.Figure at 0x7fc300589da0>"
      ]
     },
     "metadata": {},
     "output_type": "display_data"
    }
   ],
   "source": [
    "plt.ylim([0,1])\n",
    "plt.xlim([0,1])\n",
    "plt.xlabel('False negative rate')\n",
    "plt.ylabel('True negative rate')\n",
    "\n",
    "axis_x = np.linspace(0,1,50)\n",
    "line_y = axis_x\n",
    "plt.plot([prob_fn], [prob_tn], 'o')\n",
    "plt.plot(axis_x,line_y,\"r-\")"
   ]
  },
  {
   "cell_type": "markdown",
   "metadata": {},
   "source": [
    "テストデータの数を増やすごとにROC曲線がどのように変化するか確認する"
   ]
  },
  {
   "cell_type": "code",
   "execution_count": 14,
   "metadata": {},
   "outputs": [
    {
     "data": {
      "image/png": "[encoded data removed]",
      "text/plain": [
       "<matplotlib.figure.Figure at 0x7fc300521080>"
      ]
     },
     "metadata": {},
     "output_type": "display_data"
    }
   ],
   "source": [
    "conf_mat2 = np.array([[conf_mat[0,0]+conf_mat[1,0],conf_mat[0,1]+conf_mat[1,1]],[0.,0.]])\n",
    "\n",
    "prob_fn2 = 0\n",
    "prob_tn2 = 0\n",
    "\n",
    "plt.ylim([0,1])\n",
    "plt.xlim([0,1])\n",
    "plt.xlabel('False negative rate')\n",
    "plt.ylabel('True negative rate')\n",
    "\n",
    "for l,v in score_list:\n",
    "    \n",
    "    # 真陰性(食用と判断して害がなかった場合)\n",
    "    if(v >= 0.5 and l==1):\n",
    "        if(conf_mat[0,1]+conf_mat[1,1] > conf_mat2[1,1]):\n",
    "            conf_mat2[0,1] -= 1.\n",
    "            conf_mat2[1,1] += 1.\n",
    "        \n",
    "        prob_fn2 = conf_mat2[1,0] / positive_num\n",
    "        prob_tn2 = conf_mat2[1,1] / negative_num\n",
    "        plt.plot([prob_fn2], [prob_tn2], 'ro', markersize=2)\n",
    "    # 偽陰性(食用と判断したが毒キノコだった場合)\n",
    "    elif(v >= 0.5 and l==0):\n",
    "        if(conf_mat[0,0]+conf_mat[1,0] > conf_mat2[1,0]):\n",
    "            conf_mat2[0,0] -= 1.\n",
    "            conf_mat2[1,0] += 1.\n",
    "        \n",
    "        prob_fn2 = conf_mat2[1,0] / positive_num\n",
    "        prob_tn2 = conf_mat2[1,1] / negative_num\n",
    "        plt.plot([prob_fn2], [prob_tn2], 'ro', markersize=2)\n",
    "    # スコアが0.5未満の場合は毒キノコと判定し、利益には影響しないのでループを終える\n",
    "    elif(v < 0.5):\n",
    "        break"
   ]
  },
  {
   "cell_type": "markdown",
   "metadata": {},
   "source": [
    "累積反応曲線を描く"
   ]
  },
  {
   "cell_type": "code",
   "execution_count": 15,
   "metadata": {},
   "outputs": [
    {
     "name": "stdout",
     "output_type": "stream",
     "text": [
      "[[ 758.  474.]\n",
      " [ 474.  732.]]\n"
     ]
    },
    {
     "data": {
      "text/plain": [
       "[<matplotlib.lines.Line2D at 0x7fc283d837f0>]"
      ]
     },
     "execution_count": 15,
     "metadata": {},
     "output_type": "execute_result"
    },
    {
     "data": {
      "image/png": "[encoded data removed]",
      "text/plain": [
       "<matplotlib.figure.Figure at 0x7fc3049b74e0>"
      ]
     },
     "metadata": {},
     "output_type": "display_data"
    }
   ],
   "source": [
    "# 真陰性の割合を求める\n",
    "tn2_rate = 0\n",
    "com_res_curve = []\n",
    "plt.xlabel('TestData num rate')\n",
    "plt.ylabel('True negative rate')\n",
    "\n",
    "neg_count = 0.\n",
    "for l,v in score_list:\n",
    "    # 真陰性(食用と判断して害がなかった場合)\n",
    "    if(v >= 0.5 and l==1):\n",
    "        neg_count += 1.\n",
    "        tn2_rate = (neg_count / conf_mat[1,1])*100\n",
    "        com_res_curve.append(tn2_rate)\n",
    "    # 偽陰性(食用と判断したが毒キノコだった場合)\n",
    "    elif(v >= 0.5 and l==0):\n",
    "        tn2_rate = (neg_count / conf_mat[1,1])*100\n",
    "        com_res_curve.append(tn2_rate)\n",
    "    elif(v < 0.5):\n",
    "        com_res_curve.append(tn2_rate)\n",
    "print(conf_mat2)\n",
    "\n",
    "plt.ylim([0,101])\n",
    "plt.xlim([0,100])\n",
    "axis_x = np.linspace(0,100,len(com_res_curve))\n",
    "line_y = axis_x\n",
    "plt.plot(axis_x,line_y,\"b-\")\n",
    "plt.plot(axis_x,com_res_curve,\"r-\")"
   ]
  },
  {
   "cell_type": "markdown",
   "metadata": {},
   "source": [
    "リフト曲線を描く"
   ]
  },
  {
   "cell_type": "code",
   "execution_count": 16,
   "metadata": {},
   "outputs": [
    {
     "data": {
      "text/plain": [
       "[<matplotlib.lines.Line2D at 0x7fc283d39470>]"
      ]
     },
     "execution_count": 16,
     "metadata": {},
     "output_type": "execute_result"
    },
    {
     "data": {
      "image/png": "[encoded data removed]",
      "text/plain": [
       "<matplotlib.figure.Figure at 0x7fc3005567f0>"
      ]
     },
     "metadata": {},
     "output_type": "display_data"
    }
   ],
   "source": [
    "lift_curve = []\n",
    "plt.xlabel('TestData num rate')\n",
    "plt.ylabel('True negative rate')\n",
    "\n",
    "# 最初は0が多いので適当な場所から開始する\n",
    "for i in range(30,len(com_res_curve)):\n",
    "    lift_curve.append(com_res_curve[i]/line_y[i])\n",
    "\n",
    "plt.ylim([0,10])\n",
    "plt.xlim([0,100])\n",
    "axis_x = np.linspace(0,100,len(lift_curve))\n",
    "line_y2 = np.ones((len(lift_curve),))\n",
    "plt.plot(axis_x,line_y2,\"b-\")\n",
    "plt.plot(axis_x,lift_curve,\"r-\")"
   ]
  }
 ],
 "metadata": {
  "kernelspec": {
   "display_name": "Python 3",
   "language": "python",
   "name": "python3"
  },
  "language_info": {
   "codemirror_mode": {
    "name": "ipython",
    "version": 3
   },
   "file_extension": ".py",
   "mimetype": "text/x-python",
   "name": "python",
   "nbconvert_exporter": "python",
   "pygments_lexer": "ipython3",
   "version": "3.6.2"
  }
 },
 "nbformat": 4,
 "nbformat_minor": 2
}
