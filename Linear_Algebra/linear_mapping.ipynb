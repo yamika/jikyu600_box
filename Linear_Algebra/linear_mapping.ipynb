{
 "cells": [
  {
   "cell_type": "code",
   "execution_count": 1,
   "metadata": {
    "collapsed": true
   },
   "outputs": [],
   "source": [
    "import numpy as np\n",
    "import matplotlib.pyplot as plt\n",
    "%matplotlib inline"
   ]
  },
  {
   "cell_type": "code",
   "execution_count": 2,
   "metadata": {},
   "outputs": [
    {
     "data": {
      "text/plain": [
       "array([3, 2])"
      ]
     },
     "execution_count": 2,
     "metadata": {},
     "output_type": "execute_result"
    }
   ],
   "source": [
    "matrix_A = np.array([[2,1],[1,3]])\n",
    "\n",
    "# 基底ベクトル e1(x軸)\n",
    "vec_e1 = np.array([1,0])\n",
    "# 基底ベクトル e2(y軸)\n",
    "vec_e2 = np.array([0,1])\n",
    "# ベクトルv\n",
    "vec_v = 3*vec_e1 + 2*vec_e2\n",
    "\n",
    "vec_v"
   ]
  },
  {
   "cell_type": "code",
   "execution_count": 3,
   "metadata": {},
   "outputs": [
    {
     "data": {
      "image/png": "[encoded data removed]",
      "text/plain": [
       "<matplotlib.figure.Figure at 0x7ff8e7a44fd0>"
      ]
     },
     "metadata": {},
     "output_type": "display_data"
    }
   ],
   "source": [
    "plt.figure()\n",
    "\n",
    "plt.plot(3*vec_e1[0]+3*vec_e1[1],2*vec_e2[0]+2*vec_e2[1],'bo')\n",
    "# 基底ベクトル\n",
    "plt.quiver(0,0,vec_e1[0],vec_e1[1],angles='xy',scale_units='xy',scale=1)\n",
    "plt.quiver(0,0,vec_e2[0],vec_e2[1],angles='xy',scale_units='xy',scale=1)\n",
    "\n",
    "#ベクトルv\n",
    "plt.quiver(0,0,3*np.array([vec_e1[0]+vec_e2[0]]),2*np.array([vec_e1[1]+vec_e2[1]]),angles='xy',scale_units='xy',scale=1,color='r')\n",
    "# グラフ表示\n",
    "plt.xlim([-1,10])\n",
    "plt.ylim([-1,10])\n",
    "plt.grid()\n",
    "plt.show()"
   ]
  },
  {
   "cell_type": "code",
   "execution_count": 4,
   "metadata": {},
   "outputs": [
    {
     "data": {
      "text/plain": [
       "array([8, 9])"
      ]
     },
     "execution_count": 4,
     "metadata": {},
     "output_type": "execute_result"
    }
   ],
   "source": [
    "# y=Ax\n",
    "vec_y = matrix_A.dot(vec_v)\n",
    "vec_y"
   ]
  },
  {
   "cell_type": "code",
   "execution_count": 5,
   "metadata": {
    "collapsed": true
   },
   "outputs": [],
   "source": [
    "# 基底ベクトル e1'(x軸)\n",
    "vec_e1_dash = np.array([2,1])\n",
    "# 基底ベクトル e2'(y軸)\n",
    "vec_e2_dash= np.array([1,3])"
   ]
  },
  {
   "cell_type": "code",
   "execution_count": 6,
   "metadata": {},
   "outputs": [
    {
     "data": {
      "image/png": "[encoded data removed]",
      "text/plain": [
       "<matplotlib.figure.Figure at 0x7ff8e2e5aa58>"
      ]
     },
     "metadata": {},
     "output_type": "display_data"
    }
   ],
   "source": [
    "plt.figure()\n",
    "\n",
    "plt.plot(3*np.array([vec_e1_dash[0]+vec_e2_dash[0]]),2*np.array([vec_e1_dash[1]+vec_e2_dash[1]]),'bo')\n",
    "# y=Axで写像された後の基底ベクトル\n",
    "plt.quiver(0,0,vec_e1_dash[0],vec_e1_dash[1],angles='xy',scale_units='xy',scale=1)\n",
    "plt.quiver(0,0,vec_e2_dash[0],vec_e2_dash[1],angles='xy',scale_units='xy',scale=1)\n",
    "\n",
    "# 元の基底ベクトル(緑)\n",
    "plt.quiver(0,0,vec_e1[0],vec_e1[1],angles='xy',scale_units='xy',scale=1,color='g')\n",
    "plt.quiver(0,0,vec_e2[0],vec_e2[1],angles='xy',scale_units='xy',scale=1,color='g')\n",
    "# 元のベクトルが指す場所の点とベクトル(緑)\n",
    "plt.quiver(0,0,3*np.array([vec_e1[0]+vec_e2[0]]),2*np.array([vec_e1[1]+vec_e2[1]]),angles='xy',scale_units='xy',scale=1,color='g')\n",
    "plt.plot(3*vec_e1[0]+3*vec_e1[1],2*vec_e2[0]+2*vec_e2[1],'go')\n",
    "\n",
    "#ベクトル y(青点)\n",
    "plt.quiver(0,0,3*np.array([vec_e1_dash[0]+vec_e2_dash[0]]),2*np.array([vec_e1_dash[1]+vec_e2_dash[1]]),angles='xy',scale_units='xy',scale=1,color='r')\n",
    "# グラフ表示\n",
    "plt.xlim([-1,10])\n",
    "plt.ylim([-1,10])\n",
    "plt.grid()\n",
    "plt.show()"
   ]
  },
  {
   "cell_type": "code",
   "execution_count": 7,
   "metadata": {},
   "outputs": [
    {
     "data": {
      "text/plain": [
       "array([[ 0.6, -0.2],\n",
       "       [-0.2,  0.4]])"
      ]
     },
     "execution_count": 7,
     "metadata": {},
     "output_type": "execute_result"
    }
   ],
   "source": [
    "inv_A = np.linalg.inv(matrix_A)\n",
    "inv_A"
   ]
  },
  {
   "cell_type": "code",
   "execution_count": 8,
   "metadata": {},
   "outputs": [
    {
     "data": {
      "text/plain": [
       "array([ 3.,  2.])"
      ]
     },
     "execution_count": 8,
     "metadata": {},
     "output_type": "execute_result"
    }
   ],
   "source": [
    "inv_A.dot(vec_y)"
   ]
  },
  {
   "cell_type": "code",
   "execution_count": 9,
   "metadata": {},
   "outputs": [
    {
     "data": {
      "image/png": "[encoded data removed]",
      "text/plain": [
       "<matplotlib.figure.Figure at 0x7ff8e2da7cf8>"
      ]
     },
     "metadata": {},
     "output_type": "display_data"
    }
   ],
   "source": [
    "plt.figure()\n",
    "\n",
    "plt.plot(3*np.array([vec_e1_dash[0]+vec_e2_dash[0]]),2*np.array([vec_e1_dash[1]+vec_e2_dash[1]]),'bo')\n",
    "# y=Axで写像された後の基底ベクトル\n",
    "plt.quiver(0,0,vec_e1_dash[0],vec_e1_dash[1],angles='xy',scale_units='xy',scale=1)\n",
    "plt.quiver(0,0,vec_e2_dash[0],vec_e2_dash[1],angles='xy',scale_units='xy',scale=1)\n",
    "\n",
    "# 逆行列の基底ベクトル(青)\n",
    "\n",
    "inv_e1 = np.array([inv_A[0,0]*vec_e1_dash[0]+inv_A[1,0]*vec_e1_dash[1],\n",
    "                  inv_A[0,1]*vec_e1_dash[0]+inv_A[1,1]*vec_e1_dash[1]])\n",
    "\n",
    "inv_e2 = np.array([inv_A[0,0]*vec_e2_dash[0]+inv_A[1,0]*vec_e2_dash[1],\n",
    "                  inv_A[0,1]*vec_e2_dash[0]+inv_A[1,1]*vec_e2_dash[1]])\n",
    "\n",
    "plt.quiver(0,0,inv_e1[0],inv_e1[1],angles='xy',scale_units='xy',scale=1,color='b')\n",
    "plt.quiver(0,0,inv_e2[0],inv_e2[1],angles='xy',scale_units='xy',scale=1,color='b')\n",
    "# 逆行列の基底ベクトルが指す場所の点とベクトル(青)\n",
    "plt.quiver(0,0,3*inv_e1[0]+3*inv_e1[1],2*inv_e2[0]+2*inv_e2[1],angles='xy',scale_units='xy',scale=1,color='b')\n",
    "plt.plot(3*inv_e1[0]+3*inv_e1[1],2*inv_e2[0]+2*inv_e2[1],'bo')\n",
    "\n",
    "#ベクトル y(青点)\n",
    "plt.quiver(0,0,3*np.array([vec_e1_dash[0]+vec_e2_dash[0]]),2*np.array([vec_e1_dash[1]+vec_e2_dash[1]]),angles='xy',scale_units='xy',scale=1,color='r')\n",
    "# グラフ表示\n",
    "plt.xlim([-1,10])\n",
    "plt.ylim([-1,10])\n",
    "plt.grid()\n",
    "plt.show()"
   ]
  }
 ],
 "metadata": {
  "kernelspec": {
   "display_name": "Python 3",
   "language": "python",
   "name": "python3"
  },
  "language_info": {
   "codemirror_mode": {
    "name": "ipython",
    "version": 3
   },
   "file_extension": ".py",
   "mimetype": "text/x-python",
   "name": "python",
   "nbconvert_exporter": "python",
   "pygments_lexer": "ipython3",
   "version": "3.6.2"
  }
 },
 "nbformat": 4,
 "nbformat_minor": 2
}
