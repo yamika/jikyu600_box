{
 "cells": [
  {
   "cell_type": "code",
   "execution_count": 3,
   "metadata": {
    "colab": {},
    "colab_type": "code",
    "id": "A3vhiaSV3-5y"
   },
   "outputs": [],
   "source": [
    "import os\n",
    "import csv\n",
    "import time\n",
    "import random\n",
    "from pathlib import Path\n",
    "\n",
    "import numpy as np\n",
    "from PIL import Image,ImageOps\n",
    "import matplotlib.pyplot as plt\n",
    "import cv2\n",
    "\n",
    "import torch\n",
    "import torch.nn as nn\n",
    "import torch.nn.functional as F\n",
    "import torch.optim as optim\n",
    "from torch.autograd import Variable\n",
    "import torchvision\n",
    "from PIL import ImageEnhance\n",
    "\n",
    "from dropblock import DropBlock\n",
    "# coding: utf-8\n",
    "\n",
    "%matplotlib inline"
   ]
  },
  {
   "cell_type": "code",
   "execution_count": 4,
   "metadata": {
    "colab": {},
    "colab_type": "code",
    "collapsed": true,
    "id": "ZgFfoMP85FJs"
   },
   "outputs": [],
   "source": [
    "def register_extension(id, extension):\n",
    "    Image.EXTENSION[extension.lower()] = id.upper()\n",
    "Image.register_extension = register_extension\n",
    "def register_extensions(id, extensions):\n",
    "    for extension in extensions:\n",
    "        register_extension(id, extension)\n",
    "Image.register_extensions = register_extensions"
   ]
  },
  {
   "cell_type": "code",
   "execution_count": 5,
   "metadata": {
    "colab": {},
    "colab_type": "code",
    "collapsed": true,
    "id": "QCQtQZTS7A2i"
   },
   "outputs": [],
   "source": [
    "class Net(nn.Module):\n",
    " \n",
    "    def __init__(self, n_channels, n_classes):\n",
    "        super(Net, self).__init__()\n",
    "        \n",
    "        self.n_channels = n_channels\n",
    "        self.n_classes = n_classes\n",
    "        \n",
    "        self.conv1 = nn.Conv2d(self.n_channels, 16, kernel_size=3, stride=1, padding=1)\n",
    "        \n",
    "        self.conv2 = nn.Conv2d(16, 32, kernel_size=4, stride=2, padding=1)\n",
    "        \n",
    "        self.conv3 = nn.Conv2d(32, 64, kernel_size=4, stride=2, padding=1)\n",
    "\n",
    "        self.conv4 = nn.Conv2d(64, 128, kernel_size=4, stride=2, padding=1)\n",
    "        \n",
    "        self.fc1 = nn.Linear(128*4*4, 1024)\n",
    "        self.fc2 = nn.Linear(1024, 512)\n",
    "        self.fc3 = nn.Linear(512, self.n_classes)\n",
    "        \n",
    "        self.relu = nn.ReLU()\n",
    "        self.drop = DropBlock(0.95, 3)\n",
    "        #self.drop = torch.nn.Dropout2d(0.2)\n",
    "    def forward(self, x):\n",
    "        \n",
    "        x = self.relu(self.conv1(x))\n",
    "        x = self.drop(self.relu(self.conv2(x)))\n",
    "        x = self.drop(self.relu(self.conv3(x)))\n",
    "        x = self.drop(self.relu(self.conv4(x)))\n",
    "        x = x.view(-1, 128*4*4)\n",
    "        x = self.relu(self.fc1(x))\n",
    "        x = self.relu(self.fc2(x))\n",
    "        x = self.relu(self.fc3(x))\n",
    "        #x = F.softmax(x,dim=1)\n",
    "\n",
    "        return x"
   ]
  },
  {
   "cell_type": "code",
   "execution_count": 6,
   "metadata": {
    "colab": {},
    "colab_type": "code",
    "collapsed": true,
    "id": "Vaauvfq8Fk12"
   },
   "outputs": [],
   "source": [
    "class Model():\n",
    "    def __init__(self, n_ch=3, n_class=10, height=32, width=32):\n",
    "      \n",
    "        self.total_epoch_num = 0\n",
    "        self.train_progress_report_epoch = 5\n",
    "        self.net = Net(n_channels=n_ch, n_classes=n_class)\n",
    "        #self.opt_net= torch.optim.SGD(self.net.parameters(), lr=0.01, momentum=0.9)\n",
    "        self.opt_net= torch.optim.RMSprop(self.net.parameters(),lr=0.00002)\n",
    "        self.criterion = torch.nn.CrossEntropyLoss()\n",
    "\n",
    "    def train(self,\n",
    "              epochs=10,\n",
    "              batch_size=24,\n",
    "              steps=50,\n",
    "              trainset=None,\n",
    "              save_weight_path='./save_weights',\n",
    "              loss_report_file='./loss_report.csv',\n",
    "              init=False,\n",
    "              use_gpu=False):\n",
    "        \n",
    "        train_generator = torch.utils.data.DataLoader(trainset, batch_size=batch_size,\n",
    "                                                  shuffle=True, num_workers=2)\n",
    "        \n",
    "        save_weight_dir = Path(save_weight_path)\n",
    "        if not (save_weight_dir.is_dir()):\n",
    "            save_weight_dir.mkdir()\n",
    "            print(\"create save param directory : {0}\".format(\n",
    "                str(save_weight_dir)))\n",
    "            \n",
    "        save_net_weight_path = save_weight_dir / 'current_params.pth'\n",
    "        \n",
    "        if(init or os.path.exists(loss_report_file)==False):\n",
    "            header = ['epoch', 'loss']\n",
    "            with open(loss_report_file, 'w') as f:\n",
    "                writer = csv.writer(f)\n",
    "                writer.writerow(header)\n",
    "            del header\n",
    "            print(\"create and initialize loss report csv file\")\n",
    "            \n",
    "        if(use_gpu):\n",
    "            print(\"use gpu\")\n",
    "            self.net.cuda()\n",
    "            self.criterion.cuda()\n",
    "        \n",
    "        total_net_loss = 0.0\n",
    "        \n",
    "        for epoch in range(epochs):\n",
    "            \n",
    "            total_net_loss = 0.0         \n",
    "            start_time = time.time()\n",
    "            self.net.train()\n",
    "            for i, data in enumerate(train_generator, 1):\n",
    "                  \n",
    "                X_train, t_train = data\n",
    "\n",
    "                if(use_gpu):\n",
    "                    X_train = Variable(X_train.cuda())\n",
    "                    t_train = Variable(t_train.cuda())\n",
    "                \n",
    "                net_output = self.net(X_train)\n",
    "                loss = self.criterion(net_output, t_train)              \n",
    "                total_net_loss += loss.item()\n",
    "                \n",
    "                self.opt_net.zero_grad()\n",
    "                loss.backward()\n",
    "                self.opt_net.step()\n",
    "                \n",
    "                if(i % steps == 0):\n",
    "                    break\n",
    "            # 1epoch finished\n",
    "            end_time = time.time()\n",
    "            self.total_epoch_num += 1\n",
    "            total_net_loss = total_net_loss / steps\n",
    "\n",
    "            print(\n",
    "                \"[Train] epoch: %d, net loss : %f, time : %f\" %\n",
    "                (self.total_epoch_num, total_net_loss, end_time - start_time))\n",
    "\n",
    "            # epoch_num, net_loss\n",
    "            body = [self.total_epoch_num, total_net_loss]\n",
    "            with open(loss_report_file, 'a') as f:\n",
    "                writer = csv.writer(f)\n",
    "                writer.writerow(body)\n",
    "\n",
    "            torch.save(self.net.state_dict(),  str(save_net_weight_path))"
   ]
  },
  {
   "cell_type": "code",
   "execution_count": 7,
   "metadata": {
    "colab": {},
    "colab_type": "code",
    "collapsed": true,
    "id": "RedMmtDCIION"
   },
   "outputs": [],
   "source": [
    "n_class=10"
   ]
  },
  {
   "cell_type": "code",
   "execution_count": 8,
   "metadata": {
    "colab": {},
    "colab_type": "code",
    "collapsed": true,
    "id": "JegF9UIWILLZ"
   },
   "outputs": [],
   "source": [
    "model = Model(n_ch=3, n_class=n_class, height=32, width=32)"
   ]
  },
  {
   "cell_type": "code",
   "execution_count": 9,
   "metadata": {
    "colab": {
     "base_uri": "https://localhost:8080/",
     "height": 35
    },
    "colab_type": "code",
    "id": "lbkyEIfAISZr",
    "outputId": "6f9f30ff-d969-40bf-df46-00900d4e6718"
   },
   "outputs": [
    {
     "name": "stdout",
     "output_type": "stream",
     "text": [
      "Downloading https://www.cs.toronto.edu/~kriz/cifar-10-python.tar.gz to ./data/cifar-10-python.tar.gz\n"
     ]
    }
   ],
   "source": [
    "transform = torchvision.transforms.Compose(\n",
    "    [\n",
    "        torchvision.transforms.RandomHorizontalFlip(p=0.5), \n",
    "        torchvision.transforms.ToTensor(), \n",
    "        torchvision.transforms.Normalize((0.5, 0.5, 0.5), (0.5, 0.5, 0.5))\n",
    "    ])\n",
    "\n",
    "trainset = torchvision.datasets.CIFAR10(root='./data', train=True,\n",
    "                                        download=True, transform=transform)\n",
    "\n",
    "classes = ('plane', 'car', 'bird', 'cat',\n",
    "           'deer', 'dog', 'frog', 'horse', 'ship', 'truck')"
   ]
  },
  {
   "cell_type": "code",
   "execution_count": 10,
   "metadata": {
    "colab": {
     "base_uri": "https://localhost:8080/",
     "height": 420
    },
    "colab_type": "code",
    "id": "mzPC9yP_IdHj",
    "outputId": "05932a2f-e18b-4084-f429-3871a480afab"
   },
   "outputs": [
    {
     "name": "stdout",
     "output_type": "stream",
     "text": [
      "create and initialize loss report csv file\n",
      "use gpu\n",
      "[Train] epoch: 1, net loss : 2.266700, time : 319.035692\n",
      "[Train] epoch: 2, net loss : 2.183351, time : 318.996005\n",
      "[Train] epoch: 3, net loss : 2.148362, time : 317.595471\n",
      "[Train] epoch: 4, net loss : 2.102828, time : 315.740752\n",
      "[Train] epoch: 5, net loss : 2.064880, time : 314.524529\n",
      "[Train] epoch: 6, net loss : 2.048798, time : 315.625168\n",
      "[Train] epoch: 7, net loss : 2.018481, time : 315.965008\n",
      "[Train] epoch: 8, net loss : 2.004719, time : 315.085694\n",
      "[Train] epoch: 9, net loss : 1.985057, time : 316.717504\n",
      "[Train] epoch: 10, net loss : 1.978189, time : 316.884434\n",
      "[Train] epoch: 11, net loss : 1.986049, time : 315.326426\n",
      "[Train] epoch: 12, net loss : 1.968562, time : 313.465202\n",
      "[Train] epoch: 13, net loss : 1.960076, time : 315.250741\n",
      "[Train] epoch: 14, net loss : 1.940040, time : 315.127882\n",
      "[Train] epoch: 15, net loss : 1.934926, time : 319.454784\n",
      "[Train] epoch: 16, net loss : 1.939206, time : 318.075388\n",
      "[Train] epoch: 17, net loss : 1.923287, time : 318.565135\n",
      "[Train] epoch: 18, net loss : 1.917944, time : 318.435097\n",
      "[Train] epoch: 19, net loss : 1.911969, time : 321.247527\n",
      "[Train] epoch: 20, net loss : 1.919972, time : 318.101089\n",
      "[Train] epoch: 21, net loss : 1.913584, time : 320.227451\n"
     ]
    }
   ],
   "source": [
    "use_gpu = torch.cuda.is_available()\n",
    "\n",
    "batch_size = 100\n",
    "model_title = './cifar10_dropblock'\n",
    "\n",
    "model.train(epochs=21,\n",
    "              batch_size=batch_size,\n",
    "              steps = 100,\n",
    "              trainset=trainset,\n",
    "              save_weight_path=model_title,\n",
    "              loss_report_file=model_title+'_loss_report.csv',\n",
    "              init=True,\n",
    "              use_gpu=use_gpu)"
   ]
  },
  {
   "cell_type": "code",
   "execution_count": 28,
   "metadata": {
    "colab": {
     "base_uri": "https://localhost:8080/",
     "height": 210
    },
    "colab_type": "code",
    "id": "YAnJQPVefsCy",
    "outputId": "22a1a272-2fe6-407d-95df-6f30f3d9bcbf"
   },
   "outputs": [
    {
     "data": {
      "text/plain": [
       "Net(\n",
       "  (conv1): Conv2d(3, 16, kernel_size=(3, 3), stride=(1, 1), padding=(1, 1))\n",
       "  (conv2): Conv2d(16, 32, kernel_size=(4, 4), stride=(2, 2), padding=(1, 1))\n",
       "  (conv3): Conv2d(32, 64, kernel_size=(4, 4), stride=(2, 2), padding=(1, 1))\n",
       "  (conv4): Conv2d(64, 128, kernel_size=(4, 4), stride=(2, 2), padding=(1, 1))\n",
       "  (fc1): Linear(in_features=2048, out_features=1024, bias=True)\n",
       "  (fc2): Linear(in_features=1024, out_features=512, bias=True)\n",
       "  (fc3): Linear(in_features=512, out_features=10, bias=True)\n",
       "  (relu): ReLU()\n",
       "  (drop): DropBlock()\n",
       ")"
      ]
     },
     "execution_count": 28,
     "metadata": {
      "tags": []
     },
     "output_type": "execute_result"
    }
   ],
   "source": [
    "use_gpu = torch.cuda.is_available()\n",
    "\n",
    "model.net.load_state_dict(torch.load('./cifar10_dropblock/current_params.pth'))\n",
    "model.net.cuda()"
   ]
  },
  {
   "cell_type": "code",
   "execution_count": 29,
   "metadata": {
    "colab": {
     "base_uri": "https://localhost:8080/",
     "height": 35
    },
    "colab_type": "code",
    "id": "kwWasH-ygAIn",
    "outputId": "8cf36d77-e387-4c8f-8596-5538941696d0"
   },
   "outputs": [
    {
     "name": "stdout",
     "output_type": "stream",
     "text": [
      "Files already downloaded and verified\n"
     ]
    }
   ],
   "source": [
    "transform = torchvision.transforms.Compose(\n",
    "    [\n",
    "        torchvision.transforms.ToTensor(), \n",
    "        torchvision.transforms.Normalize((0.5, 0.5, 0.5), (0.5, 0.5, 0.5))\n",
    "    ])\n",
    "\n",
    "testset = torchvision.datasets.CIFAR10(root='./data', train=False,\n",
    "                                       download=True, transform=transform)\n",
    "test_generator = torch.utils.data.DataLoader(testset, batch_size=4,\n",
    "                                         shuffle=False, num_workers=2)\n",
    "\n",
    "classes = ('plane', 'car', 'bird', 'cat',\n",
    "           'deer', 'dog', 'frog', 'horse', 'ship', 'truck')"
   ]
  },
  {
   "cell_type": "code",
   "execution_count": null,
   "metadata": {
    "colab": {
     "base_uri": "https://localhost:8080/",
     "height": 35
    },
    "colab_type": "code",
    "collapsed": true,
    "id": "9C245PH8fX_O",
    "outputId": "99e76ac5-0369-4150-e345-d244ba7661ab"
   },
   "outputs": [],
   "source": [
    "correct = 0\n",
    "total = 0\n",
    "model.net.eval()\n",
    "with torch.no_grad():\n",
    "    for data in test_generator:\n",
    "        images, labels = data\n",
    "        if(use_gpu):\n",
    "            images = Variable(images.cuda())\n",
    "            labels = Variable(labels.cuda())\n",
    "        outputs = model.net(images)\n",
    "        _, predicted = torch.max(outputs.data, 1)\n",
    "        total += labels.size(0)\n",
    "        correct += (predicted == labels).sum().item()\n",
    "print('Accuracy of the network on the 10000 test images: %d %%' % (100 * correct / total))"
   ]
  },
  {
   "cell_type": "code",
   "execution_count": 0,
   "metadata": {
    "colab": {},
    "colab_type": "code",
    "collapsed": true,
    "id": "Ta4FQE6SlT-7"
   },
   "outputs": [],
   "source": [
    "dataiter = iter(test_generator)\n",
    "images, labels = dataiter.next()\n",
    "if(use_gpu):\n",
    "    images = Variable(images.cuda())\n",
    "    labels = Variable(labels.cuda())"
   ]
  },
  {
   "cell_type": "code",
   "execution_count": 42,
   "metadata": {
    "colab": {
     "base_uri": "https://localhost:8080/",
     "height": 266
    },
    "colab_type": "code",
    "id": "DPlRyvhFjIWG",
    "outputId": "b278e306-a9e3-488b-e332-351bbecce1cb"
   },
   "outputs": [
    {
     "data": {
      "text/plain": [
       "<matplotlib.image.AxesImage at 0x7fadd28c39b0>"
      ]
     },
     "execution_count": 42,
     "metadata": {
      "tags": []
     },
     "output_type": "execute_result"
    },
    {
     "data": {
      "image/png": "[encoded data removed]",
      "text/plain": [
       "<matplotlib.figure.Figure at 0x7fadd3182860>"
      ]
     },
     "metadata": {
      "tags": []
     },
     "output_type": "display_data"
    }
   ],
   "source": [
    "plt.tick_params(labelbottom=False, labelleft=False, labelright=False, labeltop=False)\n",
    "plt.grid(False)\n",
    "plt.imshow(images[0,:,:,:].cpu().detach().numpy().transpose(1,2,0) / 2 + 0.5 )"
   ]
  },
  {
   "cell_type": "code",
   "execution_count": null,
   "metadata": {
    "colab": {
     "base_uri": "https://localhost:8080/",
     "height": 210
    },
    "colab_type": "code",
    "collapsed": true,
    "id": "JQUmcELAkL8u",
    "outputId": "0b3ab5ee-847a-4758-89b0-7bb2eb673a65"
   },
   "outputs": [],
   "source": [
    "model.net.train()"
   ]
  },
  {
   "cell_type": "code",
   "execution_count": 0,
   "metadata": {
    "colab": {},
    "colab_type": "code",
    "collapsed": true,
    "id": "dezmLrsMiq-6"
   },
   "outputs": [],
   "source": [
    "x = model.net.relu(model.net.conv1(images))"
   ]
  },
  {
   "cell_type": "code",
   "execution_count": 45,
   "metadata": {
    "colab": {
     "base_uri": "https://localhost:8080/",
     "height": 266
    },
    "colab_type": "code",
    "id": "O0yrZZX7iujG",
    "outputId": "76877872-b3ee-472b-92e1-909afc48d610"
   },
   "outputs": [
    {
     "data": {
      "text/plain": [
       "<matplotlib.image.AxesImage at 0x7fadd28a0ac8>"
      ]
     },
     "execution_count": 45,
     "metadata": {
      "tags": []
     },
     "output_type": "execute_result"
    },
    {
     "data": {
      "image/png": "[encoded data removed]",
      "text/plain": [
       "<matplotlib.figure.Figure at 0x7fadd8123780>"
      ]
     },
     "metadata": {
      "tags": []
     },
     "output_type": "display_data"
    }
   ],
   "source": [
    "plt.tick_params(labelbottom=False, labelleft=False, labelright=False, labeltop=False)\n",
    "plt.grid(False)\n",
    "plt.imshow(x[0,0,:,:].cpu().detach().numpy(),'gray')"
   ]
  },
  {
   "cell_type": "code",
   "execution_count": 46,
   "metadata": {
    "colab": {
     "base_uri": "https://localhost:8080/",
     "height": 266
    },
    "colab_type": "code",
    "id": "E5zJppYYjzpm",
    "outputId": "38d1d84d-45b5-4183-fd3b-411dde074e1b"
   },
   "outputs": [
    {
     "data": {
      "text/plain": [
       "<matplotlib.image.AxesImage at 0x7fadd287df60>"
      ]
     },
     "execution_count": 46,
     "metadata": {
      "tags": []
     },
     "output_type": "execute_result"
    },
    {
     "data": {
      "image/png": "[encoded data removed]",
      "text/plain": [
       "<matplotlib.figure.Figure at 0x7fadd28db3c8>"
      ]
     },
     "metadata": {
      "tags": []
     },
     "output_type": "display_data"
    }
   ],
   "source": [
    "x2 = model.net.relu(model.net.conv2(x))\n",
    "\n",
    "plt.tick_params(labelbottom=False, labelleft=False, labelright=False, labeltop=False)\n",
    "plt.grid(False)\n",
    "plt.imshow(x2[0,0,:,:].cpu().detach().numpy(),'gray')"
   ]
  },
  {
   "cell_type": "code",
   "execution_count": 0,
   "metadata": {
    "colab": {},
    "colab_type": "code",
    "collapsed": true,
    "id": "54umcl_Uj43W"
   },
   "outputs": [],
   "source": [
    "model.net.drop.keep_prob = 0.75\n",
    "model.net.drop.block_size = 3\n",
    "\n",
    "x2_dropout = model.net.drop(x2)"
   ]
  },
  {
   "cell_type": "code",
   "execution_count": 48,
   "metadata": {
    "colab": {
     "base_uri": "https://localhost:8080/",
     "height": 266
    },
    "colab_type": "code",
    "id": "vDKtoStpj9J2",
    "outputId": "0c1c1f73-5b46-4cca-9aa7-4cdc5fb26dde"
   },
   "outputs": [
    {
     "data": {
      "text/plain": [
       "<matplotlib.image.AxesImage at 0x7fadd27e34e0>"
      ]
     },
     "execution_count": 48,
     "metadata": {
      "tags": []
     },
     "output_type": "execute_result"
    },
    {
     "data": {
      "image/png": "[encoded data removed]",
      "text/plain": [
       "<matplotlib.figure.Figure at 0x7fadd2811588>"
      ]
     },
     "metadata": {
      "tags": []
     },
     "output_type": "display_data"
    }
   ],
   "source": [
    "plt.tick_params(labelbottom=False, labelleft=False, labelright=False, labeltop=False)\n",
    "plt.grid(False)\n",
    "plt.imshow(x2_dropout[0,0,:,:].cpu().detach().numpy(),'gray')"
   ]
  },
  {
   "cell_type": "code",
   "execution_count": 49,
   "metadata": {
    "colab": {
     "base_uri": "https://localhost:8080/",
     "height": 266
    },
    "colab_type": "code",
    "id": "HyquTx-Lp1NX",
    "outputId": "1550be12-309a-4d78-b395-0b392f884f3c"
   },
   "outputs": [
    {
     "data": {
      "text/plain": [
       "<matplotlib.image.AxesImage at 0x7fadd27c0cf8>"
      ]
     },
     "execution_count": 49,
     "metadata": {
      "tags": []
     },
     "output_type": "execute_result"
    },
    {
     "data": {
      "image/png": "[encoded data removed]",
      "text/plain": [
       "<matplotlib.figure.Figure at 0x7fadd282b240>"
      ]
     },
     "metadata": {
      "tags": []
     },
     "output_type": "display_data"
    }
   ],
   "source": [
    "x3 = model.net.relu(model.net.conv3(x2_dropout))\n",
    "\n",
    "plt.tick_params(labelbottom=False, labelleft=False, labelright=False, labeltop=False)\n",
    "plt.grid(False)\n",
    "plt.imshow(x3[0,0,:,:].cpu().detach().numpy(),'gray')"
   ]
  },
  {
   "cell_type": "code",
   "execution_count": 50,
   "metadata": {
    "colab": {
     "base_uri": "https://localhost:8080/",
     "height": 266
    },
    "colab_type": "code",
    "id": "Ryiegn5-p8t0",
    "outputId": "cb4233f5-176d-4f94-c2ef-9b7458013606"
   },
   "outputs": [
    {
     "data": {
      "text/plain": [
       "<matplotlib.image.AxesImage at 0x7fadd2721470>"
      ]
     },
     "execution_count": 50,
     "metadata": {
      "tags": []
     },
     "output_type": "execute_result"
    },
    {
     "data": {
      "image/png": "[encoded data removed]",
      "text/plain": [
       "<matplotlib.figure.Figure at 0x7fadd282bc88>"
      ]
     },
     "metadata": {
      "tags": []
     },
     "output_type": "display_data"
    }
   ],
   "source": [
    "x3_dropout = model.net.drop(x3)\n",
    "\n",
    "plt.tick_params(labelbottom=False, labelleft=False, labelright=False, labeltop=False)\n",
    "plt.grid(False)\n",
    "plt.imshow(x3_dropout[0,0,:,:].cpu().detach().numpy(),'gray')"
   ]
  },
  {
   "cell_type": "code",
   "execution_count": 15,
   "metadata": {
    "colab": {
     "base_uri": "https://localhost:8080/",
     "height": 265
    },
    "colab_type": "code",
    "id": "urAR7e9Svt0k",
    "outputId": "f42e1e07-8e6f-4578-eaf1-42ffb20e88eb"
   },
   "outputs": [
    {
     "data": {
      "image/png": "[encoded data removed]",
      "text/plain": [
       "<matplotlib.figure.Figure at 0x7fbf01f08a90>"
      ]
     },
     "metadata": {
      "tags": []
     },
     "output_type": "display_data"
    }
   ],
   "source": [
    "import pandas as pd\n",
    "df = pd.read_csv('./cifar10_dropblock_loss_report.csv', header=0)\n",
    "col = df.columns\n",
    "plt.plot(df[col[0]],df[col[1]],'-,',label='dropblock_loss', linewidth=1.5)\n",
    "\n",
    "df = pd.read_csv('./cifar10_dropout_loss_report.csv', header=0)\n",
    "col = df.columns\n",
    "plt.plot(df[col[0]],df[col[1]],'-,',label='dropout_loss', linewidth=1.5)\n",
    "\n",
    "plt.legend()\n",
    "plt.show()\n",
    "plt.close()"
   ]
  }
 ],
 "metadata": {
  "accelerator": "GPU",
  "colab": {
   "collapsed_sections": [],
   "name": "PyTorch_CIFAR10_with_DropBlock.ipynb",
   "provenance": [],
   "version": "0.3.2"
  },
  "kernelspec": {
   "display_name": "Python 3",
   "language": "python",
   "name": "python3"
  },
  "language_info": {
   "codemirror_mode": {
    "name": "ipython",
    "version": 3
   },
   "file_extension": ".py",
   "mimetype": "text/x-python",
   "name": "python",
   "nbconvert_exporter": "python",
   "pygments_lexer": "ipython3",
   "version": "3.6.2"
  },
  "toc": {
   "base_numbering": 1,
   "nav_menu": {},
   "number_sections": true,
   "sideBar": true,
   "skip_h1_title": false,
   "title_cell": "Table of Contents",
   "title_sidebar": "Contents",
   "toc_cell": false,
   "toc_position": {},
   "toc_section_display": true,
   "toc_window_display": false
  }
 },
 "nbformat": 4,
 "nbformat_minor": 1
}
