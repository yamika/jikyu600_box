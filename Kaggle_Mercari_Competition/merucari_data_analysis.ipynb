{
 "cells": [
  {
   "cell_type": "code",
   "execution_count": 1,
   "metadata": {
    "collapsed": true
   },
   "outputs": [],
   "source": [
    "import numpy as np\n",
    "import pandas as pd\n",
    "import seaborn as sns\n",
    "import matplotlib.pyplot as plt\n",
    "import tensorflow as tf\n",
    "import pickle\n",
    "%matplotlib inline"
   ]
  },
  {
   "cell_type": "code",
   "execution_count": 2,
   "metadata": {
    "collapsed": true
   },
   "outputs": [],
   "source": [
    "# tsvファイルを読み込む\n",
    "train_df = pd.read_csv('train.tsv',delimiter='\\t')"
   ]
  },
  {
   "cell_type": "code",
   "execution_count": 3,
   "metadata": {},
   "outputs": [
    {
     "data": {
      "text/html": [
       "<div>\n",
       "<style>\n",
       "    .dataframe thead tr:only-child th {\n",
       "        text-align: right;\n",
       "    }\n",
       "\n",
       "    .dataframe thead th {\n",
       "        text-align: left;\n",
       "    }\n",
       "\n",
       "    .dataframe tbody tr th {\n",
       "        vertical-align: top;\n",
       "    }\n",
       "</style>\n",
       "<table border=\"1\" class=\"dataframe\">\n",
       "  <thead>\n",
       "    <tr style=\"text-align: right;\">\n",
       "      <th></th>\n",
       "      <th>train_id</th>\n",
       "      <th>name</th>\n",
       "      <th>item_condition_id</th>\n",
       "      <th>category_name</th>\n",
       "      <th>brand_name</th>\n",
       "      <th>price</th>\n",
       "      <th>shipping</th>\n",
       "      <th>item_description</th>\n",
       "    </tr>\n",
       "  </thead>\n",
       "  <tbody>\n",
       "    <tr>\n",
       "      <th>0</th>\n",
       "      <td>0</td>\n",
       "      <td>MLB Cincinnati Reds T Shirt Size XL</td>\n",
       "      <td>3</td>\n",
       "      <td>Men/Tops/T-shirts</td>\n",
       "      <td>NaN</td>\n",
       "      <td>10.0</td>\n",
       "      <td>1</td>\n",
       "      <td>No description yet</td>\n",
       "    </tr>\n",
       "    <tr>\n",
       "      <th>1</th>\n",
       "      <td>1</td>\n",
       "      <td>Razer BlackWidow Chroma Keyboard</td>\n",
       "      <td>3</td>\n",
       "      <td>Electronics/Computers &amp; Tablets/Components &amp; P...</td>\n",
       "      <td>Razer</td>\n",
       "      <td>52.0</td>\n",
       "      <td>0</td>\n",
       "      <td>This keyboard is in great condition and works ...</td>\n",
       "    </tr>\n",
       "    <tr>\n",
       "      <th>2</th>\n",
       "      <td>2</td>\n",
       "      <td>AVA-VIV Blouse</td>\n",
       "      <td>1</td>\n",
       "      <td>Women/Tops &amp; Blouses/Blouse</td>\n",
       "      <td>Target</td>\n",
       "      <td>10.0</td>\n",
       "      <td>1</td>\n",
       "      <td>Adorable top with a hint of lace and a key hol...</td>\n",
       "    </tr>\n",
       "    <tr>\n",
       "      <th>3</th>\n",
       "      <td>3</td>\n",
       "      <td>Leather Horse Statues</td>\n",
       "      <td>1</td>\n",
       "      <td>Home/Home Décor/Home Décor Accents</td>\n",
       "      <td>NaN</td>\n",
       "      <td>35.0</td>\n",
       "      <td>1</td>\n",
       "      <td>New with tags. Leather horses. Retail for [rm]...</td>\n",
       "    </tr>\n",
       "    <tr>\n",
       "      <th>4</th>\n",
       "      <td>4</td>\n",
       "      <td>24K GOLD plated rose</td>\n",
       "      <td>1</td>\n",
       "      <td>Women/Jewelry/Necklaces</td>\n",
       "      <td>NaN</td>\n",
       "      <td>44.0</td>\n",
       "      <td>0</td>\n",
       "      <td>Complete with certificate of authenticity</td>\n",
       "    </tr>\n",
       "  </tbody>\n",
       "</table>\n",
       "</div>"
      ],
      "text/plain": [
       "   train_id                                 name  item_condition_id  \\\n",
       "0         0  MLB Cincinnati Reds T Shirt Size XL                  3   \n",
       "1         1     Razer BlackWidow Chroma Keyboard                  3   \n",
       "2         2                       AVA-VIV Blouse                  1   \n",
       "3         3                Leather Horse Statues                  1   \n",
       "4         4                 24K GOLD plated rose                  1   \n",
       "\n",
       "                                       category_name brand_name  price  \\\n",
       "0                                  Men/Tops/T-shirts        NaN   10.0   \n",
       "1  Electronics/Computers & Tablets/Components & P...      Razer   52.0   \n",
       "2                        Women/Tops & Blouses/Blouse     Target   10.0   \n",
       "3                 Home/Home Décor/Home Décor Accents        NaN   35.0   \n",
       "4                            Women/Jewelry/Necklaces        NaN   44.0   \n",
       "\n",
       "   shipping                                   item_description  \n",
       "0         1                                 No description yet  \n",
       "1         0  This keyboard is in great condition and works ...  \n",
       "2         1  Adorable top with a hint of lace and a key hol...  \n",
       "3         1  New with tags. Leather horses. Retail for [rm]...  \n",
       "4         0          Complete with certificate of authenticity  "
      ]
     },
     "execution_count": 3,
     "metadata": {},
     "output_type": "execute_result"
    }
   ],
   "source": [
    "train_df.head(5)"
   ]
  },
  {
   "cell_type": "code",
   "execution_count": 7,
   "metadata": {},
   "outputs": [
    {
     "data": {
      "text/plain": [
       "1482535"
      ]
     },
     "execution_count": 7,
     "metadata": {},
     "output_type": "execute_result"
    }
   ],
   "source": [
    "len(train_df)"
   ]
  },
  {
   "cell_type": "code",
   "execution_count": 4,
   "metadata": {},
   "outputs": [
    {
     "data": {
      "text/plain": [
       "train_id                  0\n",
       "name                      0\n",
       "item_condition_id         0\n",
       "category_name          6327\n",
       "brand_name           632682\n",
       "price                     0\n",
       "shipping                  0\n",
       "item_description          4\n",
       "dtype: int64"
      ]
     },
     "execution_count": 4,
     "metadata": {},
     "output_type": "execute_result"
    }
   ],
   "source": [
    "# 欠損値の確認\n",
    "train_df.isnull().sum()"
   ]
  },
  {
   "cell_type": "code",
   "execution_count": 5,
   "metadata": {
    "collapsed": true
   },
   "outputs": [],
   "source": [
    "def isBrandname(x,name):\n",
    "    brand_name = str(x['brand_name'])\n",
    "    if(brand_name==name):\n",
    "        return 0\n",
    "    return 1"
   ]
  },
  {
   "cell_type": "code",
   "execution_count": 6,
   "metadata": {
    "collapsed": true
   },
   "outputs": [],
   "source": [
    "fill_nan_brand_name = \"Unknown\"\n",
    "train_df['brand_name']=train_df[['brand_name']].fillna(fill_nan_brand_name)\n",
    "train_df['is_brand_name'] =  train_df.apply(lambda x: isBrandname(x,fill_nan_brand_name), axis=1)"
   ]
  },
  {
   "cell_type": "code",
   "execution_count": 7,
   "metadata": {},
   "outputs": [
    {
     "data": {
      "text/html": [
       "<div>\n",
       "<style>\n",
       "    .dataframe thead tr:only-child th {\n",
       "        text-align: right;\n",
       "    }\n",
       "\n",
       "    .dataframe thead th {\n",
       "        text-align: left;\n",
       "    }\n",
       "\n",
       "    .dataframe tbody tr th {\n",
       "        vertical-align: top;\n",
       "    }\n",
       "</style>\n",
       "<table border=\"1\" class=\"dataframe\">\n",
       "  <thead>\n",
       "    <tr style=\"text-align: right;\">\n",
       "      <th></th>\n",
       "      <th>train_id</th>\n",
       "      <th>name</th>\n",
       "      <th>item_condition_id</th>\n",
       "      <th>category_name</th>\n",
       "      <th>brand_name</th>\n",
       "      <th>price</th>\n",
       "      <th>shipping</th>\n",
       "      <th>item_description</th>\n",
       "      <th>is_brand_name</th>\n",
       "    </tr>\n",
       "  </thead>\n",
       "  <tbody>\n",
       "    <tr>\n",
       "      <th>0</th>\n",
       "      <td>0</td>\n",
       "      <td>MLB Cincinnati Reds T Shirt Size XL</td>\n",
       "      <td>3</td>\n",
       "      <td>Men/Tops/T-shirts</td>\n",
       "      <td>Unknown</td>\n",
       "      <td>10.0</td>\n",
       "      <td>1</td>\n",
       "      <td>No description yet</td>\n",
       "      <td>0</td>\n",
       "    </tr>\n",
       "    <tr>\n",
       "      <th>1</th>\n",
       "      <td>1</td>\n",
       "      <td>Razer BlackWidow Chroma Keyboard</td>\n",
       "      <td>3</td>\n",
       "      <td>Electronics/Computers &amp; Tablets/Components &amp; P...</td>\n",
       "      <td>Razer</td>\n",
       "      <td>52.0</td>\n",
       "      <td>0</td>\n",
       "      <td>This keyboard is in great condition and works ...</td>\n",
       "      <td>1</td>\n",
       "    </tr>\n",
       "    <tr>\n",
       "      <th>2</th>\n",
       "      <td>2</td>\n",
       "      <td>AVA-VIV Blouse</td>\n",
       "      <td>1</td>\n",
       "      <td>Women/Tops &amp; Blouses/Blouse</td>\n",
       "      <td>Target</td>\n",
       "      <td>10.0</td>\n",
       "      <td>1</td>\n",
       "      <td>Adorable top with a hint of lace and a key hol...</td>\n",
       "      <td>1</td>\n",
       "    </tr>\n",
       "    <tr>\n",
       "      <th>3</th>\n",
       "      <td>3</td>\n",
       "      <td>Leather Horse Statues</td>\n",
       "      <td>1</td>\n",
       "      <td>Home/Home Décor/Home Décor Accents</td>\n",
       "      <td>Unknown</td>\n",
       "      <td>35.0</td>\n",
       "      <td>1</td>\n",
       "      <td>New with tags. Leather horses. Retail for [rm]...</td>\n",
       "      <td>0</td>\n",
       "    </tr>\n",
       "    <tr>\n",
       "      <th>4</th>\n",
       "      <td>4</td>\n",
       "      <td>24K GOLD plated rose</td>\n",
       "      <td>1</td>\n",
       "      <td>Women/Jewelry/Necklaces</td>\n",
       "      <td>Unknown</td>\n",
       "      <td>44.0</td>\n",
       "      <td>0</td>\n",
       "      <td>Complete with certificate of authenticity</td>\n",
       "      <td>0</td>\n",
       "    </tr>\n",
       "  </tbody>\n",
       "</table>\n",
       "</div>"
      ],
      "text/plain": [
       "   train_id                                 name  item_condition_id  \\\n",
       "0         0  MLB Cincinnati Reds T Shirt Size XL                  3   \n",
       "1         1     Razer BlackWidow Chroma Keyboard                  3   \n",
       "2         2                       AVA-VIV Blouse                  1   \n",
       "3         3                Leather Horse Statues                  1   \n",
       "4         4                 24K GOLD plated rose                  1   \n",
       "\n",
       "                                       category_name brand_name  price  \\\n",
       "0                                  Men/Tops/T-shirts    Unknown   10.0   \n",
       "1  Electronics/Computers & Tablets/Components & P...      Razer   52.0   \n",
       "2                        Women/Tops & Blouses/Blouse     Target   10.0   \n",
       "3                 Home/Home Décor/Home Décor Accents    Unknown   35.0   \n",
       "4                            Women/Jewelry/Necklaces    Unknown   44.0   \n",
       "\n",
       "   shipping                                   item_description  is_brand_name  \n",
       "0         1                                 No description yet              0  \n",
       "1         0  This keyboard is in great condition and works ...              1  \n",
       "2         1  Adorable top with a hint of lace and a key hol...              1  \n",
       "3         1  New with tags. Leather horses. Retail for [rm]...              0  \n",
       "4         0          Complete with certificate of authenticity              0  "
      ]
     },
     "execution_count": 7,
     "metadata": {},
     "output_type": "execute_result"
    }
   ],
   "source": [
    "train_df.head(5)"
   ]
  },
  {
   "cell_type": "code",
   "execution_count": 8,
   "metadata": {},
   "outputs": [
    {
     "data": {
      "text/plain": [
       "1    640549\n",
       "3    432161\n",
       "2    375479\n",
       "4     31962\n",
       "5      2384\n",
       "Name: item_condition_id, dtype: int64"
      ]
     },
     "execution_count": 8,
     "metadata": {},
     "output_type": "execute_result"
    }
   ],
   "source": [
    "# item_condition_idの割合をみる\n",
    "train_df['item_condition_id'].value_counts()"
   ]
  },
  {
   "cell_type": "code",
   "execution_count": 9,
   "metadata": {},
   "outputs": [
    {
     "data": {
      "text/plain": [
       "Women/Athletic Apparel/Pants, Tights, Leggings                 60177\n",
       "Women/Tops & Blouses/T-Shirts                                  46380\n",
       "Beauty/Makeup/Face                                             34335\n",
       "Beauty/Makeup/Lips                                             29910\n",
       "Electronics/Video Games & Consoles/Games                       26557\n",
       "Beauty/Makeup/Eyes                                             25215\n",
       "Electronics/Cell Phones & Accessories/Cases, Covers & Skins    24676\n",
       "Women/Underwear/Bras                                           21274\n",
       "Women/Tops & Blouses/Blouse                                    20284\n",
       "Women/Tops & Blouses/Tank, Cami                                20284\n",
       "Women/Dresses/Above Knee, Mini                                 20082\n",
       "Women/Jewelry/Necklaces                                        19758\n",
       "Women/Athletic Apparel/Shorts                                  19528\n",
       "Beauty/Makeup/Makeup Palettes                                  19103\n",
       "Women/Shoes/Boots                                              18864\n",
       "Beauty/Fragrance/Women                                         18628\n",
       "Beauty/Skin Care/Face                                          15836\n",
       "Women/Women's Handbags/Shoulder Bag                            15328\n",
       "Men/Tops/T-shirts                                              15108\n",
       "Women/Dresses/Knee-Length                                      14770\n",
       "Women/Athletic Apparel/Shirts & Tops                           14738\n",
       "Women/Shoes/Sandals                                            14662\n",
       "Women/Jewelry/Bracelets                                        14497\n",
       "Men/Shoes/Athletic                                             14257\n",
       "Kids/Toys/Dolls & Accessories                                  13957\n",
       "Women/Women's Accessories/Wallets                              13616\n",
       "Women/Jeans/Slim, Skinny                                       13392\n",
       "Home/Home Décor/Home Décor Accents                             13004\n",
       "Women/Swimwear/Two-Piece                                       12758\n",
       "Women/Shoes/Athletic                                           12662\n",
       "                                                               ...  \n",
       "Handmade/Glass/Vases                                               1\n",
       "Handmade/Pets/Tag                                                  1\n",
       "Men/Blazers & Sport Coats/Double Breasted                          1\n",
       "Handmade/Knitting/Women                                            1\n",
       "Other/Magazines/International Publications                         1\n",
       "Handmade/Knitting/Doll                                             1\n",
       "Home/Furniture/Bathroom Furniture                                  1\n",
       "Handmade/Patterns/Baby                                             1\n",
       "Handmade/Knitting/Bags and Purses                                  1\n",
       "Handmade/Holidays/Patriotic                                        1\n",
       "Handmade/Accessories/Mirror                                        1\n",
       "Home/Home Appliances/Dishwashers                                   1\n",
       "Handmade/Weddings/Bags and Purses                                  1\n",
       "Handmade/Furniture/Shelf                                           1\n",
       "Handmade/Housewares/Bathroom                                       1\n",
       "Handmade/Bags and Purses/Other                                     1\n",
       "Men/Suits/One Button                                               1\n",
       "Handmade/Housewares/Cleaning                                       1\n",
       "Handmade/Weddings/Frames                                           1\n",
       "Handmade/Books and Zines/Comic                                     1\n",
       "Handmade/Weddings/Something Blue                                   1\n",
       "Home/Home Décor/Doorstops                                          1\n",
       "Kids/Diapering/Washcloths & Towels                                 1\n",
       "Handmade/Accessories/Cuff                                          1\n",
       "Handmade/Furniture/Other                                           1\n",
       "Handmade/Toys/Sports                                               1\n",
       "Handmade/Woodworking/Seasonal                                      1\n",
       "Handmade/Quilts/Trim                                               1\n",
       "Handmade/Holidays/Thanksgiving                                     1\n",
       "Handmade/Others/Educational                                        1\n",
       "Name: category_name, Length: 1287, dtype: int64"
      ]
     },
     "execution_count": 9,
     "metadata": {},
     "output_type": "execute_result"
    }
   ],
   "source": [
    "# category_nameの割合をみる\n",
    "train_df['category_name'].value_counts()"
   ]
  },
  {
   "cell_type": "code",
   "execution_count": 10,
   "metadata": {
    "collapsed": true
   },
   "outputs": [],
   "source": [
    "def get_first_category_name(x):\n",
    "    category_name = str(x['category_name'])\n",
    "    return category_name.split('/')[0]"
   ]
  },
  {
   "cell_type": "code",
   "execution_count": 11,
   "metadata": {
    "collapsed": true
   },
   "outputs": [],
   "source": [
    "# category_nameの第一カテゴリを抜き取る\n",
    "# 欠損値は Unknown で埋めておく\n",
    "fill_nan_category_name = \"Unknown\"\n",
    "train_df['category_name']=train_df[['category_name']].fillna(fill_nan_category_name)\n",
    "\n",
    "train_df['first_category_name'] =  train_df.apply(lambda x: get_first_category_name(x), axis=1)"
   ]
  },
  {
   "cell_type": "code",
   "execution_count": 13,
   "metadata": {},
   "outputs": [
    {
     "data": {
      "text/plain": [
       "Women                     664385\n",
       "Beauty                    207828\n",
       "Kids                      171689\n",
       "Electronics               122690\n",
       "Men                        93680\n",
       "Home                       67871\n",
       "Vintage & Collectibles     46530\n",
       "Other                      45351\n",
       "Handmade                   30842\n",
       "Sports & Outdoors          25342\n",
       "Unknown                     6327\n",
       "Name: first_category_name, dtype: int64"
      ]
     },
     "execution_count": 13,
     "metadata": {},
     "output_type": "execute_result"
    }
   ],
   "source": [
    "train_df['first_category_name'].value_counts()"
   ]
  },
  {
   "cell_type": "code",
   "execution_count": 14,
   "metadata": {
    "collapsed": true
   },
   "outputs": [],
   "source": [
    "def get_second_category_name(x):\n",
    "    category_name = str(x['category_name'])\n",
    "    if(len(category_name.split('/')) > 1):\n",
    "        return category_name.split('/')[1]\n",
    "    else:\n",
    "        return \"NoCategory\""
   ]
  },
  {
   "cell_type": "code",
   "execution_count": 15,
   "metadata": {
    "collapsed": true
   },
   "outputs": [],
   "source": [
    "# category_nameの第二カテゴリを抜き取る\n",
    "train_df['second_category_name'] =  train_df.apply(lambda x: get_second_category_name(x), axis=1)"
   ]
  },
  {
   "cell_type": "code",
   "execution_count": 16,
   "metadata": {},
   "outputs": [
    {
     "data": {
      "text/plain": [
       "Athletic Apparel             134383\n",
       "Makeup                       124624\n",
       "Tops & Blouses               106960\n",
       "Shoes                        100452\n",
       "Jewelry                       61763\n",
       "Toys                          58158\n",
       "Cell Phones & Accessories     53290\n",
       "Women's Handbags              45862\n",
       "Dresses                       45758\n",
       "Women's Accessories           42350\n",
       "Jeans                         36130\n",
       "Video Games & Consoles        35971\n",
       "Sweaters                      35752\n",
       "Underwear                     33784\n",
       "Skin Care                     29838\n",
       "Home Décor                    25188\n",
       "Fragrance                     24294\n",
       "Kitchen & Dining              21954\n",
       "Tops                          20591\n",
       "Other                         20017\n",
       "Swimwear                      18924\n",
       "Men's Accessories             18672\n",
       "Girls 2T-5T                   18448\n",
       "Coats & Jackets               18391\n",
       "Girls 0-24 Mos                17878\n",
       "Boys 0-24 Mos                 15372\n",
       "Girls (4+)                    15243\n",
       "Boys (4+)                     14747\n",
       "Boys 2T-5T                    14382\n",
       "Tools & Accessories           13055\n",
       "                              ...  \n",
       "Kids' Home Store                675\n",
       "Art                             656\n",
       "Weddings                        611\n",
       "Glass                           592\n",
       "Health & Baby Care              547\n",
       "Footwear                        540\n",
       "Car Audio, Video & GPS          516\n",
       "Strollers                       477\n",
       "Home Decor                      477\n",
       "Safety                          400\n",
       "Holidays                        325\n",
       "Others                          309\n",
       "Needlecraft                     271\n",
       "Pets                            261\n",
       "Crochet                         234\n",
       "Magazines                       219\n",
       "Patterns                        202\n",
       "Furniture                       179\n",
       "Paper Ephemera                  165\n",
       "Knitting                        163\n",
       "Potty Training                  155\n",
       "Woodworking                     121\n",
       "Geekery                         110\n",
       "Blazers & Sport Coats            69\n",
       "Suits                            66\n",
       "Candles                          64\n",
       "Ceramics and Pottery             57\n",
       "Dolls and Miniatures             49\n",
       "Books and Zines                  46\n",
       "Quilts                           31\n",
       "Name: second_category_name, Length: 114, dtype: int64"
      ]
     },
     "execution_count": 16,
     "metadata": {},
     "output_type": "execute_result"
    }
   ],
   "source": [
    "train_df['second_category_name'].value_counts()"
   ]
  },
  {
   "cell_type": "code",
   "execution_count": 17,
   "metadata": {
    "collapsed": true
   },
   "outputs": [],
   "source": [
    "def get_third_category_name(x):\n",
    "    category_name = str(x['category_name'])\n",
    "    if(len(category_name.split('/')) > 2):\n",
    "        return category_name.split('/')[2]\n",
    "    else:\n",
    "        return \"NoCategory\""
   ]
  },
  {
   "cell_type": "code",
   "execution_count": 18,
   "metadata": {
    "collapsed": true
   },
   "outputs": [],
   "source": [
    "# category_nameの第三カテゴリを抜き取る\n",
    "train_df['third_category_name'] =  train_df.apply(lambda x: get_third_category_name(x), axis=1)"
   ]
  },
  {
   "cell_type": "code",
   "execution_count": 19,
   "metadata": {},
   "outputs": [
    {
     "data": {
      "text/plain": [
       "Pants, Tights, Leggings       60177\n",
       "Other                         50224\n",
       "Face                          50171\n",
       "T-Shirts                      46380\n",
       "Shoes                         32168\n",
       "Games                         30906\n",
       "Lips                          30871\n",
       "Athletic                      27059\n",
       "Eyes                          26038\n",
       "Cases, Covers & Skins         24676\n",
       "Shorts                        21815\n",
       "Bras                          21274\n",
       "Blouse                        20288\n",
       "Tank, Cami                    20284\n",
       "Boots                         20270\n",
       "Above Knee, Mini              20082\n",
       "Necklaces                     19758\n",
       "Makeup Palettes               19103\n",
       "Women                         18975\n",
       "Shirts & Tops                 16876\n",
       "Sandals                       15368\n",
       "Shoulder Bag                  15328\n",
       "Fashion Sneakers              15203\n",
       "T-shirts                      15108\n",
       "Wallets                       14884\n",
       "Knee-Length                   14770\n",
       "Tops & T-Shirts               14508\n",
       "Bracelets                     14497\n",
       "Slim, Skinny                  14229\n",
       "Dolls & Accessories           13957\n",
       "                              ...  \n",
       "Bear                              1\n",
       "Garbage Disposals                 1\n",
       "Storage                           1\n",
       "Storage Solutions                 1\n",
       "Cleaning                          1\n",
       "Pet Food                          1\n",
       "New Years                         1\n",
       "Artist Bears                      1\n",
       "Ephemera                          1\n",
       "International Publications        1\n",
       "Mirror                            1\n",
       "Doll Clothes                      1\n",
       "Double Breasted                   1\n",
       "Aceo                              1\n",
       "Decorating                        1\n",
       "Primitive                         1\n",
       "Child Friendly                    1\n",
       "Seasonal                          1\n",
       "Tiles                             1\n",
       "Crib Netting                      1\n",
       "Pad                               1\n",
       "Videogame                         1\n",
       "St Patricks                       1\n",
       "Something Blue                    1\n",
       "Entertainment                     1\n",
       "Educational                       1\n",
       "Four Button                       1\n",
       "Bathroom                          1\n",
       "Nursery Furniture                 1\n",
       "Zipper                            1\n",
       "Name: third_category_name, Length: 871, dtype: int64"
      ]
     },
     "execution_count": 19,
     "metadata": {},
     "output_type": "execute_result"
    }
   ],
   "source": [
    "train_df['third_category_name'].value_counts()"
   ]
  },
  {
   "cell_type": "code",
   "execution_count": 20,
   "metadata": {},
   "outputs": [
    {
     "data": {
      "text/html": [
       "<div>\n",
       "<style>\n",
       "    .dataframe thead tr:only-child th {\n",
       "        text-align: right;\n",
       "    }\n",
       "\n",
       "    .dataframe thead th {\n",
       "        text-align: left;\n",
       "    }\n",
       "\n",
       "    .dataframe tbody tr th {\n",
       "        vertical-align: top;\n",
       "    }\n",
       "</style>\n",
       "<table border=\"1\" class=\"dataframe\">\n",
       "  <thead>\n",
       "    <tr style=\"text-align: right;\">\n",
       "      <th></th>\n",
       "      <th>train_id</th>\n",
       "      <th>name</th>\n",
       "      <th>item_condition_id</th>\n",
       "      <th>category_name</th>\n",
       "      <th>brand_name</th>\n",
       "      <th>price</th>\n",
       "      <th>shipping</th>\n",
       "      <th>item_description</th>\n",
       "      <th>is_brand_name</th>\n",
       "      <th>first_category_name</th>\n",
       "      <th>second_category_name</th>\n",
       "      <th>third_category_name</th>\n",
       "    </tr>\n",
       "  </thead>\n",
       "  <tbody>\n",
       "    <tr>\n",
       "      <th>760469</th>\n",
       "      <td>760469</td>\n",
       "      <td>NEW Chanel WOC Caviar Gold Hardware</td>\n",
       "      <td>1</td>\n",
       "      <td>Women/Women's Handbags/Shoulder Bag</td>\n",
       "      <td>Chanel</td>\n",
       "      <td>2009.0</td>\n",
       "      <td>0</td>\n",
       "      <td>New with tag, box and dustbag but no receipt. ...</td>\n",
       "      <td>1</td>\n",
       "      <td>Women</td>\n",
       "      <td>Women's Handbags</td>\n",
       "      <td>Shoulder Bag</td>\n",
       "    </tr>\n",
       "    <tr>\n",
       "      <th>1262245</th>\n",
       "      <td>1262245</td>\n",
       "      <td>NEW-Chanel Boy Wallet o Chain WOC Caviar</td>\n",
       "      <td>1</td>\n",
       "      <td>Women/Women's Handbags/Messenger &amp; Crossbody</td>\n",
       "      <td>Chanel</td>\n",
       "      <td>2006.0</td>\n",
       "      <td>0</td>\n",
       "      <td>Brand: Chanel Style: WOC Boy Wallet on Chain T...</td>\n",
       "      <td>1</td>\n",
       "      <td>Women</td>\n",
       "      <td>Women's Handbags</td>\n",
       "      <td>Messenger &amp; Crossbody</td>\n",
       "    </tr>\n",
       "    <tr>\n",
       "      <th>1393600</th>\n",
       "      <td>1393600</td>\n",
       "      <td>David Yurman Wheaton ring</td>\n",
       "      <td>2</td>\n",
       "      <td>Women/Jewelry/Rings</td>\n",
       "      <td>David Yurman</td>\n",
       "      <td>2004.0</td>\n",
       "      <td>0</td>\n",
       "      <td>David Yurman Wheaton wing. Size 6. Original re...</td>\n",
       "      <td>1</td>\n",
       "      <td>Women</td>\n",
       "      <td>Jewelry</td>\n",
       "      <td>Rings</td>\n",
       "    </tr>\n",
       "    <tr>\n",
       "      <th>742113</th>\n",
       "      <td>742113</td>\n",
       "      <td>Chanel Chevron Fuschia Pink 2</td>\n",
       "      <td>1</td>\n",
       "      <td>Women/Women's Handbags/Shoulder Bag</td>\n",
       "      <td>Chanel</td>\n",
       "      <td>2000.0</td>\n",
       "      <td>1</td>\n",
       "      <td>Authentic Brand new The price for this is [rm]...</td>\n",
       "      <td>1</td>\n",
       "      <td>Women</td>\n",
       "      <td>Women's Handbags</td>\n",
       "      <td>Shoulder Bag</td>\n",
       "    </tr>\n",
       "    <tr>\n",
       "      <th>956343</th>\n",
       "      <td>956343</td>\n",
       "      <td>Chanel Black wallet on chain</td>\n",
       "      <td>1</td>\n",
       "      <td>Women/Women's Handbags/Messenger &amp; Crossbody</td>\n",
       "      <td>Chanel</td>\n",
       "      <td>2000.0</td>\n",
       "      <td>1</td>\n",
       "      <td>Lambskin Color is Black with dark Silver Hardw...</td>\n",
       "      <td>1</td>\n",
       "      <td>Women</td>\n",
       "      <td>Women's Handbags</td>\n",
       "      <td>Messenger &amp; Crossbody</td>\n",
       "    </tr>\n",
       "    <tr>\n",
       "      <th>1445348</th>\n",
       "      <td>1445348</td>\n",
       "      <td>Vs2/I 1ct Diamond Engagement Ring</td>\n",
       "      <td>2</td>\n",
       "      <td>Women/Jewelry/Rings</td>\n",
       "      <td>Unknown</td>\n",
       "      <td>2000.0</td>\n",
       "      <td>1</td>\n",
       "      <td>Absolutely stunning diamond engagement ring Pu...</td>\n",
       "      <td>0</td>\n",
       "      <td>Women</td>\n",
       "      <td>Jewelry</td>\n",
       "      <td>Rings</td>\n",
       "    </tr>\n",
       "    <tr>\n",
       "      <th>778940</th>\n",
       "      <td>778940</td>\n",
       "      <td>Mary kay</td>\n",
       "      <td>1</td>\n",
       "      <td>Beauty/Makeup/Face</td>\n",
       "      <td>Mary Kay</td>\n",
       "      <td>2000.0</td>\n",
       "      <td>1</td>\n",
       "      <td>30 time wise sets Oily to combo skin</td>\n",
       "      <td>1</td>\n",
       "      <td>Beauty</td>\n",
       "      <td>Makeup</td>\n",
       "      <td>Face</td>\n",
       "    </tr>\n",
       "    <tr>\n",
       "      <th>415027</th>\n",
       "      <td>415027</td>\n",
       "      <td>Chanel Classic Jumbo Single flap bag</td>\n",
       "      <td>3</td>\n",
       "      <td>Women/Women's Handbags/Shoulder Bag</td>\n",
       "      <td>Chanel</td>\n",
       "      <td>2000.0</td>\n",
       "      <td>1</td>\n",
       "      <td>Authentic. Pre-loved in Excellent Condition. P...</td>\n",
       "      <td>1</td>\n",
       "      <td>Women</td>\n",
       "      <td>Women's Handbags</td>\n",
       "      <td>Shoulder Bag</td>\n",
       "    </tr>\n",
       "    <tr>\n",
       "      <th>1250053</th>\n",
       "      <td>1250053</td>\n",
       "      <td>Brand New Chanel CC Quilted WOC</td>\n",
       "      <td>2</td>\n",
       "      <td>Women/Women's Handbags/Messenger &amp; Crossbody</td>\n",
       "      <td>Chanel</td>\n",
       "      <td>2000.0</td>\n",
       "      <td>1</td>\n",
       "      <td>This is a brand new Chanel CC Quilted Wallet o...</td>\n",
       "      <td>1</td>\n",
       "      <td>Women</td>\n",
       "      <td>Women's Handbags</td>\n",
       "      <td>Messenger &amp; Crossbody</td>\n",
       "    </tr>\n",
       "    <tr>\n",
       "      <th>952000</th>\n",
       "      <td>952000</td>\n",
       "      <td>Chanel J12 H0682 Wrist Watch for Women</td>\n",
       "      <td>3</td>\n",
       "      <td>Women/Women's Accessories/Watches</td>\n",
       "      <td>Unknown</td>\n",
       "      <td>1999.0</td>\n",
       "      <td>1</td>\n",
       "      <td>HELLO , I HAVE A BLACK CHANEL WATCH J12 CERAMI...</td>\n",
       "      <td>0</td>\n",
       "      <td>Women</td>\n",
       "      <td>Women's Accessories</td>\n",
       "      <td>Watches</td>\n",
       "    </tr>\n",
       "  </tbody>\n",
       "</table>\n",
       "</div>"
      ],
      "text/plain": [
       "         train_id                                      name  \\\n",
       "760469     760469       NEW Chanel WOC Caviar Gold Hardware   \n",
       "1262245   1262245  NEW-Chanel Boy Wallet o Chain WOC Caviar   \n",
       "1393600   1393600                 David Yurman Wheaton ring   \n",
       "742113     742113             Chanel Chevron Fuschia Pink 2   \n",
       "956343     956343              Chanel Black wallet on chain   \n",
       "1445348   1445348         Vs2/I 1ct Diamond Engagement Ring   \n",
       "778940     778940                                  Mary kay   \n",
       "415027     415027      Chanel Classic Jumbo Single flap bag   \n",
       "1250053   1250053           Brand New Chanel CC Quilted WOC   \n",
       "952000     952000    Chanel J12 H0682 Wrist Watch for Women   \n",
       "\n",
       "         item_condition_id                                 category_name  \\\n",
       "760469                   1           Women/Women's Handbags/Shoulder Bag   \n",
       "1262245                  1  Women/Women's Handbags/Messenger & Crossbody   \n",
       "1393600                  2                           Women/Jewelry/Rings   \n",
       "742113                   1           Women/Women's Handbags/Shoulder Bag   \n",
       "956343                   1  Women/Women's Handbags/Messenger & Crossbody   \n",
       "1445348                  2                           Women/Jewelry/Rings   \n",
       "778940                   1                            Beauty/Makeup/Face   \n",
       "415027                   3           Women/Women's Handbags/Shoulder Bag   \n",
       "1250053                  2  Women/Women's Handbags/Messenger & Crossbody   \n",
       "952000                   3             Women/Women's Accessories/Watches   \n",
       "\n",
       "           brand_name   price  shipping  \\\n",
       "760469         Chanel  2009.0         0   \n",
       "1262245        Chanel  2006.0         0   \n",
       "1393600  David Yurman  2004.0         0   \n",
       "742113         Chanel  2000.0         1   \n",
       "956343         Chanel  2000.0         1   \n",
       "1445348       Unknown  2000.0         1   \n",
       "778940       Mary Kay  2000.0         1   \n",
       "415027         Chanel  2000.0         1   \n",
       "1250053        Chanel  2000.0         1   \n",
       "952000        Unknown  1999.0         1   \n",
       "\n",
       "                                          item_description  is_brand_name  \\\n",
       "760469   New with tag, box and dustbag but no receipt. ...              1   \n",
       "1262245  Brand: Chanel Style: WOC Boy Wallet on Chain T...              1   \n",
       "1393600  David Yurman Wheaton wing. Size 6. Original re...              1   \n",
       "742113   Authentic Brand new The price for this is [rm]...              1   \n",
       "956343   Lambskin Color is Black with dark Silver Hardw...              1   \n",
       "1445348  Absolutely stunning diamond engagement ring Pu...              0   \n",
       "778940                30 time wise sets Oily to combo skin              1   \n",
       "415027   Authentic. Pre-loved in Excellent Condition. P...              1   \n",
       "1250053  This is a brand new Chanel CC Quilted Wallet o...              1   \n",
       "952000   HELLO , I HAVE A BLACK CHANEL WATCH J12 CERAMI...              0   \n",
       "\n",
       "        first_category_name second_category_name    third_category_name  \n",
       "760469                Women     Women's Handbags           Shoulder Bag  \n",
       "1262245               Women     Women's Handbags  Messenger & Crossbody  \n",
       "1393600               Women              Jewelry                  Rings  \n",
       "742113                Women     Women's Handbags           Shoulder Bag  \n",
       "956343                Women     Women's Handbags  Messenger & Crossbody  \n",
       "1445348               Women              Jewelry                  Rings  \n",
       "778940               Beauty               Makeup                   Face  \n",
       "415027                Women     Women's Handbags           Shoulder Bag  \n",
       "1250053               Women     Women's Handbags  Messenger & Crossbody  \n",
       "952000                Women  Women's Accessories                Watches  "
      ]
     },
     "execution_count": 20,
     "metadata": {},
     "output_type": "execute_result"
    }
   ],
   "source": [
    "train_df.sort_values(by=[\"price\"], ascending=False).head(10)"
   ]
  },
  {
   "cell_type": "code",
   "execution_count": 12,
   "metadata": {
    "collapsed": true
   },
   "outputs": [],
   "source": [
    "brand_dict = dict(train_df['brand_name'].value_counts())"
   ]
  },
  {
   "cell_type": "code",
   "execution_count": 13,
   "metadata": {
    "collapsed": true
   },
   "outputs": [],
   "source": [
    "def extract_brandname_from_name(x,b_dict):\n",
    "    name = str(x['name'])\n",
    "    name_split_list = name.split(' ')\n",
    "    if(x['is_brand_name'] != 1):\n",
    "        for item in name_split_list:\n",
    "            if(item in b_dict):\n",
    "                return item\n",
    "    return str(x['brand_name'])"
   ]
  },
  {
   "cell_type": "code",
   "execution_count": 14,
   "metadata": {
    "collapsed": true
   },
   "outputs": [],
   "source": [
    "train_df['new_brand_name'] =  train_df.apply(lambda x: extract_brandname_from_name(x,brand_dict), axis=1)"
   ]
  },
  {
   "cell_type": "code",
   "execution_count": 37,
   "metadata": {
    "collapsed": true
   },
   "outputs": [],
   "source": [
    "# is_brand_nameをnew_brand_nameに対しても同じことを行い新しいものを作成する\n",
    "def is_new_brand_name(x,name):\n",
    "    brand_name = str(x['new_brand_name'])\n",
    "    if(brand_name==name):\n",
    "        return 0\n",
    "    return 1"
   ]
  },
  {
   "cell_type": "code",
   "execution_count": 38,
   "metadata": {
    "collapsed": true
   },
   "outputs": [],
   "source": [
    "train_df['is_new_brand_name'] =  train_df.apply(lambda x: is_new_brand_name(x,fill_nan_brand_name), axis=1)"
   ]
  },
  {
   "cell_type": "code",
   "execution_count": 39,
   "metadata": {},
   "outputs": [
    {
     "data": {
      "text/plain": [
       "1    849853\n",
       "0    632682\n",
       "Name: is_brand_name, dtype: int64"
      ]
     },
     "execution_count": 39,
     "metadata": {},
     "output_type": "execute_result"
    }
   ],
   "source": [
    "train_df['is_brand_name'].value_counts()"
   ]
  },
  {
   "cell_type": "code",
   "execution_count": 40,
   "metadata": {},
   "outputs": [
    {
     "data": {
      "text/plain": [
       "1    978176\n",
       "0    504359\n",
       "Name: is_new_brand_name, dtype: int64"
      ]
     },
     "execution_count": 40,
     "metadata": {},
     "output_type": "execute_result"
    }
   ],
   "source": [
    "train_df['is_new_brand_name'].value_counts()"
   ]
  },
  {
   "cell_type": "code",
   "execution_count": 43,
   "metadata": {
    "collapsed": true
   },
   "outputs": [],
   "source": [
    "# new_brand_nameがUnknownでは無いのもので、そのカテゴリ数が多いもの = メジャーなものかどうか区別する\n",
    "def is_major_brand_name(x,b_dict):\n",
    "    search_name = str(x['new_brand_name'])\n",
    "    result = 0\n",
    "    if(search_name != \"Unknown\"):\n",
    "        result = b_dict[search_name]\n",
    "        if(result > 150):\n",
    "            return 1\n",
    "    return 0"
   ]
  },
  {
   "cell_type": "code",
   "execution_count": 44,
   "metadata": {
    "collapsed": true
   },
   "outputs": [],
   "source": [
    "train_df['is_major_brand'] =  train_df.apply(lambda x: is_major_brand_name(x,brand_dict), axis=1)"
   ]
  },
  {
   "cell_type": "code",
   "execution_count": 45,
   "metadata": {},
   "outputs": [
    {
     "data": {
      "text/plain": [
       "1    844138\n",
       "0    638397\n",
       "Name: is_major_brand, dtype: int64"
      ]
     },
     "execution_count": 45,
     "metadata": {},
     "output_type": "execute_result"
    }
   ],
   "source": [
    "train_df['is_major_brand'].value_counts()"
   ]
  },
  {
   "cell_type": "code",
   "execution_count": 47,
   "metadata": {},
   "outputs": [
    {
     "data": {
      "text/html": [
       "<div>\n",
       "<style>\n",
       "    .dataframe thead tr:only-child th {\n",
       "        text-align: right;\n",
       "    }\n",
       "\n",
       "    .dataframe thead th {\n",
       "        text-align: left;\n",
       "    }\n",
       "\n",
       "    .dataframe tbody tr th {\n",
       "        vertical-align: top;\n",
       "    }\n",
       "</style>\n",
       "<table border=\"1\" class=\"dataframe\">\n",
       "  <thead>\n",
       "    <tr style=\"text-align: right;\">\n",
       "      <th></th>\n",
       "      <th>train_id</th>\n",
       "      <th>name</th>\n",
       "      <th>item_condition_id</th>\n",
       "      <th>category_name</th>\n",
       "      <th>brand_name</th>\n",
       "      <th>price</th>\n",
       "      <th>shipping</th>\n",
       "      <th>item_description</th>\n",
       "      <th>is_brand_name</th>\n",
       "      <th>first_category_name</th>\n",
       "      <th>second_category_name</th>\n",
       "      <th>third_category_name</th>\n",
       "      <th>new_brand_name</th>\n",
       "      <th>is_new_brand_name</th>\n",
       "      <th>is_major_brand</th>\n",
       "    </tr>\n",
       "  </thead>\n",
       "  <tbody>\n",
       "    <tr>\n",
       "      <th>0</th>\n",
       "      <td>0</td>\n",
       "      <td>MLB Cincinnati Reds T Shirt Size XL</td>\n",
       "      <td>3</td>\n",
       "      <td>Men/Tops/T-shirts</td>\n",
       "      <td>Unknown</td>\n",
       "      <td>10.0</td>\n",
       "      <td>1</td>\n",
       "      <td>No description yet</td>\n",
       "      <td>0</td>\n",
       "      <td>Men</td>\n",
       "      <td>Tops</td>\n",
       "      <td>T-shirts</td>\n",
       "      <td>MLB</td>\n",
       "      <td>1</td>\n",
       "      <td>1</td>\n",
       "    </tr>\n",
       "    <tr>\n",
       "      <th>1</th>\n",
       "      <td>1</td>\n",
       "      <td>Razer BlackWidow Chroma Keyboard</td>\n",
       "      <td>3</td>\n",
       "      <td>Electronics/Computers &amp; Tablets/Components &amp; P...</td>\n",
       "      <td>Razer</td>\n",
       "      <td>52.0</td>\n",
       "      <td>0</td>\n",
       "      <td>This keyboard is in great condition and works ...</td>\n",
       "      <td>1</td>\n",
       "      <td>Electronics</td>\n",
       "      <td>Computers &amp; Tablets</td>\n",
       "      <td>Components &amp; Parts</td>\n",
       "      <td>Razer</td>\n",
       "      <td>1</td>\n",
       "      <td>0</td>\n",
       "    </tr>\n",
       "    <tr>\n",
       "      <th>2</th>\n",
       "      <td>2</td>\n",
       "      <td>AVA-VIV Blouse</td>\n",
       "      <td>1</td>\n",
       "      <td>Women/Tops &amp; Blouses/Blouse</td>\n",
       "      <td>Target</td>\n",
       "      <td>10.0</td>\n",
       "      <td>1</td>\n",
       "      <td>Adorable top with a hint of lace and a key hol...</td>\n",
       "      <td>1</td>\n",
       "      <td>Women</td>\n",
       "      <td>Tops &amp; Blouses</td>\n",
       "      <td>Blouse</td>\n",
       "      <td>Target</td>\n",
       "      <td>1</td>\n",
       "      <td>1</td>\n",
       "    </tr>\n",
       "    <tr>\n",
       "      <th>3</th>\n",
       "      <td>3</td>\n",
       "      <td>Leather Horse Statues</td>\n",
       "      <td>1</td>\n",
       "      <td>Home/Home Décor/Home Décor Accents</td>\n",
       "      <td>Unknown</td>\n",
       "      <td>35.0</td>\n",
       "      <td>1</td>\n",
       "      <td>New with tags. Leather horses. Retail for [rm]...</td>\n",
       "      <td>0</td>\n",
       "      <td>Home</td>\n",
       "      <td>Home Décor</td>\n",
       "      <td>Home Décor Accents</td>\n",
       "      <td>Unknown</td>\n",
       "      <td>0</td>\n",
       "      <td>0</td>\n",
       "    </tr>\n",
       "    <tr>\n",
       "      <th>4</th>\n",
       "      <td>4</td>\n",
       "      <td>24K GOLD plated rose</td>\n",
       "      <td>1</td>\n",
       "      <td>Women/Jewelry/Necklaces</td>\n",
       "      <td>Unknown</td>\n",
       "      <td>44.0</td>\n",
       "      <td>0</td>\n",
       "      <td>Complete with certificate of authenticity</td>\n",
       "      <td>0</td>\n",
       "      <td>Women</td>\n",
       "      <td>Jewelry</td>\n",
       "      <td>Necklaces</td>\n",
       "      <td>Unknown</td>\n",
       "      <td>0</td>\n",
       "      <td>0</td>\n",
       "    </tr>\n",
       "  </tbody>\n",
       "</table>\n",
       "</div>"
      ],
      "text/plain": [
       "   train_id                                 name  item_condition_id  \\\n",
       "0         0  MLB Cincinnati Reds T Shirt Size XL                  3   \n",
       "1         1     Razer BlackWidow Chroma Keyboard                  3   \n",
       "2         2                       AVA-VIV Blouse                  1   \n",
       "3         3                Leather Horse Statues                  1   \n",
       "4         4                 24K GOLD plated rose                  1   \n",
       "\n",
       "                                       category_name brand_name  price  \\\n",
       "0                                  Men/Tops/T-shirts    Unknown   10.0   \n",
       "1  Electronics/Computers & Tablets/Components & P...      Razer   52.0   \n",
       "2                        Women/Tops & Blouses/Blouse     Target   10.0   \n",
       "3                 Home/Home Décor/Home Décor Accents    Unknown   35.0   \n",
       "4                            Women/Jewelry/Necklaces    Unknown   44.0   \n",
       "\n",
       "   shipping                                   item_description  is_brand_name  \\\n",
       "0         1                                 No description yet              0   \n",
       "1         0  This keyboard is in great condition and works ...              1   \n",
       "2         1  Adorable top with a hint of lace and a key hol...              1   \n",
       "3         1  New with tags. Leather horses. Retail for [rm]...              0   \n",
       "4         0          Complete with certificate of authenticity              0   \n",
       "\n",
       "  first_category_name second_category_name third_category_name new_brand_name  \\\n",
       "0                 Men                 Tops            T-shirts            MLB   \n",
       "1         Electronics  Computers & Tablets  Components & Parts          Razer   \n",
       "2               Women       Tops & Blouses              Blouse         Target   \n",
       "3                Home           Home Décor  Home Décor Accents        Unknown   \n",
       "4               Women              Jewelry           Necklaces        Unknown   \n",
       "\n",
       "   is_new_brand_name  is_major_brand  \n",
       "0                  1               1  \n",
       "1                  1               0  \n",
       "2                  1               1  \n",
       "3                  0               0  \n",
       "4                  0               0  "
      ]
     },
     "execution_count": 47,
     "metadata": {},
     "output_type": "execute_result"
    }
   ],
   "source": [
    "train_df.head(5)"
   ]
  },
  {
   "cell_type": "code",
   "execution_count": 48,
   "metadata": {
    "collapsed": true
   },
   "outputs": [],
   "source": [
    "train_df.to_csv('new_train.tsv',sep='\\t',index=False)"
   ]
  }
 ],
 "metadata": {
  "kernelspec": {
   "display_name": "Python 3",
   "language": "python",
   "name": "python3"
  },
  "language_info": {
   "codemirror_mode": {
    "name": "ipython",
    "version": 3
   },
   "file_extension": ".py",
   "mimetype": "text/x-python",
   "name": "python",
   "nbconvert_exporter": "python",
   "pygments_lexer": "ipython3",
   "version": "3.6.2"
  }
 },
 "nbformat": 4,
 "nbformat_minor": 2
}
