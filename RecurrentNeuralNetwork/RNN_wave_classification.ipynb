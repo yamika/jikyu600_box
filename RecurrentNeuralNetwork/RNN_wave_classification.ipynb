{
 "cells": [
  {
   "cell_type": "code",
   "execution_count": 1,
   "metadata": {
    "collapsed": true
   },
   "outputs": [],
   "source": [
    "import numpy as np\n",
    "import matplotlib.pyplot as plt\n",
    "import tensorflow as tf\n",
    "import random\n",
    "%matplotlib inline"
   ]
  },
  {
   "cell_type": "code",
   "execution_count": 2,
   "metadata": {
    "collapsed": true
   },
   "outputs": [],
   "source": [
    "# sin波の系列データをランダムに生成する\n",
    "def generate_sin_wave(x,positive=True):\n",
    "    a = random.randint(1,8)\n",
    "    noise = np.random.randn()\n",
    "    label = 0\n",
    "    if not positive:\n",
    "        a = a*(-1)\n",
    "        label = 1\n",
    "    return a*np.sin(x)+noise,label"
   ]
  },
  {
   "cell_type": "code",
   "execution_count": 3,
   "metadata": {
    "collapsed": true
   },
   "outputs": [],
   "source": [
    "# cos波の系列データをランダムに生成する\n",
    "def generate_cos_wave(x,positive=True):\n",
    "    a = random.randint(1,8)\n",
    "    noise = np.random.randn()\n",
    "    label = 2\n",
    "    if not positive:\n",
    "        a = a*(-1)\n",
    "        label = 3\n",
    "    return a*np.cos(x)+noise,label"
   ]
  },
  {
   "cell_type": "code",
   "execution_count": 4,
   "metadata": {
    "collapsed": true
   },
   "outputs": [],
   "source": [
    "def generate_dataset(each_data_num,one_hot_label=True):\n",
    "    x = np.linspace(-np.pi, np.pi,20)\n",
    "    wave_datas = []\n",
    "    label_datas = []\n",
    "    for i in range(each_data_num):\n",
    "        s_positive_data,s_positive_label = generate_sin_wave(x,positive=True)\n",
    "        s_negative_data,s_negative_label = generate_sin_wave(x,positive=False)\n",
    "        c_positive_data,c_positive_label = generate_cos_wave(x,positive=True)\n",
    "        c_negative_data,c_negative_label = generate_cos_wave(x,positive=False)\n",
    "        \n",
    "        wave_datas.append(s_positive_data),label_datas.append(s_positive_label)\n",
    "        wave_datas.append(s_negative_data),label_datas.append(s_negative_label)\n",
    "        wave_datas.append(c_positive_data),label_datas.append(c_positive_label)\n",
    "        wave_datas.append(c_negative_data),label_datas.append(c_negative_label)\n",
    "    if one_hot_label:\n",
    "        T = np.zeros((4*each_data_num, 4))\n",
    "        for idx, row in enumerate(T):\n",
    "            row[label_datas[idx]] = 1\n",
    "        return np.array(wave_datas),np.array(T)\n",
    "    \n",
    "    return np.array(wave_datas),np.array(label_datas)"
   ]
  },
  {
   "cell_type": "code",
   "execution_count": 5,
   "metadata": {},
   "outputs": [],
   "source": [
    "# 各クラス 訓練 : 800個, テスト : 300個 ずつ系列データを生成する\n",
    "x_train, t_train = generate_dataset(800,one_hot_label=True)\n",
    "x_test, t_test = generate_dataset(300,one_hot_label=True)"
   ]
  },
  {
   "cell_type": "code",
   "execution_count": 6,
   "metadata": {},
   "outputs": [],
   "source": [
    "x_train = x_train.reshape(3200,20,1)\n",
    "x_test = x_test.reshape(1200,20,1)"
   ]
  },
  {
   "cell_type": "code",
   "execution_count": 7,
   "metadata": {},
   "outputs": [],
   "source": [
    "input_size = 1\n",
    "max_time = x_train.shape[1]\n",
    "\n",
    "# max_time : 系列データの長さ、input_size : 入力のデータ数\n",
    "X = tf.placeholder(tf.float32, shape=[None,max_time,input_size],name=\"input\")\n",
    "t = tf.placeholder(tf.float32, shape=[None, 4])"
   ]
  },
  {
   "cell_type": "code",
   "execution_count": 9,
   "metadata": {},
   "outputs": [],
   "source": [
    "cell = tf.contrib.rnn.BasicRNNCell(num_units=100)\n",
    "# outputs は  [ミニバッチのサイズ、系列データの長さ、出力のデータ数] で出力される\n",
    "outputs, states = tf.nn.dynamic_rnn(cell=cell, inputs=X, dtype=tf.float32, time_major=False)\n",
    "outputs = tf.transpose(outputs, perm=[1, 0, 2])"
   ]
  },
  {
   "cell_type": "code",
   "execution_count": 10,
   "metadata": {},
   "outputs": [],
   "source": [
    "W = tf.Variable(tf.truncated_normal([100,4], stddev=0.1))\n",
    "b = tf.Variable(tf.constant(0.1, shape=[4]))\n",
    "# 後ろのデータ(最終時系列)から引っ張ってくる\n",
    "p = tf.nn.softmax(tf.nn.xw_plus_b(outputs[-1],W,b),name=\"output\")"
   ]
  },
  {
   "cell_type": "code",
   "execution_count": 11,
   "metadata": {},
   "outputs": [],
   "source": [
    "### 損失\n",
    "loss = tf.reduce_mean(tf.nn.softmax_cross_entropy_with_logits(labels=t, logits=p))\n",
    "\n",
    "### 学習op\n",
    "optimizer = tf.train.AdamOptimizer(1e-4)\n",
    "train_step = optimizer.minimize(loss)\n",
    "\n",
    "### モデルの評価\n",
    "correct_prediction = tf.equal(tf.argmax(p,1), tf.argmax(t,1))\n",
    "# 精度\n",
    "accuracy = tf.reduce_mean(tf.cast(correct_prediction, tf.float32))"
   ]
  },
  {
   "cell_type": "code",
   "execution_count": 12,
   "metadata": {},
   "outputs": [
    {
     "name": "stdout",
     "output_type": "stream",
     "text": [
      "[Train] step: 0, loss: 1.398690, acc: 0.166667, [Test] acc : 0.308333\n",
      "[Train] step: 200, loss: 0.835254, acc: 1.000000, [Test] acc : 0.999167\n",
      "[Train] step: 400, loss: 0.768989, acc: 1.000000, [Test] acc : 0.999167\n",
      "[Train] step: 600, loss: 0.760462, acc: 1.000000, [Test] acc : 0.999167\n",
      "[Train] step: 800, loss: 0.756030, acc: 1.000000, [Test] acc : 0.999167\n",
      "[Train] step: 1000, loss: 0.750124, acc: 1.000000, [Test] acc : 0.999167\n",
      "[Train] step: 1200, loss: 0.748727, acc: 1.000000, [Test] acc : 0.999167\n",
      "[Train] step: 1400, loss: 0.747665, acc: 1.000000, [Test] acc : 0.999167\n",
      "[Train] step: 1600, loss: 0.746516, acc: 1.000000, [Test] acc : 0.999167\n",
      "[Train] step: 1800, loss: 0.746121, acc: 1.000000, [Test] acc : 0.999167\n",
      "[Train] step: 2000, loss: 0.745540, acc: 1.000000, [Test] acc : 1.000000\n",
      "[Train] step: 2200, loss: 0.745955, acc: 1.000000, [Test] acc : 0.999167\n",
      "[Train] step: 2400, loss: 0.745568, acc: 1.000000, [Test] acc : 1.000000\n",
      "[Train] step: 2600, loss: 0.752894, acc: 1.000000, [Test] acc : 0.999167\n",
      "[Train] step: 2800, loss: 0.745104, acc: 1.000000, [Test] acc : 0.999167\n",
      "[Train] step: 3000, loss: 0.744485, acc: 1.000000, [Test] acc : 1.000000\n",
      "[Train] step: 3200, loss: 0.744354, acc: 1.000000, [Test] acc : 0.999167\n",
      "[Train] step: 3400, loss: 0.744293, acc: 1.000000, [Test] acc : 1.000000\n",
      "[Train] step: 3600, loss: 0.744245, acc: 1.000000, [Test] acc : 1.000000\n",
      "[Train] step: 3800, loss: 0.744234, acc: 1.000000, [Test] acc : 1.000000\n",
      "[Train] step: 4000, loss: 0.744227, acc: 1.000000, [Test] acc : 1.000000\n",
      "[Train] step: 4200, loss: 0.744224, acc: 1.000000, [Test] acc : 1.000000\n",
      "[Train] step: 4400, loss: 0.743976, acc: 1.000000, [Test] acc : 1.000000\n",
      "[Train] step: 4600, loss: 0.743976, acc: 1.000000, [Test] acc : 1.000000\n",
      "[Train] step: 4800, loss: 0.743949, acc: 1.000000, [Test] acc : 1.000000\n"
     ]
    }
   ],
   "source": [
    "sess = tf.Session()\n",
    "sess.run(tf.global_variables_initializer())\n",
    "i = 0\n",
    "batch_size = 30\n",
    "\n",
    "for i in range(5000):\n",
    "    batch_mask = np.random.choice(x_train.shape[0], batch_size)\n",
    "    x_batch = x_train[batch_mask]\n",
    "    t_batch = t_train[batch_mask]\n",
    "    sess.run(train_step,feed_dict={X: x_batch, t: t_batch})\n",
    "    if i % 200 == 0:\n",
    "        train_acc, train_loss = sess.run([accuracy,loss], feed_dict={X: x_batch, t: t_batch})\n",
    "        test_acc = sess.run(accuracy, feed_dict={X: x_test, t: t_test})\n",
    "        print(\"[Train] step: %d, loss: %f, acc: %f, [Test] acc : %f\" % (i, train_loss, train_acc,test_acc))"
   ]
  },
  {
   "cell_type": "code",
   "execution_count": 13,
   "metadata": {},
   "outputs": [
    {
     "data": {
      "text/plain": [
       "[<matplotlib.lines.Line2D at 0x7efdc421bd68>]"
      ]
     },
     "execution_count": 13,
     "metadata": {},
     "output_type": "execute_result"
    },
    {
     "data": {
      "image/png": "[encoded data removed]",
      "text/plain": [
       "<matplotlib.figure.Figure at 0x7efdc92407f0>"
      ]
     },
     "metadata": {},
     "output_type": "display_data"
    }
   ],
   "source": [
    "s = np.linspace(-np.pi, np.pi,20)\n",
    "# sample sin negative wave\n",
    "test_sinwave = -10*np.sin(s)\n",
    "plt.plot(s,test_sinwave)"
   ]
  },
  {
   "cell_type": "code",
   "execution_count": 14,
   "metadata": {},
   "outputs": [
    {
     "name": "stdout",
     "output_type": "stream",
     "text": [
      "sin negative\n"
     ]
    }
   ],
   "source": [
    "ans = sess.run(p,feed_dict={X:test_sinwave.reshape(1,20,1)})\n",
    "idx = np.argmax(ans)\n",
    "if idx == 0 :\n",
    "    print(\"sin positive\")\n",
    "elif idx == 1 :\n",
    "    print(\"sin negative\")\n",
    "elif idx == 2:\n",
    "    print(\"cos positive\")\n",
    "elif idx == 3:\n",
    "    print(\"cos negative\")"
   ]
  },
  {
   "cell_type": "code",
   "execution_count": 15,
   "metadata": {},
   "outputs": [
    {
     "data": {
      "text/plain": [
       "[<matplotlib.lines.Line2D at 0x7efdc40c4a58>]"
      ]
     },
     "execution_count": 15,
     "metadata": {},
     "output_type": "execute_result"
    },
    {
     "data": {
      "image/png": "[encoded data removed]",
      "text/plain": [
       "<matplotlib.figure.Figure at 0x7efdc9240e48>"
      ]
     },
     "metadata": {},
     "output_type": "display_data"
    }
   ],
   "source": [
    "s = np.linspace(-np.pi, np.pi,20)\n",
    "# sample cos positive wave\n",
    "test_coswave = 10*np.cos(s)\n",
    "plt.plot(s,test_coswave)"
   ]
  }
 ],
 "metadata": {
  "kernelspec": {
   "display_name": "Python 3",
   "language": "python",
   "name": "python3"
  },
  "language_info": {
   "codemirror_mode": {
    "name": "ipython",
    "version": 3
   },
   "file_extension": ".py",
   "mimetype": "text/x-python",
   "name": "python",
   "nbconvert_exporter": "python",
   "pygments_lexer": "ipython3",
   "version": "3.6.2"
  }
 },
 "nbformat": 4,
 "nbformat_minor": 2
}
