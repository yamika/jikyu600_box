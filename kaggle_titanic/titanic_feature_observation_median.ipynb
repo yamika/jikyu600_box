{
 "cells": [
  {
   "cell_type": "code",
   "execution_count": 1,
   "metadata": {
    "collapsed": true
   },
   "outputs": [],
   "source": [
    "import numpy as np\n",
    "import pandas as pd\n",
    "import seaborn as sns\n",
    "import matplotlib.pyplot as plt\n",
    "import tensorflow as tf\n",
    "import pickle\n",
    "%matplotlib inline"
   ]
  },
  {
   "cell_type": "code",
   "execution_count": 2,
   "metadata": {
    "collapsed": true
   },
   "outputs": [],
   "source": [
    "def age_10split(x):\n",
    "    t = int(x['Age'])\n",
    "    if (t>=0) and (t<10):\n",
    "        return 0\n",
    "    elif (t>=10) and (t<20):\n",
    "        return 1\n",
    "    elif (t>=20) and (t<30):\n",
    "        return 2\n",
    "    elif (t>=30) and (t<40):\n",
    "        return 3\n",
    "    elif (t>=40) and (t<50):\n",
    "        return 4\n",
    "    elif (t>=50) and (t<60):\n",
    "        return 5\n",
    "    elif (t>=60) and (t<70):\n",
    "        return 6\n",
    "    elif (t>=70):\n",
    "        return 7\n",
    "    \n",
    "def name_split(x):\n",
    "    ret = 'Unknown'\n",
    "    t = str(x['Name'])\n",
    "    sex = str(x['Sex'])\n",
    "    t = t.split()\n",
    "    for i in t:\n",
    "        if(sex == 'male'):\n",
    "            if (i == 'Master.'):\n",
    "                return i\n",
    "            else:\n",
    "                ret = 'Mr.'\n",
    "        elif(sex == 'female'):\n",
    "            if(i == 'Mrs.'):\n",
    "                return i\n",
    "            else:\n",
    "                ret = 'Miss.'\n",
    "        else:\n",
    "            ret = 'Unknown'\n",
    "    return ret\n",
    "\n",
    "def Cabin_split(x):\n",
    "    t = x['Cabin']\n",
    "    c = str(t[0])\n",
    "    if c == 'A' or c == 'a':\n",
    "        return 0\n",
    "    elif c == 'B' or c == 'b':\n",
    "        return 1\n",
    "    elif c == 'C' or c == 'c':\n",
    "        return 2 \n",
    "    elif c == 'D' or c == 'd':\n",
    "        return 3 \n",
    "    elif c == 'E' or c == 'e':\n",
    "        return 4 \n",
    "    elif c == 'F' or c == 'f':\n",
    "        return 5\n",
    "    elif c == 'G' or c == 'g':\n",
    "        return 6\n",
    "    elif c == 'H' or c == 'h':\n",
    "        return 7\n",
    "    elif c == 'I' or c == 'i':\n",
    "        return 8\n",
    "    else:\n",
    "        return 9\n",
    "    \n",
    "def ticket_split(x,DF):\n",
    "    s = str(x['Ticket'])\n",
    "    n = (len(DF.Ticket.loc[DF.Ticket == s].index.tolist()))\n",
    "    if n == 1:\n",
    "        return 1\n",
    "    elif n == 2:\n",
    "        return 2\n",
    "    elif n == 3:\n",
    "        return 3\n",
    "    elif n == 4:\n",
    "        return 4\n",
    "    elif n == 5:\n",
    "        return 5\n",
    "    elif n == 6:\n",
    "        return 6\n",
    "    elif n > 6:\n",
    "        return 7\n",
    "\n",
    "def Fare_rounddown(x):\n",
    "    s = int(x['Fare'])\n",
    "    return s\n",
    "\n",
    "def Fare_split(x):\n",
    "    s = int(x['Fare_Rounddown'])\n",
    "    if (s >= 0) and (s < 10):\n",
    "        return 0\n",
    "    elif (s >= 10) and (s < 20):\n",
    "        return 1\n",
    "    elif (s >= 20) and (s < 30):\n",
    "        return 2\n",
    "    elif (s >= 30) and (s < 40):\n",
    "        return 3\n",
    "    elif (s >= 40) and (s < 50):\n",
    "        return 4\n",
    "    elif (s >= 50) and (s < 60):\n",
    "        return 5\n",
    "    elif (s >= 60) and (s < 70):\n",
    "        return 6\n",
    "    elif (s >= 70) and (s < 80):\n",
    "        return 7\n",
    "    elif (s >= 80) and (s < 90):\n",
    "        return 8\n",
    "    elif (s >= 90) and (s < 100):\n",
    "        return 9\n",
    "    elif (s >= 100) and (s < 110):\n",
    "        return 10\n",
    "    elif (s >= 110) and (s < 120):\n",
    "        return 11\n",
    "    elif (s >= 120) and (s < 130):\n",
    "        return 12\n",
    "    elif (s >= 130):\n",
    "        return 13\n",
    "    \n",
    "\n",
    "def concat_SibSp_Parch(x):\n",
    "    t1 = int(x['SibSp'])\n",
    "    t2 = int(x['Parch'])\n",
    "    if (t1+t2+1 > 7):\n",
    "        return 7\n",
    "    return t1+t2+1\n",
    "    \n",
    "def is_Alone(x):\n",
    "    t = int(x['SibParch'])\n",
    "    if t == 1:\n",
    "        return 1\n",
    "    return 0\n",
    "\n",
    "def has_Cabin(x):\n",
    "    t = str(x['Cabin'])\n",
    "    if t == 'Unknown':\n",
    "        return 0\n",
    "    else:\n",
    "        return 1"
   ]
  },
  {
   "cell_type": "markdown",
   "metadata": {},
   "source": [
    "titanic_feature_observationにて新たに作成したcsvファイルを読み込む     \n",
    "ここではAgeの欠損値を中央値で補完してSurvivedの識別モデルを構築する      "
   ]
  },
  {
   "cell_type": "code",
   "execution_count": 3,
   "metadata": {
    "collapsed": true
   },
   "outputs": [],
   "source": [
    "# CSVファイルを読み込む\n",
    "train_df = pd.read_csv('new_titanic_train.csv')\n",
    "test_df = pd.read_csv('new_titanic_test.csv')\n",
    "\n",
    "# Unnamed が邪魔なので削除する\n",
    "drop_columns = ['Unnamed: 0']\n",
    "train_df = train_df.drop(drop_columns, axis=1)\n",
    "test_df = test_df.drop(drop_columns, axis=1)"
   ]
  },
  {
   "cell_type": "markdown",
   "metadata": {},
   "source": [
    "Ageの欠損値を各データセットにおける中央値で置換する"
   ]
  },
  {
   "cell_type": "code",
   "execution_count": 4,
   "metadata": {
    "collapsed": true
   },
   "outputs": [],
   "source": [
    "train_df['Age'] = train_df[['Age']].fillna(test_df[['Age']].median())\n",
    "test_df['Age'] = test_df[['Age']].fillna(test_df[['Age']].median())"
   ]
  },
  {
   "cell_type": "markdown",
   "metadata": {},
   "source": [
    "trainとtestにおけるAgeの欠損値が無くなったか確認する"
   ]
  },
  {
   "cell_type": "code",
   "execution_count": 5,
   "metadata": {},
   "outputs": [
    {
     "data": {
      "text/plain": [
       "0"
      ]
     },
     "execution_count": 5,
     "metadata": {},
     "output_type": "execute_result"
    }
   ],
   "source": [
    "train_df['Age'].isnull().sum()"
   ]
  },
  {
   "cell_type": "code",
   "execution_count": 6,
   "metadata": {},
   "outputs": [
    {
     "data": {
      "text/plain": [
       "0"
      ]
     },
     "execution_count": 6,
     "metadata": {},
     "output_type": "execute_result"
    }
   ],
   "source": [
    "test_df['Age'].isnull().sum()"
   ]
  },
  {
   "cell_type": "markdown",
   "metadata": {},
   "source": [
    "年齢を10歳ごとにカテゴリ分けしたBy_Age_Classという属性を新たに作成する"
   ]
  },
  {
   "cell_type": "code",
   "execution_count": 7,
   "metadata": {
    "collapsed": true
   },
   "outputs": [],
   "source": [
    "train_df['By_Age_Class'] = train_df.apply(lambda x: age_10split(x), axis=1)\n",
    "test_df['By_Age_Class'] = test_df.apply(lambda x: age_10split(x), axis=1)"
   ]
  },
  {
   "cell_type": "code",
   "execution_count": 8,
   "metadata": {},
   "outputs": [
    {
     "data": {
      "text/plain": [
       "PassengerId             0\n",
       "Survived                0\n",
       "Pclass                  0\n",
       "Name                    0\n",
       "title_name              0\n",
       "onehot_title            0\n",
       "Sex                     0\n",
       "onehot_sex              0\n",
       "Age                     0\n",
       "SibSp                   0\n",
       "Parch                   0\n",
       "SibParch                0\n",
       "Ticket                  0\n",
       "Ticket_num              0\n",
       "Fare                    0\n",
       "Fare_Rounddown          0\n",
       "Fare_Rounddown_Split    0\n",
       "Cabin                   0\n",
       "isCabin                 0\n",
       "Embarked                0\n",
       "onehot_Embarked         0\n",
       "By_Age_Class            0\n",
       "dtype: int64"
      ]
     },
     "execution_count": 8,
     "metadata": {},
     "output_type": "execute_result"
    }
   ],
   "source": [
    "train_df.isnull().sum()"
   ]
  },
  {
   "cell_type": "code",
   "execution_count": 9,
   "metadata": {},
   "outputs": [
    {
     "data": {
      "text/plain": [
       "PassengerId             0\n",
       "Pclass                  0\n",
       "Name                    0\n",
       "title_name              0\n",
       "onehot_title            0\n",
       "Sex                     0\n",
       "onehot_sex              0\n",
       "Age                     0\n",
       "SibSp                   0\n",
       "Parch                   0\n",
       "SibParch                0\n",
       "Ticket                  0\n",
       "Ticket_num              0\n",
       "Fare                    0\n",
       "Fare_Rounddown          0\n",
       "Fare_Rounddown_Split    0\n",
       "Cabin                   0\n",
       "isCabin                 0\n",
       "Embarked                0\n",
       "onehot_Embarked         0\n",
       "By_Age_Class            0\n",
       "dtype: int64"
      ]
     },
     "execution_count": 9,
     "metadata": {},
     "output_type": "execute_result"
    }
   ],
   "source": [
    "test_df.isnull().sum()"
   ]
  },
  {
   "cell_type": "markdown",
   "metadata": {},
   "source": [
    "生存者の予測に必要なデータの穴埋めが完了したので生存者の予測モデルを作成する\n",
    "予測に必要のないカラムを消去する"
   ]
  },
  {
   "cell_type": "code",
   "execution_count": 10,
   "metadata": {},
   "outputs": [],
   "source": [
    "train_drop_columns = ['PassengerId','Name','title_name','Sex','Age','SibParch','Ticket','Fare_Rounddown','Fare','Cabin','Embarked']\n",
    "train_df2 = train_df.drop(train_drop_columns, axis=1)"
   ]
  },
  {
   "cell_type": "code",
   "execution_count": 11,
   "metadata": {},
   "outputs": [
    {
     "data": {
      "text/html": [
       "<div>\n",
       "<style>\n",
       "    .dataframe thead tr:only-child th {\n",
       "        text-align: right;\n",
       "    }\n",
       "\n",
       "    .dataframe thead th {\n",
       "        text-align: left;\n",
       "    }\n",
       "\n",
       "    .dataframe tbody tr th {\n",
       "        vertical-align: top;\n",
       "    }\n",
       "</style>\n",
       "<table border=\"1\" class=\"dataframe\">\n",
       "  <thead>\n",
       "    <tr style=\"text-align: right;\">\n",
       "      <th></th>\n",
       "      <th>Survived</th>\n",
       "      <th>Pclass</th>\n",
       "      <th>onehot_title</th>\n",
       "      <th>onehot_sex</th>\n",
       "      <th>SibSp</th>\n",
       "      <th>Parch</th>\n",
       "      <th>Ticket_num</th>\n",
       "      <th>Fare_Rounddown_Split</th>\n",
       "      <th>isCabin</th>\n",
       "      <th>onehot_Embarked</th>\n",
       "      <th>By_Age_Class</th>\n",
       "    </tr>\n",
       "  </thead>\n",
       "  <tbody>\n",
       "    <tr>\n",
       "      <th>0</th>\n",
       "      <td>0</td>\n",
       "      <td>3</td>\n",
       "      <td>2</td>\n",
       "      <td>1</td>\n",
       "      <td>1</td>\n",
       "      <td>0</td>\n",
       "      <td>1</td>\n",
       "      <td>0</td>\n",
       "      <td>0</td>\n",
       "      <td>2</td>\n",
       "      <td>2</td>\n",
       "    </tr>\n",
       "    <tr>\n",
       "      <th>1</th>\n",
       "      <td>1</td>\n",
       "      <td>1</td>\n",
       "      <td>3</td>\n",
       "      <td>0</td>\n",
       "      <td>1</td>\n",
       "      <td>0</td>\n",
       "      <td>1</td>\n",
       "      <td>7</td>\n",
       "      <td>1</td>\n",
       "      <td>0</td>\n",
       "      <td>3</td>\n",
       "    </tr>\n",
       "  </tbody>\n",
       "</table>\n",
       "</div>"
      ],
      "text/plain": [
       "   Survived  Pclass  onehot_title  onehot_sex  SibSp  Parch  Ticket_num  \\\n",
       "0         0       3             2           1      1      0           1   \n",
       "1         1       1             3           0      1      0           1   \n",
       "\n",
       "   Fare_Rounddown_Split  isCabin  onehot_Embarked  By_Age_Class  \n",
       "0                     0        0                2             2  \n",
       "1                     7        1                0             3  "
      ]
     },
     "execution_count": 11,
     "metadata": {},
     "output_type": "execute_result"
    }
   ],
   "source": [
    "train_df2.head(2)"
   ]
  },
  {
   "cell_type": "code",
   "execution_count": 12,
   "metadata": {},
   "outputs": [
    {
     "name": "stdout",
     "output_type": "stream",
     "text": [
      "623 268\n"
     ]
    }
   ],
   "source": [
    "# データを訓練データ、テストデータに分割する\n",
    "from sklearn.model_selection import train_test_split\n",
    "\n",
    "train, test = train_test_split(train_df2, test_size = 0.3)\n",
    "# indexをリセットする\n",
    "train = train.reset_index(drop=True)\n",
    "test = test.reset_index(drop=True)\n",
    "print(len(train),len(test))"
   ]
  },
  {
   "cell_type": "code",
   "execution_count": 13,
   "metadata": {},
   "outputs": [
    {
     "name": "stdout",
     "output_type": "stream",
     "text": [
      "(623, 10) (623,)\n"
     ]
    }
   ],
   "source": [
    "# 特徴として使うデータとラベルとして使うデータに分ける\n",
    "X_train = np.array(train.drop('Survived', axis=1).values).astype(np.float32)\n",
    "y_train = np.array(train['Survived'].values).astype(np.float32)\n",
    "\n",
    "X_test = np.array(test.drop('Survived', axis=1).values).astype(np.float32)\n",
    "y_test = np.array(test['Survived'].values).astype(np.float32)\n",
    "\n",
    "print(X_train.shape,y_train.shape)"
   ]
  },
  {
   "cell_type": "markdown",
   "metadata": {},
   "source": [
    "生存者の予測モデルを構築する     \n",
    "Tensorflowを用いたNNのロジスティック回帰とXGboostで各モデルの精度を比較する"
   ]
  },
  {
   "cell_type": "code",
   "execution_count": 14,
   "metadata": {},
   "outputs": [],
   "source": [
    "# 入力層\n",
    "X = tf.placeholder(tf.float32, shape=[None, 10], name=\"input\")\n",
    "t = tf.placeholder(tf.float32, shape=[None, 1])\n",
    "# パラメータ1\n",
    "stddev = np.sqrt(2.0 / 10)\n",
    "W1 = tf.Variable(tf.truncated_normal([10,24], stddev=stddev))\n",
    "b1 = tf.Variable(tf.constant(0.1, shape=[24]))\n",
    "\n",
    "# パラメータ2\n",
    "stddev = np.sqrt(2.0 / 24)\n",
    "W2 = tf.Variable(tf.truncated_normal([24,48], stddev=stddev))\n",
    "b2 = tf.Variable(tf.constant(0.1, shape=[48]))\n",
    "keep_prob = tf.placeholder(tf.float32) # ドロップアウトする割合\n",
    "\n",
    "# パラメータ3\n",
    "stddev = np.sqrt(2.0 / 48)\n",
    "W3 = tf.Variable(tf.truncated_normal([48,1], stddev=stddev))\n",
    "b3 = tf.Variable(tf.constant(0.1, shape=[1]))\n",
    "\n",
    "layer1 = tf.nn.relu(tf.matmul(X,W1) + b1)\n",
    "\n",
    "layer2 = tf.nn.relu(tf.matmul(layer1,W2) + b2)\n",
    "layer2_drop = tf.nn.dropout(layer2, keep_prob)\n",
    "\n",
    "layer3 = tf.matmul(layer2_drop,W3)+b3\n",
    "\n",
    "p = tf.nn.sigmoid(layer3,name=\"output\")\n",
    "# 荷重減衰\n",
    "norm_term = tf.nn.l2_loss(layer1) + tf.nn.l2_loss(layer2_drop)\n",
    "# 正則項\n",
    "lambda_ = 0.001\n",
    "# 損失関数\n",
    "loss = tf.reduce_mean(tf.square(p - t))+ lambda_*norm_term\n",
    "# 学習アルゴリズム\n",
    "optimizer = tf.train.AdamOptimizer()\n",
    "train_step = optimizer.minimize(loss)\n",
    "# 精度\n",
    "correct_prediction = tf.equal(tf.sign(p-0.5), tf.sign(t-0.5))\n",
    "accuracy = tf.reduce_mean(tf.cast(correct_prediction, tf.float32))"
   ]
  },
  {
   "cell_type": "code",
   "execution_count": 15,
   "metadata": {},
   "outputs": [
    {
     "name": "stdout",
     "output_type": "stream",
     "text": [
      "[Train] step: 0, loss: 61.435287, acc: 0.382022, [Test] loss: 28.931728, acc : 0.388060\n",
      "[Train] step: 3000, loss: 0.327592, acc: 0.865169, [Test] loss: 0.265813, acc : 0.805970\n",
      "[Train] step: 6000, loss: 0.243979, acc: 0.895666, [Test] loss: 0.234455, acc : 0.798507\n",
      "[Train] step: 9000, loss: 0.202054, acc: 0.890851, [Test] loss: 0.219193, acc : 0.802239\n",
      "[Train] step: 12000, loss: 0.183529, acc: 0.892456, [Test] loss: 0.212868, acc : 0.813433\n",
      "[Train] step: 15000, loss: 0.180292, acc: 0.890851, [Test] loss: 0.217516, acc : 0.798507\n",
      "[Train] step: 18000, loss: 0.168366, acc: 0.890851, [Test] loss: 0.212061, acc : 0.791045\n",
      "[Train] step: 21000, loss: 0.159919, acc: 0.895666, [Test] loss: 0.222104, acc : 0.768657\n",
      "[Train] step: 24000, loss: 0.157481, acc: 0.903692, [Test] loss: 0.215337, acc : 0.787313\n",
      "[Train] step: 27000, loss: 0.166086, acc: 0.887640, [Test] loss: 0.224480, acc : 0.772388\n"
     ]
    }
   ],
   "source": [
    "sess = tf.Session()\n",
    "sess.run(tf.global_variables_initializer())\n",
    "\n",
    "batch_size = 30\n",
    "for i in range(30000):\n",
    "    batch_mask = np.random.choice(X_train.shape[0], batch_size)\n",
    "    x_batch = X_train[batch_mask]\n",
    "    y_batch = y_train[batch_mask]\n",
    "    sess.run(train_step,feed_dict={X: x_batch, t: y_batch.reshape(-1,1), keep_prob:0.5})\n",
    "    if i % 3000 == 0:\n",
    "        train_acc, train_loss = sess.run([accuracy,loss], feed_dict={X: X_train, t: y_train.reshape(-1,1), keep_prob:1.0})\n",
    "        test_acc, test_loss = sess.run([accuracy,loss], feed_dict={X: X_test, t: y_test.reshape(-1,1), keep_prob:1.0})\n",
    "        print(\"[Train] step: %d, loss: %f, acc: %f, [Test] loss: %f, acc : %f\" % (i, train_loss, train_acc,test_loss,test_acc))"
   ]
  },
  {
   "cell_type": "code",
   "execution_count": 16,
   "metadata": {},
   "outputs": [
    {
     "name": "stderr",
     "output_type": "stream",
     "text": [
      "/usr/local/lib/python3.6/dist-packages/sklearn/cross_validation.py:44: DeprecationWarning: This module was deprecated in version 0.18 in favor of the model_selection module into which all the refactored classes and functions are moved. Also note that the interface of the new CV iterators are different from that of this module. This module will be removed in 0.20.\n",
      "  \"This module will be removed in 0.20.\", DeprecationWarning)\n"
     ]
    }
   ],
   "source": [
    "from xgboost import XGBRegressor\n",
    "xg_clf = XGBRegressor(max_delta_step=0)\n",
    "\n",
    "xg_model = xg_clf.fit(X_train, y_train)"
   ]
  },
  {
   "cell_type": "markdown",
   "metadata": {},
   "source": [
    "log_lossを用いて各モデルの誤差で比較を行う"
   ]
  },
  {
   "cell_type": "code",
   "execution_count": 17,
   "metadata": {},
   "outputs": [
    {
     "name": "stdout",
     "output_type": "stream",
     "text": [
      "NN LogisticRegression log loss = 0.6700371422161133\n",
      "XGBoost log loss = 0.3766944857569756\n"
     ]
    }
   ],
   "source": [
    "from sklearn.metrics import log_loss\n",
    "nn_pred = sess.run(p,feed_dict={X:X_test,keep_prob:1.0}).reshape(-1,)\n",
    "xg_pred = xg_clf.predict(X_test)\n",
    "nn_pred = np.fmin(0.999,nn_pred)\n",
    "nn_pred = np.fmax(0.0001,nn_pred)\n",
    "xg_pred = np.fmin(0.999,xg_pred)\n",
    "xg_pred = np.fmax(0.0001,xg_pred)\n",
    "print('NN LogisticRegression log loss = {}'.format(log_loss(y_test,nn_pred)))\n",
    "print('XGBoost log loss = {}'.format(log_loss(y_test,xg_pred)))"
   ]
  },
  {
   "cell_type": "markdown",
   "metadata": {},
   "source": [
    "作成したモデルをテストデータに適用する"
   ]
  },
  {
   "cell_type": "code",
   "execution_count": 18,
   "metadata": {
    "collapsed": true
   },
   "outputs": [],
   "source": [
    "test_drop_columns = ['PassengerId','Name','title_name','Sex','Age','SibParch','Ticket','Fare_Rounddown','Fare','Cabin','Embarked']\n",
    "test_df_pred = test_df.drop(test_drop_columns, axis=1)"
   ]
  },
  {
   "cell_type": "code",
   "execution_count": 19,
   "metadata": {},
   "outputs": [
    {
     "data": {
      "text/html": [
       "<div>\n",
       "<style>\n",
       "    .dataframe thead tr:only-child th {\n",
       "        text-align: right;\n",
       "    }\n",
       "\n",
       "    .dataframe thead th {\n",
       "        text-align: left;\n",
       "    }\n",
       "\n",
       "    .dataframe tbody tr th {\n",
       "        vertical-align: top;\n",
       "    }\n",
       "</style>\n",
       "<table border=\"1\" class=\"dataframe\">\n",
       "  <thead>\n",
       "    <tr style=\"text-align: right;\">\n",
       "      <th></th>\n",
       "      <th>Pclass</th>\n",
       "      <th>onehot_title</th>\n",
       "      <th>onehot_sex</th>\n",
       "      <th>SibSp</th>\n",
       "      <th>Parch</th>\n",
       "      <th>Ticket_num</th>\n",
       "      <th>Fare_Rounddown_Split</th>\n",
       "      <th>isCabin</th>\n",
       "      <th>onehot_Embarked</th>\n",
       "      <th>By_Age_Class</th>\n",
       "    </tr>\n",
       "  </thead>\n",
       "  <tbody>\n",
       "    <tr>\n",
       "      <th>0</th>\n",
       "      <td>3</td>\n",
       "      <td>2</td>\n",
       "      <td>1</td>\n",
       "      <td>0</td>\n",
       "      <td>0</td>\n",
       "      <td>1</td>\n",
       "      <td>0</td>\n",
       "      <td>0</td>\n",
       "      <td>1</td>\n",
       "      <td>3</td>\n",
       "    </tr>\n",
       "    <tr>\n",
       "      <th>1</th>\n",
       "      <td>3</td>\n",
       "      <td>3</td>\n",
       "      <td>0</td>\n",
       "      <td>1</td>\n",
       "      <td>0</td>\n",
       "      <td>1</td>\n",
       "      <td>0</td>\n",
       "      <td>0</td>\n",
       "      <td>2</td>\n",
       "      <td>4</td>\n",
       "    </tr>\n",
       "  </tbody>\n",
       "</table>\n",
       "</div>"
      ],
      "text/plain": [
       "   Pclass  onehot_title  onehot_sex  SibSp  Parch  Ticket_num  \\\n",
       "0       3             2           1      0      0           1   \n",
       "1       3             3           0      1      0           1   \n",
       "\n",
       "   Fare_Rounddown_Split  isCabin  onehot_Embarked  By_Age_Class  \n",
       "0                     0        0                1             3  \n",
       "1                     0        0                2             4  "
      ]
     },
     "execution_count": 19,
     "metadata": {},
     "output_type": "execute_result"
    }
   ],
   "source": [
    "# 訓練データと同じカラムがあるか確認する\n",
    "test_df_pred.head(2)"
   ]
  },
  {
   "cell_type": "code",
   "execution_count": 21,
   "metadata": {
    "collapsed": true
   },
   "outputs": [],
   "source": [
    "X_pred = np.array(test_df_pred.values.astype(np.float32))"
   ]
  },
  {
   "cell_type": "markdown",
   "metadata": {},
   "source": [
    "XGboostかロジスティック回帰かどちらかのモデルで予測をする"
   ]
  },
  {
   "cell_type": "code",
   "execution_count": 23,
   "metadata": {},
   "outputs": [],
   "source": [
    "#test_pred = xg_clf.predict(X_pred)\n",
    "test_pred = sess.run(p,feed_dict={X:X_pred,keep_prob:1.0})"
   ]
  },
  {
   "cell_type": "code",
   "execution_count": 24,
   "metadata": {},
   "outputs": [
    {
     "data": {
      "text/plain": [
       "array([[  2.09809661e-01],\n",
       "       [  5.93535416e-02],\n",
       "       [  6.88267755e-05],\n",
       "       [  7.97101706e-02]], dtype=float32)"
      ]
     },
     "execution_count": 24,
     "metadata": {},
     "output_type": "execute_result"
    }
   ],
   "source": [
    "# 予測結果を少し確認する\n",
    "test_pred[:4]"
   ]
  },
  {
   "cell_type": "markdown",
   "metadata": {},
   "source": [
    "提出ファイルに予測結果を書き込む"
   ]
  },
  {
   "cell_type": "code",
   "execution_count": 25,
   "metadata": {},
   "outputs": [
    {
     "data": {
      "text/html": [
       "<div>\n",
       "<style>\n",
       "    .dataframe thead tr:only-child th {\n",
       "        text-align: right;\n",
       "    }\n",
       "\n",
       "    .dataframe thead th {\n",
       "        text-align: left;\n",
       "    }\n",
       "\n",
       "    .dataframe tbody tr th {\n",
       "        vertical-align: top;\n",
       "    }\n",
       "</style>\n",
       "<table border=\"1\" class=\"dataframe\">\n",
       "  <thead>\n",
       "    <tr style=\"text-align: right;\">\n",
       "      <th></th>\n",
       "      <th>PassengerId</th>\n",
       "      <th>Survived</th>\n",
       "    </tr>\n",
       "  </thead>\n",
       "  <tbody>\n",
       "    <tr>\n",
       "      <th>0</th>\n",
       "      <td>892</td>\n",
       "      <td>0</td>\n",
       "    </tr>\n",
       "    <tr>\n",
       "      <th>1</th>\n",
       "      <td>893</td>\n",
       "      <td>1</td>\n",
       "    </tr>\n",
       "    <tr>\n",
       "      <th>2</th>\n",
       "      <td>894</td>\n",
       "      <td>0</td>\n",
       "    </tr>\n",
       "    <tr>\n",
       "      <th>3</th>\n",
       "      <td>895</td>\n",
       "      <td>0</td>\n",
       "    </tr>\n",
       "    <tr>\n",
       "      <th>4</th>\n",
       "      <td>896</td>\n",
       "      <td>1</td>\n",
       "    </tr>\n",
       "    <tr>\n",
       "      <th>5</th>\n",
       "      <td>897</td>\n",
       "      <td>0</td>\n",
       "    </tr>\n",
       "    <tr>\n",
       "      <th>6</th>\n",
       "      <td>898</td>\n",
       "      <td>1</td>\n",
       "    </tr>\n",
       "    <tr>\n",
       "      <th>7</th>\n",
       "      <td>899</td>\n",
       "      <td>0</td>\n",
       "    </tr>\n",
       "    <tr>\n",
       "      <th>8</th>\n",
       "      <td>900</td>\n",
       "      <td>1</td>\n",
       "    </tr>\n",
       "    <tr>\n",
       "      <th>9</th>\n",
       "      <td>901</td>\n",
       "      <td>0</td>\n",
       "    </tr>\n",
       "  </tbody>\n",
       "</table>\n",
       "</div>"
      ],
      "text/plain": [
       "   PassengerId  Survived\n",
       "0          892         0\n",
       "1          893         1\n",
       "2          894         0\n",
       "3          895         0\n",
       "4          896         1\n",
       "5          897         0\n",
       "6          898         1\n",
       "7          899         0\n",
       "8          900         1\n",
       "9          901         0"
      ]
     },
     "execution_count": 25,
     "metadata": {},
     "output_type": "execute_result"
    }
   ],
   "source": [
    "submit_df = pd.read_csv('gender_submission.csv')\n",
    "submit_df.head(10)"
   ]
  },
  {
   "cell_type": "code",
   "execution_count": 26,
   "metadata": {
    "collapsed": true
   },
   "outputs": [],
   "source": [
    "for i in range(0,test_pred.shape[0]):\n",
    "    if test_pred[i] < 0.5:\n",
    "        submit_df['Survived'].iloc[i] = 0\n",
    "    else:\n",
    "        submit_df['Survived'].iloc[i] = 1"
   ]
  },
  {
   "cell_type": "markdown",
   "metadata": {},
   "source": [
    "提出ファイルを別名で保存する"
   ]
  },
  {
   "cell_type": "code",
   "execution_count": 41,
   "metadata": {
    "collapsed": true
   },
   "outputs": [],
   "source": [
    "submit_df.to_csv('titanic_submission.csv',index=False)"
   ]
  },
  {
   "cell_type": "markdown",
   "metadata": {},
   "source": [
    "元の提出ファイルと予測値が変わっているか確認する"
   ]
  },
  {
   "cell_type": "code",
   "execution_count": 27,
   "metadata": {},
   "outputs": [
    {
     "data": {
      "text/html": [
       "<div>\n",
       "<style>\n",
       "    .dataframe thead tr:only-child th {\n",
       "        text-align: right;\n",
       "    }\n",
       "\n",
       "    .dataframe thead th {\n",
       "        text-align: left;\n",
       "    }\n",
       "\n",
       "    .dataframe tbody tr th {\n",
       "        vertical-align: top;\n",
       "    }\n",
       "</style>\n",
       "<table border=\"1\" class=\"dataframe\">\n",
       "  <thead>\n",
       "    <tr style=\"text-align: right;\">\n",
       "      <th></th>\n",
       "      <th>PassengerId</th>\n",
       "      <th>Survived</th>\n",
       "    </tr>\n",
       "  </thead>\n",
       "  <tbody>\n",
       "    <tr>\n",
       "      <th>0</th>\n",
       "      <td>892</td>\n",
       "      <td>0</td>\n",
       "    </tr>\n",
       "    <tr>\n",
       "      <th>1</th>\n",
       "      <td>893</td>\n",
       "      <td>0</td>\n",
       "    </tr>\n",
       "    <tr>\n",
       "      <th>2</th>\n",
       "      <td>894</td>\n",
       "      <td>0</td>\n",
       "    </tr>\n",
       "    <tr>\n",
       "      <th>3</th>\n",
       "      <td>895</td>\n",
       "      <td>0</td>\n",
       "    </tr>\n",
       "    <tr>\n",
       "      <th>4</th>\n",
       "      <td>896</td>\n",
       "      <td>1</td>\n",
       "    </tr>\n",
       "    <tr>\n",
       "      <th>5</th>\n",
       "      <td>897</td>\n",
       "      <td>0</td>\n",
       "    </tr>\n",
       "    <tr>\n",
       "      <th>6</th>\n",
       "      <td>898</td>\n",
       "      <td>0</td>\n",
       "    </tr>\n",
       "    <tr>\n",
       "      <th>7</th>\n",
       "      <td>899</td>\n",
       "      <td>1</td>\n",
       "    </tr>\n",
       "    <tr>\n",
       "      <th>8</th>\n",
       "      <td>900</td>\n",
       "      <td>1</td>\n",
       "    </tr>\n",
       "    <tr>\n",
       "      <th>9</th>\n",
       "      <td>901</td>\n",
       "      <td>0</td>\n",
       "    </tr>\n",
       "  </tbody>\n",
       "</table>\n",
       "</div>"
      ],
      "text/plain": [
       "   PassengerId  Survived\n",
       "0          892         0\n",
       "1          893         0\n",
       "2          894         0\n",
       "3          895         0\n",
       "4          896         1\n",
       "5          897         0\n",
       "6          898         0\n",
       "7          899         1\n",
       "8          900         1\n",
       "9          901         0"
      ]
     },
     "execution_count": 27,
     "metadata": {},
     "output_type": "execute_result"
    }
   ],
   "source": [
    "show = pd.read_csv('titanic_submission.csv')\n",
    "show.head(10)"
   ]
  }
 ],
 "metadata": {
  "kernelspec": {
   "display_name": "Python 3",
   "language": "python",
   "name": "python3"
  },
  "language_info": {
   "codemirror_mode": {
    "name": "ipython",
    "version": 3
   },
   "file_extension": ".py",
   "mimetype": "text/x-python",
   "name": "python",
   "nbconvert_exporter": "python",
   "pygments_lexer": "ipython3",
   "version": "3.6.2"
  }
 },
 "nbformat": 4,
 "nbformat_minor": 2
}
