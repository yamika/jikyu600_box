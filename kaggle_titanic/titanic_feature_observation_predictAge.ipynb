{
 "cells": [
  {
   "cell_type": "code",
   "execution_count": 1,
   "metadata": {
    "collapsed": true
   },
   "outputs": [],
   "source": [
    "import numpy as np\n",
    "import pandas as pd\n",
    "import seaborn as sns\n",
    "import matplotlib.pyplot as plt\n",
    "import tensorflow as tf\n",
    "import pickle\n",
    "%matplotlib inline"
   ]
  },
  {
   "cell_type": "code",
   "execution_count": 2,
   "metadata": {
    "collapsed": true
   },
   "outputs": [],
   "source": [
    "def age_10split(x):\n",
    "    t = int(x['Age'])\n",
    "    if (t>=0) and (t<10):\n",
    "        return 0\n",
    "    elif (t>=10) and (t<20):\n",
    "        return 1\n",
    "    elif (t>=20) and (t<30):\n",
    "        return 2\n",
    "    elif (t>=30) and (t<40):\n",
    "        return 3\n",
    "    elif (t>=40) and (t<50):\n",
    "        return 4\n",
    "    elif (t>=50) and (t<60):\n",
    "        return 5\n",
    "    elif (t>=60) and (t<70):\n",
    "        return 6\n",
    "    elif (t>=70):\n",
    "        return 7\n",
    "    \n",
    "def name_split(x):\n",
    "    ret = 'Unknown'\n",
    "    t = str(x['Name'])\n",
    "    sex = str(x['Sex'])\n",
    "    t = t.split()\n",
    "    for i in t:\n",
    "        if(sex == 'male'):\n",
    "            if (i == 'Master.'):\n",
    "                return i\n",
    "            else:\n",
    "                ret = 'Mr.'\n",
    "        elif(sex == 'female'):\n",
    "            if(i == 'Mrs.'):\n",
    "                return i\n",
    "            else:\n",
    "                ret = 'Miss.'\n",
    "        else:\n",
    "            ret = 'Unknown'\n",
    "    return ret\n",
    "\n",
    "def Cabin_split(x):\n",
    "    t = x['Cabin']\n",
    "    c = str(t[0])\n",
    "    if c == 'A' or c == 'a':\n",
    "        return 0\n",
    "    elif c == 'B' or c == 'b':\n",
    "        return 1\n",
    "    elif c == 'C' or c == 'c':\n",
    "        return 2 \n",
    "    elif c == 'D' or c == 'd':\n",
    "        return 3 \n",
    "    elif c == 'E' or c == 'e':\n",
    "        return 4 \n",
    "    elif c == 'F' or c == 'f':\n",
    "        return 5\n",
    "    elif c == 'G' or c == 'g':\n",
    "        return 6\n",
    "    elif c == 'H' or c == 'h':\n",
    "        return 7\n",
    "    elif c == 'I' or c == 'i':\n",
    "        return 8\n",
    "    else:\n",
    "        return 9\n",
    "    \n",
    "def ticket_split(x,DF):\n",
    "    s = str(x['Ticket'])\n",
    "    n = (len(DF.Ticket.loc[DF.Ticket == s].index.tolist()))\n",
    "    if n == 1:\n",
    "        return 1\n",
    "    elif n == 2:\n",
    "        return 2\n",
    "    elif n == 3:\n",
    "        return 3\n",
    "    elif n == 4:\n",
    "        return 4\n",
    "    elif n == 5:\n",
    "        return 5\n",
    "    elif n == 6:\n",
    "        return 6\n",
    "    elif n > 6:\n",
    "        return 7\n",
    "\n",
    "def Fare_rounddown(x):\n",
    "    s = int(x['Fare'])\n",
    "    return s\n",
    "\n",
    "def Fare_split(x):\n",
    "    s = int(x['Fare_Rounddown'])\n",
    "    if (s >= 0) and (s < 10):\n",
    "        return 0\n",
    "    elif (s >= 10) and (s < 20):\n",
    "        return 1\n",
    "    elif (s >= 20) and (s < 30):\n",
    "        return 2\n",
    "    elif (s >= 30) and (s < 40):\n",
    "        return 3\n",
    "    elif (s >= 40) and (s < 50):\n",
    "        return 4\n",
    "    elif (s >= 50) and (s < 60):\n",
    "        return 5\n",
    "    elif (s >= 60) and (s < 70):\n",
    "        return 6\n",
    "    elif (s >= 70) and (s < 80):\n",
    "        return 7\n",
    "    elif (s >= 80) and (s < 90):\n",
    "        return 8\n",
    "    elif (s >= 90) and (s < 100):\n",
    "        return 9\n",
    "    elif (s >= 100) and (s < 110):\n",
    "        return 10\n",
    "    elif (s >= 110) and (s < 120):\n",
    "        return 11\n",
    "    elif (s >= 120) and (s < 130):\n",
    "        return 12\n",
    "    elif (s >= 130):\n",
    "        return 13\n",
    "    \n",
    "\n",
    "def concat_SibSp_Parch(x):\n",
    "    t1 = int(x['SibSp'])\n",
    "    t2 = int(x['Parch'])\n",
    "    if (t1+t2+1 > 7):\n",
    "        return 7\n",
    "    return t1+t2+1\n",
    "    \n",
    "def is_Alone(x):\n",
    "    t = int(x['SibParch'])\n",
    "    if t == 1:\n",
    "        return 1\n",
    "    return 0\n",
    "\n",
    "def has_Cabin(x):\n",
    "    t = str(x['Cabin'])\n",
    "    if t == 'Unknown':\n",
    "        return 0\n",
    "    else:\n",
    "        return 1"
   ]
  },
  {
   "cell_type": "markdown",
   "metadata": {},
   "source": [
    "titanic_feature_observationにて新たに作成したcsvファイルを読み込む"
   ]
  },
  {
   "cell_type": "code",
   "execution_count": 11,
   "metadata": {
    "collapsed": true
   },
   "outputs": [],
   "source": [
    "# CSVファイルを読み込む\n",
    "train_df = pd.read_csv('new_titanic_train.csv')\n",
    "test_df = pd.read_csv('new_titanic_test.csv')\n",
    "\n",
    "# Unnamed が邪魔なので削除する\n",
    "drop_columns = ['Unnamed: 0']\n",
    "train_df = train_df.drop(drop_columns, axis=1)\n",
    "test_df = test_df.drop(drop_columns, axis=1)"
   ]
  },
  {
   "cell_type": "markdown",
   "metadata": {},
   "source": [
    "ここではAgeのNaNを予測するモデルをtrain.csvから作成して、予測値の年齢でSurvivedの識別モデルを構築する      \n",
    "教師データとしてAgeが必要なので欠損値は取り除く"
   ]
  },
  {
   "cell_type": "code",
   "execution_count": 12,
   "metadata": {
    "collapsed": true
   },
   "outputs": [],
   "source": [
    "train_df2 = train_df.dropna(subset=['Age']).copy()"
   ]
  },
  {
   "cell_type": "code",
   "execution_count": 14,
   "metadata": {},
   "outputs": [],
   "source": [
    "#訓練に使わない属性を除く\n",
    "train2_drop_columns = ['PassengerId','Survived','Name','title_name','Sex','SibSp','Parch','Ticket','Fare','Fare_Rounddown','Cabin','isCabin','Embarked','onehot_Embarked']\n",
    "train_df2 = train_df2.drop(train2_drop_columns, axis=1)"
   ]
  },
  {
   "cell_type": "code",
   "execution_count": 15,
   "metadata": {},
   "outputs": [
    {
     "name": "stdout",
     "output_type": "stream",
     "text": [
      "571 143\n"
     ]
    }
   ],
   "source": [
    "# データを訓練データ、テストデータに分割する\n",
    "from sklearn.model_selection import train_test_split\n",
    "\n",
    "train2, test2 = train_test_split(train_df2, test_size = 0.2)\n",
    "# indexをリセットする\n",
    "train2 = train2.reset_index(drop=True)\n",
    "test2 = test2.reset_index(drop=True)\n",
    "print(len(train2),len(test2))"
   ]
  },
  {
   "cell_type": "code",
   "execution_count": 16,
   "metadata": {},
   "outputs": [
    {
     "data": {
      "text/html": [
       "<div>\n",
       "<style>\n",
       "    .dataframe thead tr:only-child th {\n",
       "        text-align: right;\n",
       "    }\n",
       "\n",
       "    .dataframe thead th {\n",
       "        text-align: left;\n",
       "    }\n",
       "\n",
       "    .dataframe tbody tr th {\n",
       "        vertical-align: top;\n",
       "    }\n",
       "</style>\n",
       "<table border=\"1\" class=\"dataframe\">\n",
       "  <thead>\n",
       "    <tr style=\"text-align: right;\">\n",
       "      <th></th>\n",
       "      <th>Pclass</th>\n",
       "      <th>onehot_title</th>\n",
       "      <th>onehot_sex</th>\n",
       "      <th>Age</th>\n",
       "      <th>SibParch</th>\n",
       "      <th>Ticket_num</th>\n",
       "      <th>Fare_Rounddown_Split</th>\n",
       "    </tr>\n",
       "  </thead>\n",
       "  <tbody>\n",
       "    <tr>\n",
       "      <th>0</th>\n",
       "      <td>3</td>\n",
       "      <td>0</td>\n",
       "      <td>1</td>\n",
       "      <td>2.0</td>\n",
       "      <td>6</td>\n",
       "      <td>6</td>\n",
       "      <td>3</td>\n",
       "    </tr>\n",
       "    <tr>\n",
       "      <th>1</th>\n",
       "      <td>3</td>\n",
       "      <td>2</td>\n",
       "      <td>1</td>\n",
       "      <td>45.0</td>\n",
       "      <td>1</td>\n",
       "      <td>1</td>\n",
       "      <td>0</td>\n",
       "    </tr>\n",
       "  </tbody>\n",
       "</table>\n",
       "</div>"
      ],
      "text/plain": [
       "   Pclass  onehot_title  onehot_sex   Age  SibParch  Ticket_num  \\\n",
       "0       3             0           1   2.0         6           6   \n",
       "1       3             2           1  45.0         1           1   \n",
       "\n",
       "   Fare_Rounddown_Split  \n",
       "0                     3  \n",
       "1                     0  "
      ]
     },
     "execution_count": 16,
     "metadata": {},
     "output_type": "execute_result"
    }
   ],
   "source": [
    "train2.head(2)"
   ]
  },
  {
   "cell_type": "code",
   "execution_count": 17,
   "metadata": {},
   "outputs": [
    {
     "name": "stdout",
     "output_type": "stream",
     "text": [
      "(571, 6) (571,)\n"
     ]
    }
   ],
   "source": [
    "# 特徴として使うデータとラベルとして使うデータに分ける\n",
    "X_train = np.array(train2.drop('Age', axis=1).values).astype(np.float32)\n",
    "y_train = np.array(train2['Age'].values).astype(np.float32)\n",
    "\n",
    "X_test = np.array(test2.drop('Age', axis=1).values).astype(np.float32)\n",
    "y_test = np.array(test2['Age'].values).astype(np.float32)\n",
    "\n",
    "print(X_train.shape,y_train.shape)"
   ]
  },
  {
   "cell_type": "markdown",
   "metadata": {},
   "source": [
    "年齢の予測、回帰をXGboostで行う"
   ]
  },
  {
   "cell_type": "code",
   "execution_count": 19,
   "metadata": {},
   "outputs": [
    {
     "name": "stderr",
     "output_type": "stream",
     "text": [
      "/usr/local/lib/python3.6/dist-packages/sklearn/cross_validation.py:44: DeprecationWarning: This module was deprecated in version 0.18 in favor of the model_selection module into which all the refactored classes and functions are moved. Also note that the interface of the new CV iterators are different from that of this module. This module will be removed in 0.20.\n",
      "  \"This module will be removed in 0.20.\", DeprecationWarning)\n"
     ]
    }
   ],
   "source": [
    "from xgboost import XGBRegressor\n",
    "xg_clf2 = XGBRegressor(max_delta_step=0,gamma=0.05)\n",
    "\n",
    "xg_model2 = xg_clf2.fit(X_train, y_train)"
   ]
  },
  {
   "cell_type": "code",
   "execution_count": 20,
   "metadata": {},
   "outputs": [
    {
     "name": "stdout",
     "output_type": "stream",
     "text": [
      "XGBoost mean square loss = 113.04672307719618\n"
     ]
    }
   ],
   "source": [
    "from sklearn.metrics import log_loss\n",
    "xg_pred = xg_clf2.predict(X_test)\n",
    "xg_pred = xg_pred.astype(np.int32)\n",
    "print('XGBoost mean square loss = {}'.format(np.mean(np.square(y_test - xg_pred))))"
   ]
  },
  {
   "cell_type": "markdown",
   "metadata": {},
   "source": [
    "Ageが欠損しているインデックスリストを作成する"
   ]
  },
  {
   "cell_type": "code",
   "execution_count": 21,
   "metadata": {
    "collapsed": true
   },
   "outputs": [],
   "source": [
    "idx = []\n",
    "count = 0\n",
    "for v in train_df['Age'].isnull():\n",
    "    if v:\n",
    "        idx.append(count)\n",
    "    count += 1"
   ]
  },
  {
   "cell_type": "markdown",
   "metadata": {},
   "source": [
    "Ageの欠損を予測モデルの値にて置換する"
   ]
  },
  {
   "cell_type": "code",
   "execution_count": 22,
   "metadata": {},
   "outputs": [
    {
     "name": "stderr",
     "output_type": "stream",
     "text": [
      "/usr/local/lib/python3.6/dist-packages/pandas/core/indexing.py:179: SettingWithCopyWarning: \n",
      "A value is trying to be set on a copy of a slice from a DataFrame\n",
      "\n",
      "See the caveats in the documentation: http://pandas.pydata.org/pandas-docs/stable/indexing.html#indexing-view-versus-copy\n",
      "  self._setitem_with_indexer(indexer, value)\n"
     ]
    }
   ],
   "source": [
    "for i in idx:\n",
    "    predict = xg_clf2.predict(np.array([train_df['Pclass'].iloc[1],train_df['onehot_title'].iloc[1],\n",
    "          train_df['onehot_sex'].iloc[1],train_df['SibParch'].iloc[1],\n",
    "          train_df['Ticket_num'].iloc[1],train_df['Fare_Rounddown_Split'].iloc[1]]).reshape(-1,6))\n",
    "    train_df['Age'].iloc[i] = predict.astype(np.int32)"
   ]
  },
  {
   "cell_type": "markdown",
   "metadata": {},
   "source": [
    "Ageの欠損値がないか確認する"
   ]
  },
  {
   "cell_type": "code",
   "execution_count": 23,
   "metadata": {},
   "outputs": [
    {
     "data": {
      "text/plain": [
       "0"
      ]
     },
     "execution_count": 23,
     "metadata": {},
     "output_type": "execute_result"
    }
   ],
   "source": [
    "train_df.Age.isnull().sum()"
   ]
  },
  {
   "cell_type": "markdown",
   "metadata": {},
   "source": [
    "テストデータに対しても同様の処理を行う"
   ]
  },
  {
   "cell_type": "code",
   "execution_count": 24,
   "metadata": {
    "collapsed": true
   },
   "outputs": [],
   "source": [
    "idx = []\n",
    "count = 0\n",
    "for v in test_df['Age'].isnull():\n",
    "    if v:\n",
    "        idx.append(count)\n",
    "    count += 1"
   ]
  },
  {
   "cell_type": "code",
   "execution_count": 25,
   "metadata": {},
   "outputs": [
    {
     "name": "stderr",
     "output_type": "stream",
     "text": [
      "/usr/local/lib/python3.6/dist-packages/pandas/core/indexing.py:179: SettingWithCopyWarning: \n",
      "A value is trying to be set on a copy of a slice from a DataFrame\n",
      "\n",
      "See the caveats in the documentation: http://pandas.pydata.org/pandas-docs/stable/indexing.html#indexing-view-versus-copy\n",
      "  self._setitem_with_indexer(indexer, value)\n"
     ]
    }
   ],
   "source": [
    "for i in idx:\n",
    "    predict = xg_clf2.predict(np.array([test_df['Pclass'].iloc[1],test_df['onehot_title'].iloc[1],\n",
    "          test_df['onehot_sex'].iloc[1],test_df['SibParch'].iloc[1],\n",
    "          test_df['Ticket_num'].iloc[1],test_df['Fare_Rounddown_Split'].iloc[1]]).reshape(-1,6))\n",
    "    test_df['Age'].iloc[i] = predict.astype(np.int32)"
   ]
  },
  {
   "cell_type": "code",
   "execution_count": 26,
   "metadata": {},
   "outputs": [
    {
     "data": {
      "text/plain": [
       "0"
      ]
     },
     "execution_count": 26,
     "metadata": {},
     "output_type": "execute_result"
    }
   ],
   "source": [
    "test_df.Age.isnull().sum()"
   ]
  },
  {
   "cell_type": "markdown",
   "metadata": {},
   "source": [
    "穴埋めしたAgeから10歳ごとに年齢分けしたBy_Age_Classという属性を新たに作成する"
   ]
  },
  {
   "cell_type": "code",
   "execution_count": 27,
   "metadata": {
    "collapsed": true
   },
   "outputs": [],
   "source": [
    "train_df['By_Age_Class'] = train_df.apply(lambda x: age_10split(x), axis=1)\n",
    "test_df['By_Age_Class'] = test_df.apply(lambda x: age_10split(x), axis=1)"
   ]
  },
  {
   "cell_type": "code",
   "execution_count": 28,
   "metadata": {},
   "outputs": [
    {
     "data": {
      "text/plain": [
       "PassengerId             0\n",
       "Survived                0\n",
       "Pclass                  0\n",
       "Name                    0\n",
       "title_name              0\n",
       "onehot_title            0\n",
       "Sex                     0\n",
       "onehot_sex              0\n",
       "Age                     0\n",
       "SibSp                   0\n",
       "Parch                   0\n",
       "SibParch                0\n",
       "Ticket                  0\n",
       "Ticket_num              0\n",
       "Fare                    0\n",
       "Fare_Rounddown          0\n",
       "Fare_Rounddown_Split    0\n",
       "Cabin                   0\n",
       "isCabin                 0\n",
       "Embarked                0\n",
       "onehot_Embarked         0\n",
       "By_Age_Class            0\n",
       "dtype: int64"
      ]
     },
     "execution_count": 28,
     "metadata": {},
     "output_type": "execute_result"
    }
   ],
   "source": [
    "train_df.isnull().sum()"
   ]
  },
  {
   "cell_type": "code",
   "execution_count": 29,
   "metadata": {},
   "outputs": [
    {
     "data": {
      "text/plain": [
       "PassengerId             0\n",
       "Pclass                  0\n",
       "Name                    0\n",
       "title_name              0\n",
       "onehot_title            0\n",
       "Sex                     0\n",
       "onehot_sex              0\n",
       "Age                     0\n",
       "SibSp                   0\n",
       "Parch                   0\n",
       "SibParch                0\n",
       "Ticket                  0\n",
       "Ticket_num              0\n",
       "Fare                    0\n",
       "Fare_Rounddown          0\n",
       "Fare_Rounddown_Split    0\n",
       "Cabin                   0\n",
       "isCabin                 0\n",
       "Embarked                0\n",
       "onehot_Embarked         0\n",
       "By_Age_Class            0\n",
       "dtype: int64"
      ]
     },
     "execution_count": 29,
     "metadata": {},
     "output_type": "execute_result"
    }
   ],
   "source": [
    "test_df.isnull().sum()"
   ]
  },
  {
   "cell_type": "markdown",
   "metadata": {},
   "source": [
    "生存者の予測に必要なデータの穴埋めが完了したので生存者の予測モデルを作成する      \n",
    "予測に必要のないカラムを消去する"
   ]
  },
  {
   "cell_type": "code",
   "execution_count": 30,
   "metadata": {
    "collapsed": true
   },
   "outputs": [],
   "source": [
    "train_drop_columns = ['PassengerId','Name','title_name','Sex','Age','SibSp','Parch','Ticket','Ticket_num','Fare','Fare_Rounddown','Cabin','Embarked','onehot_Embarked']\n",
    "train_df_pred = train_df.drop(train_drop_columns, axis=1)"
   ]
  },
  {
   "cell_type": "code",
   "execution_count": 31,
   "metadata": {},
   "outputs": [
    {
     "data": {
      "text/html": [
       "<div>\n",
       "<style>\n",
       "    .dataframe thead tr:only-child th {\n",
       "        text-align: right;\n",
       "    }\n",
       "\n",
       "    .dataframe thead th {\n",
       "        text-align: left;\n",
       "    }\n",
       "\n",
       "    .dataframe tbody tr th {\n",
       "        vertical-align: top;\n",
       "    }\n",
       "</style>\n",
       "<table border=\"1\" class=\"dataframe\">\n",
       "  <thead>\n",
       "    <tr style=\"text-align: right;\">\n",
       "      <th></th>\n",
       "      <th>Survived</th>\n",
       "      <th>Pclass</th>\n",
       "      <th>onehot_title</th>\n",
       "      <th>onehot_sex</th>\n",
       "      <th>SibParch</th>\n",
       "      <th>Fare_Rounddown_Split</th>\n",
       "      <th>isCabin</th>\n",
       "      <th>By_Age_Class</th>\n",
       "    </tr>\n",
       "  </thead>\n",
       "  <tbody>\n",
       "    <tr>\n",
       "      <th>0</th>\n",
       "      <td>0</td>\n",
       "      <td>3</td>\n",
       "      <td>2</td>\n",
       "      <td>1</td>\n",
       "      <td>2</td>\n",
       "      <td>0</td>\n",
       "      <td>0</td>\n",
       "      <td>2</td>\n",
       "    </tr>\n",
       "    <tr>\n",
       "      <th>1</th>\n",
       "      <td>1</td>\n",
       "      <td>1</td>\n",
       "      <td>3</td>\n",
       "      <td>0</td>\n",
       "      <td>2</td>\n",
       "      <td>7</td>\n",
       "      <td>1</td>\n",
       "      <td>3</td>\n",
       "    </tr>\n",
       "  </tbody>\n",
       "</table>\n",
       "</div>"
      ],
      "text/plain": [
       "   Survived  Pclass  onehot_title  onehot_sex  SibParch  Fare_Rounddown_Split  \\\n",
       "0         0       3             2           1         2                     0   \n",
       "1         1       1             3           0         2                     7   \n",
       "\n",
       "   isCabin  By_Age_Class  \n",
       "0        0             2  \n",
       "1        1             3  "
      ]
     },
     "execution_count": 31,
     "metadata": {},
     "output_type": "execute_result"
    }
   ],
   "source": [
    "train_df_pred.head(2)"
   ]
  },
  {
   "cell_type": "code",
   "execution_count": 32,
   "metadata": {},
   "outputs": [
    {
     "name": "stdout",
     "output_type": "stream",
     "text": [
      "534 357\n"
     ]
    }
   ],
   "source": [
    "# データを訓練データ、テストデータに分割する\n",
    "from sklearn.model_selection import train_test_split\n",
    "\n",
    "train, test = train_test_split(train_df_pred, test_size = 0.4)\n",
    "# indexをリセットする\n",
    "train = train.reset_index(drop=True)\n",
    "test = test.reset_index(drop=True)\n",
    "print(len(train),len(test))"
   ]
  },
  {
   "cell_type": "code",
   "execution_count": 33,
   "metadata": {},
   "outputs": [
    {
     "name": "stdout",
     "output_type": "stream",
     "text": [
      "(534, 7) (534,)\n"
     ]
    }
   ],
   "source": [
    "# 特徴として使うデータとラベルとして使うデータに分ける\n",
    "X_train = np.array(train.drop(['Survived'], axis=1).values).astype(np.float32)\n",
    "y_train = np.array(train['Survived'].values).astype(np.float32)\n",
    "\n",
    "X_test = np.array(test.drop(['Survived'], axis=1).values).astype(np.float32)\n",
    "y_test = np.array(test['Survived'].values).astype(np.float32)\n",
    "\n",
    "print(X_train.shape,y_train.shape)"
   ]
  },
  {
   "cell_type": "markdown",
   "metadata": {},
   "source": [
    "ランダムフォレストとXGboostにてモデルの精度を比較する"
   ]
  },
  {
   "cell_type": "code",
   "execution_count": 36,
   "metadata": {
    "collapsed": true
   },
   "outputs": [],
   "source": [
    "from sklearn.ensemble import RandomForestRegressor\n",
    "\n",
    "rf_clf = RandomForestRegressor()\n",
    "rf_model = rf_clf.fit(X_train,y_train)"
   ]
  },
  {
   "cell_type": "code",
   "execution_count": 37,
   "metadata": {
    "collapsed": true
   },
   "outputs": [],
   "source": [
    "from xgboost import XGBRegressor\n",
    "xg_clf = XGBRegressor(max_delta_step=10,gamma=0.05)\n",
    "# モデルを訓練する\n",
    "xg_model = xg_clf.fit(X_train, y_train)"
   ]
  },
  {
   "cell_type": "code",
   "execution_count": 38,
   "metadata": {},
   "outputs": [
    {
     "name": "stdout",
     "output_type": "stream",
     "text": [
      "RF LogisticRegression log loss = 0.6894748990015678\n",
      "XGBoost log loss = 0.41576645462061224\n"
     ]
    }
   ],
   "source": [
    "from sklearn.metrics import log_loss\n",
    "rf_pred = rf_clf.predict(X_test)\n",
    "xg_pred = xg_clf.predict(X_test)\n",
    "rf_pred = np.fmin(0.999,rf_pred)\n",
    "rf_pred = np.fmax(0.0001,rf_pred)\n",
    "xg_pred = np.fmin(0.999,xg_pred)\n",
    "xg_pred = np.fmax(0.0001,xg_pred)\n",
    "print('RF LogisticRegression log loss = {}'.format(log_loss(y_test,rf_pred)))\n",
    "print('XGBoost log loss = {}'.format(log_loss(y_test,xg_pred)))"
   ]
  },
  {
   "cell_type": "markdown",
   "metadata": {},
   "source": [
    "生存者の予測モデルをテストデータに対して適用する"
   ]
  },
  {
   "cell_type": "code",
   "execution_count": 39,
   "metadata": {
    "collapsed": true
   },
   "outputs": [],
   "source": [
    "test_drop_columns = ['PassengerId','Name','title_name','Sex','Age','SibSp','Parch','Ticket','Ticket_num','Fare','Fare_Rounddown','Cabin','Embarked','onehot_Embarked']\n",
    "test_df_pred = test_df.drop(test_drop_columns, axis=1)"
   ]
  },
  {
   "cell_type": "code",
   "execution_count": 40,
   "metadata": {},
   "outputs": [
    {
     "data": {
      "text/html": [
       "<div>\n",
       "<style>\n",
       "    .dataframe thead tr:only-child th {\n",
       "        text-align: right;\n",
       "    }\n",
       "\n",
       "    .dataframe thead th {\n",
       "        text-align: left;\n",
       "    }\n",
       "\n",
       "    .dataframe tbody tr th {\n",
       "        vertical-align: top;\n",
       "    }\n",
       "</style>\n",
       "<table border=\"1\" class=\"dataframe\">\n",
       "  <thead>\n",
       "    <tr style=\"text-align: right;\">\n",
       "      <th></th>\n",
       "      <th>Pclass</th>\n",
       "      <th>onehot_title</th>\n",
       "      <th>onehot_sex</th>\n",
       "      <th>SibParch</th>\n",
       "      <th>Fare_Rounddown_Split</th>\n",
       "      <th>isCabin</th>\n",
       "      <th>By_Age_Class</th>\n",
       "    </tr>\n",
       "  </thead>\n",
       "  <tbody>\n",
       "    <tr>\n",
       "      <th>0</th>\n",
       "      <td>3</td>\n",
       "      <td>2</td>\n",
       "      <td>1</td>\n",
       "      <td>1</td>\n",
       "      <td>0</td>\n",
       "      <td>0</td>\n",
       "      <td>3</td>\n",
       "    </tr>\n",
       "    <tr>\n",
       "      <th>1</th>\n",
       "      <td>3</td>\n",
       "      <td>3</td>\n",
       "      <td>0</td>\n",
       "      <td>2</td>\n",
       "      <td>0</td>\n",
       "      <td>0</td>\n",
       "      <td>4</td>\n",
       "    </tr>\n",
       "  </tbody>\n",
       "</table>\n",
       "</div>"
      ],
      "text/plain": [
       "   Pclass  onehot_title  onehot_sex  SibParch  Fare_Rounddown_Split  isCabin  \\\n",
       "0       3             2           1         1                     0        0   \n",
       "1       3             3           0         2                     0        0   \n",
       "\n",
       "   By_Age_Class  \n",
       "0             3  \n",
       "1             4  "
      ]
     },
     "execution_count": 40,
     "metadata": {},
     "output_type": "execute_result"
    }
   ],
   "source": [
    "test_df_pred.head(2)"
   ]
  },
  {
   "cell_type": "code",
   "execution_count": 41,
   "metadata": {
    "collapsed": true
   },
   "outputs": [],
   "source": [
    "X_pred = np.array(test_df_pred.values.astype(np.float32))"
   ]
  },
  {
   "cell_type": "code",
   "execution_count": 42,
   "metadata": {
    "collapsed": true
   },
   "outputs": [],
   "source": [
    "test_pred = xg_clf.predict(X_pred)"
   ]
  },
  {
   "cell_type": "code",
   "execution_count": 43,
   "metadata": {
    "collapsed": true
   },
   "outputs": [],
   "source": [
    "# 提出ファイルの作成\n",
    "submit_df = pd.read_csv('gender_submission.csv')\n",
    "for i in range(0,len(submit_df)):\n",
    "    if test_pred[i] < 0.5:\n",
    "        submit_df['Survived'].iloc[i] = 0\n",
    "    else:\n",
    "        submit_df['Survived'].iloc[i] = 1"
   ]
  },
  {
   "cell_type": "code",
   "execution_count": 44,
   "metadata": {
    "collapsed": true
   },
   "outputs": [],
   "source": [
    "# 提出ファイルを別の名前で保存する\n",
    "submit_df.to_csv('titanic_submission.csv',index=False)"
   ]
  },
  {
   "cell_type": "code",
   "execution_count": 45,
   "metadata": {},
   "outputs": [
    {
     "data": {
      "text/html": [
       "<div>\n",
       "<style>\n",
       "    .dataframe thead tr:only-child th {\n",
       "        text-align: right;\n",
       "    }\n",
       "\n",
       "    .dataframe thead th {\n",
       "        text-align: left;\n",
       "    }\n",
       "\n",
       "    .dataframe tbody tr th {\n",
       "        vertical-align: top;\n",
       "    }\n",
       "</style>\n",
       "<table border=\"1\" class=\"dataframe\">\n",
       "  <thead>\n",
       "    <tr style=\"text-align: right;\">\n",
       "      <th></th>\n",
       "      <th>PassengerId</th>\n",
       "      <th>Survived</th>\n",
       "    </tr>\n",
       "  </thead>\n",
       "  <tbody>\n",
       "    <tr>\n",
       "      <th>0</th>\n",
       "      <td>892</td>\n",
       "      <td>0</td>\n",
       "    </tr>\n",
       "    <tr>\n",
       "      <th>1</th>\n",
       "      <td>893</td>\n",
       "      <td>0</td>\n",
       "    </tr>\n",
       "    <tr>\n",
       "      <th>2</th>\n",
       "      <td>894</td>\n",
       "      <td>0</td>\n",
       "    </tr>\n",
       "    <tr>\n",
       "      <th>3</th>\n",
       "      <td>895</td>\n",
       "      <td>0</td>\n",
       "    </tr>\n",
       "    <tr>\n",
       "      <th>4</th>\n",
       "      <td>896</td>\n",
       "      <td>1</td>\n",
       "    </tr>\n",
       "    <tr>\n",
       "      <th>5</th>\n",
       "      <td>897</td>\n",
       "      <td>0</td>\n",
       "    </tr>\n",
       "    <tr>\n",
       "      <th>6</th>\n",
       "      <td>898</td>\n",
       "      <td>1</td>\n",
       "    </tr>\n",
       "    <tr>\n",
       "      <th>7</th>\n",
       "      <td>899</td>\n",
       "      <td>0</td>\n",
       "    </tr>\n",
       "    <tr>\n",
       "      <th>8</th>\n",
       "      <td>900</td>\n",
       "      <td>1</td>\n",
       "    </tr>\n",
       "    <tr>\n",
       "      <th>9</th>\n",
       "      <td>901</td>\n",
       "      <td>0</td>\n",
       "    </tr>\n",
       "  </tbody>\n",
       "</table>\n",
       "</div>"
      ],
      "text/plain": [
       "   PassengerId  Survived\n",
       "0          892         0\n",
       "1          893         0\n",
       "2          894         0\n",
       "3          895         0\n",
       "4          896         1\n",
       "5          897         0\n",
       "6          898         1\n",
       "7          899         0\n",
       "8          900         1\n",
       "9          901         0"
      ]
     },
     "execution_count": 45,
     "metadata": {},
     "output_type": "execute_result"
    }
   ],
   "source": [
    "show = pd.read_csv('titanic_submission.csv')\n",
    "show.head(10)"
   ]
  }
 ],
 "metadata": {
  "kernelspec": {
   "display_name": "Python 3",
   "language": "python",
   "name": "python3"
  },
  "language_info": {
   "codemirror_mode": {
    "name": "ipython",
    "version": 3
   },
   "file_extension": ".py",
   "mimetype": "text/x-python",
   "name": "python",
   "nbconvert_exporter": "python",
   "pygments_lexer": "ipython3",
   "version": "3.6.2"
  }
 },
 "nbformat": 4,
 "nbformat_minor": 2
}
