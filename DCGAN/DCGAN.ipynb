{
  "nbformat": 4,
  "nbformat_minor": 0,
  "metadata": {
    "colab": {
      "name": "DCGAN_for_docs.ipynb",
      "version": "0.3.2",
      "views": {},
      "default_view": {},
      "provenance": [],
      "collapsed_sections": []
    },
    "kernelspec": {
      "name": "python3",
      "display_name": "Python 3"
    },
    "accelerator": "GPU"
  },
  "cells": [
    {
      "metadata": {
        "id": "DHI_BrDUgEXz",
        "colab_type": "code",
        "colab": {
          "autoexec": {
            "startup": false,
            "wait_interval": 0
          }
        }
      },
      "cell_type": "code",
      "source": [
        "import numpy as np\n",
        "import tensorflow as tf\n",
        "import matplotlib.pyplot as plt\n",
        "%matplotlib inline"
      ],
      "execution_count": 0,
      "outputs": []
    },
    {
      "metadata": {
        "id": "B910ykCLgJmT",
        "colab_type": "code",
        "colab": {
          "autoexec": {
            "startup": false,
            "wait_interval": 0
          }
        }
      },
      "cell_type": "code",
      "source": [
        "import time\n",
        "from pathlib import Path\n",
        "from PIL import Image\n",
        "from tensorflow.contrib.learn.python.learn.datasets import mnist\n",
        "import csv"
      ],
      "execution_count": 0,
      "outputs": []
    },
    {
      "metadata": {
        "id": "qcBrpBtIgOHR",
        "colab_type": "code",
        "colab": {
          "autoexec": {
            "startup": false,
            "wait_interval": 0
          },
          "base_uri": "https://localhost:8080/",
          "height": 687
        },
        "outputId": "5d254258-39b2-430c-ee56-da52de9a526d",
        "executionInfo": {
          "status": "ok",
          "timestamp": 1526456907484,
          "user_tz": -540,
          "elapsed": 1504,
          "user": {
            "displayName": "村山ひさみ",
            "photoUrl": "https://lh3.googleusercontent.com/a/default-user=s128",
            "userId": "113874243179507049880"
          }
        }
      },
      "cell_type": "code",
      "source": [
        "dataset = mnist.read_data_sets('MNIST_data', one_hot=True)\n",
        "img = np.array(dataset.train.images[753])\n",
        "plt.imshow(img.reshape(28,28))"
      ],
      "execution_count": 3,
      "outputs": [
        {
          "output_type": "stream",
          "text": [
            "WARNING:tensorflow:From <ipython-input-3-83077b4c4c83>:1: read_data_sets (from tensorflow.contrib.learn.python.learn.datasets.mnist) is deprecated and will be removed in a future version.\n",
            "Instructions for updating:\n",
            "Please use alternatives such as official/mnist/dataset.py from tensorflow/models.\n",
            "WARNING:tensorflow:From /usr/local/lib/python3.6/dist-packages/tensorflow/contrib/learn/python/learn/datasets/mnist.py:260: maybe_download (from tensorflow.contrib.learn.python.learn.datasets.base) is deprecated and will be removed in a future version.\n",
            "Instructions for updating:\n",
            "Please write your own downloading logic.\n",
            "WARNING:tensorflow:From /usr/local/lib/python3.6/dist-packages/tensorflow/contrib/learn/python/learn/datasets/mnist.py:262: extract_images (from tensorflow.contrib.learn.python.learn.datasets.mnist) is deprecated and will be removed in a future version.\n",
            "Instructions for updating:\n",
            "Please use tf.data to implement this functionality.\n",
            "Extracting MNIST_data/train-images-idx3-ubyte.gz\n",
            "WARNING:tensorflow:From /usr/local/lib/python3.6/dist-packages/tensorflow/contrib/learn/python/learn/datasets/mnist.py:267: extract_labels (from tensorflow.contrib.learn.python.learn.datasets.mnist) is deprecated and will be removed in a future version.\n",
            "Instructions for updating:\n",
            "Please use tf.data to implement this functionality.\n",
            "Extracting MNIST_data/train-labels-idx1-ubyte.gz\n",
            "WARNING:tensorflow:From /usr/local/lib/python3.6/dist-packages/tensorflow/contrib/learn/python/learn/datasets/mnist.py:110: dense_to_one_hot (from tensorflow.contrib.learn.python.learn.datasets.mnist) is deprecated and will be removed in a future version.\n",
            "Instructions for updating:\n",
            "Please use tf.one_hot on tensors.\n",
            "Extracting MNIST_data/t10k-images-idx3-ubyte.gz\n",
            "Extracting MNIST_data/t10k-labels-idx1-ubyte.gz\n",
            "WARNING:tensorflow:From /usr/local/lib/python3.6/dist-packages/tensorflow/contrib/learn/python/learn/datasets/mnist.py:290: DataSet.__init__ (from tensorflow.contrib.learn.python.learn.datasets.mnist) is deprecated and will be removed in a future version.\n",
            "Instructions for updating:\n",
            "Please use alternatives such as official/mnist/dataset.py from tensorflow/models.\n"
          ],
          "name": "stdout"
        },
        {
          "output_type": "execute_result",
          "data": {
            "text/plain": [
              "<matplotlib.image.AxesImage at 0x7f175f9144a8>"
            ]
          },
          "metadata": {
            "tags": []
          },
          "execution_count": 3
        },
        {
          "output_type": "display_data",
          "data": {
            "image/png": "[encoded data removed]",
            "text/plain": [
              "<matplotlib.figure.Figure at 0x7f17a64695f8>"
            ]
          },
          "metadata": {
            "tags": []
          }
        }
      ]
    },
    {
      "metadata": {
        "id": "otV71NLrgSSL",
        "colab_type": "code",
        "colab": {
          "autoexec": {
            "startup": false,
            "wait_interval": 0
          }
        }
      },
      "cell_type": "code",
      "source": [
        "def batch_norm(X, scale, offset, axes, is_train, device_name='/cpu:0'):\n",
        "    # 予測のときにはそのまんまの値を返す\n",
        "    if is_train is False:\n",
        "        return X\n",
        "\n",
        "    epsilon = 1e-5\n",
        "    with tf.device(device_name):\n",
        "        mean, variance = tf.nn.moments(X, axes)\n",
        "        bn = tf.nn.batch_normalization(X, mean, variance, offset, scale,epsilon)\n",
        "\n",
        "    return bn\n",
        "\n",
        "def global_average_pooling(x):\n",
        "    for _ in range(1):\n",
        "        x = tf.reduce_mean(x, axis=[1])\n",
        "    return x\n",
        "\n",
        "class Generator():\n",
        "    def __init__(self, device_name='/cpu:0'):\n",
        "\n",
        "        # Generator parameter\n",
        "        with tf.device(device_name):\n",
        "\n",
        "            self.gen_w0 = tf.Variable(\n",
        "                tf.random_normal(\n",
        "                    shape=[100,4*4*256], stddev=0.02, dtype=tf.float32),\n",
        "                name=\"gen_w0\")\n",
        "\n",
        "            self.gen_b0 = tf.Variable(\n",
        "                tf.random_normal(\n",
        "                    shape=[4*4*256], stddev=0.02, dtype=tf.float32),\n",
        "                name=\"gen_b0\")    \n",
        "                     \n",
        "            self.gen_w1 = tf.Variable(\n",
        "                tf.random_normal(\n",
        "                    shape=[4, 4, 128, 256], stddev=0.02, dtype=tf.float32),\n",
        "                name=\"gen_w1\")\n",
        "            \n",
        "            self.gen_b1 = tf.Variable(\n",
        "                tf.random_normal(\n",
        "                    shape=[128], stddev=0.02, dtype=tf.float32),\n",
        "                name=\"gen_b1\")\n",
        "            \n",
        "            self.gen_w2 = tf.Variable(\n",
        "                tf.random_normal(\n",
        "                    shape=[4, 4, 64, 128], stddev=0.02, dtype=tf.float32),\n",
        "                name=\"gen_w2\")\n",
        "            \n",
        "            self.gen_b2 = tf.Variable(\n",
        "                tf.random_normal(\n",
        "                    shape=[64], stddev=0.02, dtype=tf.float32),\n",
        "                name=\"gen_b2\")\n",
        "            \n",
        "            self.gen_w3 = tf.Variable(\n",
        "                tf.random_normal(\n",
        "                    shape=[4, 4, 1, 64], stddev=0.02, dtype=tf.float32),\n",
        "                name=\"gen_w3\")\n",
        "            \n",
        "            self.gen_b3 = tf.Variable(\n",
        "                tf.random_normal(\n",
        "                    shape=[1], stddev=0.02, dtype=tf.float32),\n",
        "                name=\"gen_b3\")          \n",
        "            \n",
        "            self.gen_scale_w0 = tf.Variable(\n",
        "                tf.ones([256]), name=\"gen_scale_w0\")\n",
        "            self.gen_offset_w0 = tf.Variable(\n",
        "                tf.zeros([256]), name=\"gen_offset_w0\")\n",
        "            \n",
        "            self.gen_scale_w1 = tf.Variable(\n",
        "                tf.ones([128]), name=\"gen_scale_w1\")\n",
        "            self.gen_offset_w1 = tf.Variable(\n",
        "                tf.zeros([128]), name=\"gen_offset_w1\")\n",
        "\n",
        "            self.gen_scale_w2 = tf.Variable(\n",
        "                tf.ones([64]), name=\"gen_scale_w2\")\n",
        "            self.gen_offset_w2 = tf.Variable(\n",
        "                tf.zeros([64]), name=\"gen_offset_w2\")\n",
        "\n",
        "            self.keep_prob = tf.placeholder(tf.float32)\n",
        "            self.batch_size = tf.placeholder(tf.int32)\n",
        "            \n",
        "    def run(self, z, is_train, device_name='/cpu:0'):\n",
        "\n",
        "        with tf.device(device_name):\n",
        "\n",
        "            h0 = tf.reshape(tf.nn.relu(tf.nn.xw_plus_b(z, self.gen_w0, self.gen_b0)),[-1,4,4,256])\n",
        "                        \n",
        "            gen_conv1 = tf.nn.conv2d_transpose(\n",
        "                    value=h0,\n",
        "                    filter=self.gen_w1,\n",
        "                    output_shape=[self.batch_size,7,7,128],\n",
        "                    strides=[1, 2, 2, 1],\n",
        "                    padding='SAME')+self.gen_b1\n",
        "            \n",
        "            h1 = tf.nn.leaky_relu(batch_norm(gen_conv1, self.gen_scale_w1, self.gen_offset_w1,\n",
        "                            [0, 1, 2], is_train, device_name),alpha=0.2)\n",
        "            \n",
        "            gen_conv2 = tf.nn.conv2d_transpose(\n",
        "                    value=h1,\n",
        "                    filter=self.gen_w2,\n",
        "                    output_shape=[self.batch_size,14,14,64],\n",
        "                    strides=[1, 2, 2, 1],\n",
        "                    padding='SAME')+self.gen_b2\n",
        "                \n",
        "            h2 = tf.nn.leaky_relu(batch_norm(gen_conv2, self.gen_scale_w2, self.gen_offset_w2,\n",
        "                                             [0, 1, 2], is_train, device_name),alpha=0.2)\n",
        "            \n",
        "            gen_conv3 = tf.nn.tanh(\n",
        "                tf.nn.conv2d_transpose(\n",
        "                    value=h2,\n",
        "                    filter=self.gen_w3,\n",
        "                    output_shape=[self.batch_size,28,28,1],\n",
        "                    strides=[1, 2, 2, 1],\n",
        "                    padding='SAME')+self.gen_b3)\n",
        "        \n",
        "        return gen_conv3\n",
        "\n",
        "class Discrimitor():\n",
        "    def __init__(self, device_name='/cpu:0'):\n",
        "        # Discrimitor parameter\n",
        "        with tf.device(device_name):\n",
        "            self.dis_w1 = tf.Variable(\n",
        "                tf.random_normal(\n",
        "                    shape=[4, 4, 1, 64], stddev=0.02, dtype=tf.float32),\n",
        "                name=\"dis_w1\")\n",
        "            \n",
        "            self.dis_b1 = tf.Variable(\n",
        "                tf.random_normal(\n",
        "                    shape=[64], stddev=0.02, dtype=tf.float32),\n",
        "                name=\"dis_b1\")\n",
        "            \n",
        "            self.dis_w2 = tf.Variable(\n",
        "                tf.random_normal(\n",
        "                    shape=[4, 4, 64, 128], stddev=0.02, dtype=tf.float32),\n",
        "                name=\"dis_w2\")\n",
        "            \n",
        "            self.dis_b2 = tf.Variable(\n",
        "                tf.random_normal(\n",
        "                    shape=[128], stddev=0.02, dtype=tf.float32),\n",
        "                name=\"dis_b2\")\n",
        "            \n",
        "            self.dis_w3 = tf.Variable(\n",
        "                tf.random_normal(\n",
        "                    shape=[4, 4, 128, 256], stddev=0.02, dtype=tf.float32),\n",
        "                name=\"dis_w3\")\n",
        "            \n",
        "            self.dis_b3 = tf.Variable(\n",
        "                tf.random_normal(\n",
        "                    shape=[256], stddev=0.02, dtype=tf.float32),\n",
        "                name=\"dis_b3\")\n",
        "            \n",
        "            self.dis_w4 = tf.Variable(\n",
        "                tf.random_normal(\n",
        "                    shape=[4*4*256,1], stddev=0.02, dtype=tf.float32),\n",
        "                name=\"dis_w4\")\n",
        "            \n",
        "            self.dis_b4 = tf.Variable(\n",
        "                tf.random_normal(\n",
        "                    shape=[1], stddev=0.02, dtype=tf.float32),\n",
        "                name=\"dis_b4\")\n",
        "            \n",
        "            self.dis_scale_w1 = tf.Variable(\n",
        "                tf.ones([64]), name=\"dis_scale_w1\")\n",
        "            self.dis_offset_w1 = tf.Variable(\n",
        "                tf.zeros([64]), name=\"dis_offset_w1\")\n",
        "\n",
        "            self.dis_scale_w2 = tf.Variable(\n",
        "                tf.ones([128]), name=\"dis_scale_w2\")\n",
        "            self.dis_offset_w2 = tf.Variable(\n",
        "                tf.zeros([128]), name=\"dis_offset_w2\")\n",
        "            \n",
        "            self.dis_scale_w3 = tf.Variable(\n",
        "                tf.ones([128]), name=\"dis_scale_w3\")\n",
        "            self.dis_offset_w3 = tf.Variable(\n",
        "                tf.zeros([128]), name=\"dis_offset_w3\")\n",
        "\n",
        "    def run(self, x, is_train, device_name='/cpu:0'):\n",
        "\n",
        "        with tf.device(device_name):\n",
        "            input_layer = tf.reshape(x, [-1, 28, 28, 1])\n",
        "            dis_conv1 = tf.nn.conv2d(\n",
        "                    input=input_layer,\n",
        "                    filter=self.dis_w1,\n",
        "                    strides=[1, 2, 2, 1],\n",
        "                    padding='SAME')+self.dis_b1\n",
        "            \n",
        "            h1 = tf.nn.leaky_relu(dis_conv1,alpha=0.2)\n",
        "   \n",
        "            dis_conv2 = tf.nn.conv2d(\n",
        "                    input=h1,\n",
        "                    filter=self.dis_w2,\n",
        "                    strides=[1, 2, 2, 1],\n",
        "                    padding='SAME')+self.dis_b2\n",
        "    \n",
        "            h2 =tf.nn.leaky_relu(dis_conv2,alpha=0.2)     \n",
        "        \n",
        "            dis_conv3 = tf.nn.conv2d(\n",
        "                    input=h2,\n",
        "                    filter=self.dis_w3,\n",
        "                    strides=[1, 2, 2, 1],\n",
        "                    padding='SAME')+self.dis_b3\n",
        "            \n",
        "            h3 = tf.nn.leaky_relu(dis_conv3,alpha=0.2)\n",
        "     \n",
        "            h3_flat = tf.reshape(h3,[-1,4*4*256])\n",
        "            fc = tf.nn.sigmoid(tf.nn.xw_plus_b(h3_flat,weights=self.dis_w4,biases=self.dis_b4))\n",
        "            \n",
        "        return fc\n",
        "\n",
        "\n",
        "class DCGAN():\n",
        "    def __init__(self, using_gpu):\n",
        "        self.device_name = '/cpu:0'\n",
        "        if (using_gpu):\n",
        "            self.device_name = '/gpu:0'\n",
        "\n",
        "        print('using : {}'.format(self.device_name))\n",
        "\n",
        "        with tf.device(self.device_name):\n",
        "            self.G_is_train = tf.placeholder(tf.bool)\n",
        "            self.D_is_train = tf.placeholder(tf.bool)\n",
        "            self.input_X = tf.placeholder(tf.float32, shape=(None, 28 * 28))\n",
        "\n",
        "            # t0は0のラベルを格納し、t1は1のラベルを格納する\n",
        "            self.label_t0 = tf.placeholder(tf.float32, shape=(None, 1))\n",
        "            self.label_t1 = tf.placeholder(tf.float32, shape=(None, 1))\n",
        "\n",
        "            # Generator\n",
        "            self.generator = Generator(device_name=self.device_name)\n",
        "            # 生成モデルに必要なノイズの入れ物\n",
        "            self.gen_z = tf.placeholder(tf.float32, shape=(None, 100))\n",
        "            # Discrimitor\n",
        "            self.discrimitor = Discrimitor(device_name=self.device_name)\n",
        "\n",
        "            # weight decay\n",
        "            gen_norm_term = tf.nn.l2_loss(\n",
        "                self.generator.gen_w2) + tf.nn.l2_loss(\n",
        "                    self.generator.gen_w3)\n",
        "            gen_lambda_ = 0.001\n",
        "\n",
        "            dis_norm_term = tf.nn.l2_loss(\n",
        "                self.discrimitor.dis_w2) + tf.nn.l2_loss(\n",
        "                    self.discrimitor.dis_w3)\n",
        "            dis_lambda_ = 0.001\n",
        "\n",
        "            # 訓練データの識別予測\n",
        "            input_X = self.discrimitor.run(\n",
        "                self.input_X,\n",
        "                is_train=self.D_is_train,\n",
        "                device_name=self.device_name)\n",
        "            \n",
        "            # 生成されたデータの識別予測\n",
        "            generated_X = self.discrimitor.run(\n",
        "                self.generator.run(\n",
        "                    z=self.gen_z,\n",
        "                    is_train=self.G_is_train,\n",
        "                    device_name=self.device_name),\n",
        "                is_train=self.D_is_train,\n",
        "                device_name=self.device_name)\n",
        "\n",
        "            self.dis_entropy_X = tf.nn.sigmoid_cross_entropy_with_logits(\n",
        "                labels=self.label_t1, logits=input_X)\n",
        "            self.dis_entropy_G = tf.nn.sigmoid_cross_entropy_with_logits(\n",
        "                labels=self.label_t0, logits=generated_X)\n",
        "            self.dis_loss = tf.reduce_mean(\n",
        "                self.dis_entropy_X + self.dis_entropy_G\n",
        "            ) + dis_norm_term * dis_lambda_\n",
        "\n",
        "            self.gen_entropy = tf.nn.sigmoid_cross_entropy_with_logits(\n",
        "                labels=self.label_t1, logits=generated_X)\n",
        "            self.gen_loss = tf.reduce_mean(\n",
        "                self.gen_entropy) + gen_norm_term * gen_lambda_\n",
        "\n",
        "            # 最適化する際にDならDのみのパラメータを、GならGのみのパラメータを更新するようにしたいのでモデル別の変数を取得する\n",
        "            dis_vars = [\n",
        "                x for x in tf.trainable_variables() if \"dis_\" in x.name\n",
        "            ]\n",
        "            gen_vars = [\n",
        "                x for x in tf.trainable_variables() if \"gen_\" in x.name\n",
        "            ]\n",
        "\n",
        "            # 識別モデルDの最適化\n",
        "            self.opt_d = tf.train.AdamOptimizer(0.0002,beta1=0.1).minimize(\n",
        "                    self.dis_loss, var_list=[dis_vars])\n",
        "            # 生成モデルGの最適化\n",
        "            self.opt_g = tf.train.AdamOptimizer(0.0002, beta1=0.5).minimize(\n",
        "                    self.gen_loss, var_list=[gen_vars])\n",
        "                                   \n",
        "    def train(self,\n",
        "              X_train=None,\n",
        "              batch_size=100,\n",
        "              epoch_num=1000,\n",
        "              imgpath='./mnist_DCGAN_images/',\n",
        "              ckptpath='./mnist_DCGAN_checkpoints/',\n",
        "              log_file='mnist_DCGAN_loss_log.csv',\n",
        "              init=False):\n",
        "\n",
        "        if X_train is None:\n",
        "            raise TypeError(\"X_train is None\")\n",
        "\n",
        "        # 訓練途中で生成データを作成して保存したいのでその保存先の作成\n",
        "        p = Path(imgpath)\n",
        "        if not (p.is_dir()):\n",
        "            p.mkdir()\n",
        "\n",
        "        # モデルパラメータのチェックポイントの保存先\n",
        "        ckpt_p = Path(ckptpath)\n",
        "        if not (ckpt_p.is_dir()):\n",
        "            ckpt_p.mkdir()\n",
        "\n",
        "        config = tf.ConfigProto()\n",
        "        config.gpu_options.allow_growth = True\n",
        "\n",
        "        saver = tf.train.Saver()\n",
        "\n",
        "        sess = tf.Session()\n",
        "\n",
        "        if (init):\n",
        "            sess.run(tf.global_variables_initializer())\n",
        "            print('Initialize')\n",
        "\n",
        "        ckpt = tf.train.get_checkpoint_state(str(ckpt_p.absolute()))\n",
        "        if ckpt:\n",
        "            # checkpointファイルから最後に保存したモデルへのパスを取得する\n",
        "            last_model = ckpt.model_checkpoint_path\n",
        "            print(\"load {0}\".format(last_model))\n",
        "            # 学習済みモデルを読み込む\n",
        "            saver.restore(sess, last_model)\n",
        "\n",
        "        step = len(X_train) // batch_size\n",
        "        #step = mnist.train.num_examples // batch_size\n",
        "\n",
        "        # 正解ラベルのミニバッチ\n",
        "        t1_batch = np.ones((batch_size, 1), dtype=np.float32)\n",
        "        t0_batch = np.zeros((batch_size, 1), dtype=np.float32)\n",
        "\n",
        "        for epoch in range(epoch_num):\n",
        "\n",
        "            perm = np.random.permutation(len(X_train))\n",
        "            # １エポックごとにかかる時間の計測\n",
        "            start = time.time()\n",
        "            for k in range(step):\n",
        "                #X_batch = mnist.train.next_batch(batch_size)[0] /255.\n",
        "                X_batch = X_train[perm][k * batch_size:(k + 1) * batch_size]\n",
        "\n",
        "                # Train Discrimitor\n",
        "                # ノイズ事前分布からノイズをミニバッチ分取得\n",
        "                noise_z = np.random.uniform(\n",
        "                    -1, 1, size=[batch_size,100]).astype(np.float32)\n",
        "\n",
        "                sess.run(\n",
        "                    self.opt_d,\n",
        "                    feed_dict={\n",
        "                        self.input_X: X_batch,\n",
        "                        self.D_is_train: True,\n",
        "                        self.G_is_train: False,\n",
        "                        self.gen_z: noise_z,\n",
        "                        self.generator.keep_prob: 1.0,\n",
        "                        self.generator.batch_size: batch_size,\n",
        "                        self.label_t1: t1_batch,\n",
        "                        self.label_t0: t0_batch\n",
        "                    })\n",
        "\n",
        "                if k % 1 == 0:\n",
        "                    # Train Generator\n",
        "                    # ノイズ事前分布からノイズをミニバッチ分取得\n",
        "                    noise_z = np.random.uniform(\n",
        "                        -1, 1, size=[batch_size,100]).astype(np.float32)\n",
        "                    sess.run(\n",
        "                        self.opt_g,\n",
        "                        feed_dict={\n",
        "                            self.gen_z: noise_z,\n",
        "                            self.D_is_train: False,\n",
        "                            self.G_is_train: True,\n",
        "                            self.generator.keep_prob: 0.5,\n",
        "                            self.generator.batch_size: batch_size,\n",
        "                            self.label_t1: t1_batch\n",
        "                        })\n",
        "\n",
        "            # 1epoch終了時の損失を表示\n",
        "            noise_z = np.random.uniform(\n",
        "                -1, 1, size=[batch_size,100]).astype(np.float32)\n",
        "            train_dis_loss = sess.run(\n",
        "                self.dis_loss,\n",
        "                feed_dict={\n",
        "                    self.input_X: X_batch,\n",
        "                    self.D_is_train: False,\n",
        "                    self.G_is_train: False,\n",
        "                    self.gen_z: noise_z,\n",
        "                    self.generator.keep_prob: 1.0,\n",
        "                    self.generator.batch_size: batch_size,\n",
        "                    self.label_t1: t1_batch,\n",
        "                    self.label_t0: t0_batch\n",
        "                })\n",
        "\n",
        "            train_gen_loss = sess.run(\n",
        "                self.gen_loss,\n",
        "                feed_dict={\n",
        "                    self.gen_z: noise_z,\n",
        "                    self.D_is_train: False,\n",
        "                    self.G_is_train: False,\n",
        "                    self.generator.keep_prob: 1.0,\n",
        "                    self.generator.batch_size: batch_size,\n",
        "                    self.label_t1: t1_batch\n",
        "                })\n",
        "            print(\n",
        "                \"[Train] epoch: %d, dis loss: %f , gen loss : %f  Time : %f\" %\n",
        "                (epoch, train_dis_loss, train_gen_loss, time.time() - start))\n",
        "\n",
        "            # ファイルオープン\n",
        "            f = open(log_file, 'a')\n",
        "            log_writer = csv.writer(f, lineterminator='\\n')\n",
        "            loss_list = []\n",
        "            loss_list.append(epoch)\n",
        "            loss_list.append(train_dis_loss)\n",
        "            loss_list.append(train_gen_loss)\n",
        "            # 損失の値を書き込む\n",
        "            log_writer.writerow(loss_list)\n",
        "            f.close()\n",
        "\n",
        "            saver.save(sess, str(ckpt_p.absolute()) + '/GAN-mnist')\n",
        "\n",
        "            # 10epoch終了毎に生成モデルから1枚の画像を生成する\n",
        "            if epoch % 2 == 0:\n",
        "                noise_z = np.random.uniform(\n",
        "                    -1,1, size=[5,100]).astype(np.float32)\n",
        "\n",
        "                z_const = tf.constant(noise_z, dtype=tf.float32)\n",
        "                gen_imgs = ((sess.run(\n",
        "                    self.generator.run(z_const, is_train=False),\n",
        "                    feed_dict={self.generator.keep_prob: 1.0,self.generator.batch_size: 5})* 0.5)+0.5)*255.\n",
        "                for i in range(0,5):\n",
        "                    Image.fromarray(gen_imgs[i].reshape(\n",
        "                        28, 28)).convert('RGB').save(\n",
        "                            str(p.absolute()) +\n",
        "                            '/generate_img_epoch{0}_{1}.jpg'.format(epoch,i))\n",
        "                "
      ],
      "execution_count": 0,
      "outputs": []
    },
    {
      "metadata": {
        "id": "CcBYnaLnjkkN",
        "colab_type": "code",
        "colab": {
          "autoexec": {
            "startup": false,
            "wait_interval": 0
          },
          "base_uri": "https://localhost:8080/",
          "height": 35
        },
        "outputId": "5b056931-ef32-480c-c889-3fa83cc450f1",
        "executionInfo": {
          "status": "ok",
          "timestamp": 1526456915759,
          "user_tz": -540,
          "elapsed": 1268,
          "user": {
            "displayName": "村山ひさみ",
            "photoUrl": "https://lh3.googleusercontent.com/a/default-user=s128",
            "userId": "113874243179507049880"
          }
        }
      },
      "cell_type": "code",
      "source": [
        "import tensorflow as tf\n",
        "\n",
        "device_name = tf.test.gpu_device_name()\n",
        "if device_name != '/device:GPU:0':\n",
        "  raise SystemError('GPU device not found')\n",
        "print('Found GPU at: {}'.format(device_name))"
      ],
      "execution_count": 5,
      "outputs": [
        {
          "output_type": "stream",
          "text": [
            "Found GPU at: /device:GPU:0\n"
          ],
          "name": "stdout"
        }
      ]
    },
    {
      "metadata": {
        "id": "zdKdaN3ujnbI",
        "colab_type": "code",
        "colab": {
          "autoexec": {
            "startup": false,
            "wait_interval": 0
          },
          "base_uri": "https://localhost:8080/",
          "height": 35
        },
        "outputId": "65db8863-746d-4fcb-a0c0-33e65737b67d",
        "executionInfo": {
          "status": "ok",
          "timestamp": 1526456917494,
          "user_tz": -540,
          "elapsed": 1646,
          "user": {
            "displayName": "村山ひさみ",
            "photoUrl": "https://lh3.googleusercontent.com/a/default-user=s128",
            "userId": "113874243179507049880"
          }
        }
      },
      "cell_type": "code",
      "source": [
        "X_train = (dataset.train.images - 0.5 ) / 0.5\n",
        "len(X_train)"
      ],
      "execution_count": 6,
      "outputs": [
        {
          "output_type": "execute_result",
          "data": {
            "text/plain": [
              "55000"
            ]
          },
          "metadata": {
            "tags": []
          },
          "execution_count": 6
        }
      ]
    },
    {
      "metadata": {
        "id": "7GapVJl9mask",
        "colab_type": "code",
        "colab": {
          "autoexec": {
            "startup": false,
            "wait_interval": 0
          },
          "base_uri": "https://localhost:8080/",
          "height": 595
        },
        "outputId": "4214fcc8-7df0-43bc-c423-3985440a34c7",
        "executionInfo": {
          "status": "ok",
          "timestamp": 1526459045857,
          "user_tz": -540,
          "elapsed": 2114738,
          "user": {
            "displayName": "村山ひさみ",
            "photoUrl": "https://lh3.googleusercontent.com/a/default-user=s128",
            "userId": "113874243179507049880"
          }
        }
      },
      "cell_type": "code",
      "source": [
        "model = DCGAN(using_gpu=True)\n",
        "model.train(\n",
        "    X_train=X_train,\n",
        "    batch_size=100,\n",
        "    epoch_num=31,\n",
        "    init=True)"
      ],
      "execution_count": 7,
      "outputs": [
        {
          "output_type": "stream",
          "text": [
            "using : /gpu:0\n",
            "Initialize\n",
            "[Train] epoch: 0, dis loss: 1.464260 , gen loss : 0.705227  Time : 69.475381\n",
            "[Train] epoch: 1, dis loss: 1.424449 , gen loss : 0.697575  Time : 67.895718\n",
            "[Train] epoch: 2, dis loss: 1.412931 , gen loss : 0.695755  Time : 67.900951\n",
            "[Train] epoch: 3, dis loss: 1.308973 , gen loss : 0.680397  Time : 67.819287\n",
            "[Train] epoch: 4, dis loss: 1.648737 , gen loss : 0.317490  Time : 67.832625\n",
            "[Train] epoch: 5, dis loss: 1.399964 , gen loss : 0.695672  Time : 67.739877\n",
            "[Train] epoch: 6, dis loss: 1.398583 , gen loss : 0.693274  Time : 68.059352\n",
            "[Train] epoch: 7, dis loss: 1.392328 , gen loss : 0.694164  Time : 67.912298\n",
            "[Train] epoch: 8, dis loss: 1.389841 , gen loss : 0.693302  Time : 67.864284\n",
            "[Train] epoch: 9, dis loss: 1.636089 , gen loss : 0.316460  Time : 67.806798\n",
            "[Train] epoch: 10, dis loss: 1.641259 , gen loss : 0.316917  Time : 67.825922\n",
            "[Train] epoch: 11, dis loss: 1.634512 , gen loss : 0.315281  Time : 67.752681\n",
            "[Train] epoch: 12, dis loss: 1.391731 , gen loss : 0.694273  Time : 67.904754\n",
            "[Train] epoch: 13, dis loss: 1.389121 , gen loss : 0.693719  Time : 67.929680\n",
            "[Train] epoch: 14, dis loss: 1.388011 , gen loss : 0.693505  Time : 67.810498\n",
            "[Train] epoch: 15, dis loss: 1.387292 , gen loss : 0.693356  Time : 67.887238\n",
            "[Train] epoch: 16, dis loss: 1.629157 , gen loss : 0.314258  Time : 67.803463\n",
            "[Train] epoch: 17, dis loss: 1.259213 , gen loss : 0.673852  Time : 67.682958\n",
            "[Train] epoch: 18, dis loss: 1.378911 , gen loss : 0.560524  Time : 67.720512\n",
            "[Train] epoch: 19, dis loss: 1.363045 , gen loss : 0.556947  Time : 67.864319\n",
            "[Train] epoch: 20, dis loss: 1.324712 , gen loss : 0.678854  Time : 67.823566\n",
            "[Train] epoch: 21, dis loss: 1.357772 , gen loss : 0.673146  Time : 67.858013\n",
            "[Train] epoch: 22, dis loss: 1.341424 , gen loss : 0.624365  Time : 67.797682\n",
            "[Train] epoch: 23, dis loss: 1.355085 , gen loss : 0.640263  Time : 67.947588\n",
            "[Train] epoch: 24, dis loss: 1.310501 , gen loss : 0.657108  Time : 67.827399\n",
            "[Train] epoch: 25, dis loss: 1.395471 , gen loss : 0.544071  Time : 67.804455\n",
            "[Train] epoch: 26, dis loss: 1.331257 , gen loss : 0.624631  Time : 67.913579\n",
            "[Train] epoch: 27, dis loss: 1.347450 , gen loss : 0.655146  Time : 67.909406\n",
            "[Train] epoch: 28, dis loss: 1.385087 , gen loss : 0.687679  Time : 67.972457\n",
            "[Train] epoch: 29, dis loss: 1.350660 , gen loss : 0.635328  Time : 67.819211\n",
            "[Train] epoch: 30, dis loss: 1.351705 , gen loss : 0.682183  Time : 67.973474\n"
          ],
          "name": "stdout"
        }
      ]
    },
    {
      "metadata": {
        "id": "HedUOthNqOnE",
        "colab_type": "code",
        "colab": {
          "autoexec": {
            "startup": false,
            "wait_interval": 0
          },
          "base_uri": "https://localhost:8080/",
          "height": 697
        },
        "outputId": "c7c23234-ba4e-4b9c-b4a5-177ea73b11c3",
        "executionInfo": {
          "status": "ok",
          "timestamp": 1526459399728,
          "user_tz": -540,
          "elapsed": 4843,
          "user": {
            "displayName": "村山ひさみ",
            "photoUrl": "https://lh3.googleusercontent.com/a/default-user=s128",
            "userId": "113874243179507049880"
          }
        }
      },
      "cell_type": "code",
      "source": [
        "epoch_num = [0,4,6,10,14,16,20,24,26,30]\n",
        "\n",
        "plt.figure(figsize=(10,12))\n",
        "for i,epoch in enumerate(epoch_num):\n",
        "    for num in range(0,5):\n",
        "        img = Image.open('./mnist_DCGAN_images/generate_img_epoch{0}_{1}.jpg'.format(epoch,num), 'r')\n",
        "        # train data plot\n",
        "        plt.subplot(len(epoch_num), 5, num+i*5+1)\n",
        "        plt.title('epoch {0}'.format(epoch),fontsize=10)\n",
        "        plt.tick_params(labelbottom='off')\n",
        "        plt.tick_params(labelleft='off')\n",
        "        plt.grid(False)\n",
        "        plt.imshow(img)"
      ],
      "execution_count": 13,
      "outputs": [
        {
          "output_type": "display_data",
          "data": {
            "image/png": "[encoded data removed]",
            "text/plain": [
              "<matplotlib.figure.Figure at 0x7f171bfe2358>"
            ]
          },
          "metadata": {
            "tags": []
          }
        }
      ]
    },
    {
      "metadata": {
        "id": "1rChXJFsrjG_",
        "colab_type": "code",
        "colab": {
          "autoexec": {
            "startup": false,
            "wait_interval": 0
          },
          "base_uri": "https://localhost:8080/",
          "height": 320
        },
        "outputId": "58285517-86ce-4734-bba7-16fcc925f17b",
        "executionInfo": {
          "status": "ok",
          "timestamp": 1526459503925,
          "user_tz": -540,
          "elapsed": 1103,
          "user": {
            "displayName": "村山ひさみ",
            "photoUrl": "https://lh3.googleusercontent.com/a/default-user=s128",
            "userId": "113874243179507049880"
          }
        }
      },
      "cell_type": "code",
      "source": [
        "import pandas as pd\n",
        "df = pd.read_csv('./mnist_DCGAN_loss_log.csv', names=['Epoch', 'Dis_loss','Gen_loss'])\n",
        "plt.figure(figsize=(10, 5))\n",
        "plt.plot(df['Epoch'],df['Dis_loss'],'-X',label='Dis_loss')\n",
        "plt.plot(df['Epoch'],df['Gen_loss'],'-X',label='Gen_loss')\n",
        "plt.legend()\n",
        "plt.show()"
      ],
      "execution_count": 18,
      "outputs": [
        {
          "output_type": "display_data",
          "data": {
            "image/png": "[encoded data removed]",
            "text/plain": [
              "<matplotlib.figure.Figure at 0x7f171bafd780>"
            ]
          },
          "metadata": {
            "tags": []
          }
        }
      ]
    }
  ]
}