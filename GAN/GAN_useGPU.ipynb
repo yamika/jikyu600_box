{
 "cells": [
  {
   "cell_type": "code",
   "execution_count": 1,
   "metadata": {
    "colab": {
     "autoexec": {
      "startup": false,
      "wait_interval": 0
     },
     "base_uri": "https://localhost:8080/",
     "height": 34
    },
    "colab_type": "code",
    "executionInfo": {
     "elapsed": 2618,
     "status": "ok",
     "timestamp": 1524283048452,
     "user": {
      "displayName": "村山ひさみ",
      "photoUrl": "https://lh3.googleusercontent.com/a/default-user=s128",
      "userId": "113874243179507049880"
     },
     "user_tz": -540
    },
    "id": "RhkUxi8MxMls",
    "outputId": "0cd8e51f-42d6-4d39-af6b-31e3acd08334"
   },
   "outputs": [
    {
     "name": "stdout",
     "output_type": "stream",
     "text": [
      "Found GPU at: /device:GPU:0\n"
     ]
    }
   ],
   "source": [
    "import tensorflow as tf\n",
    "\n",
    "device_name = tf.test.gpu_device_name()\n",
    "if device_name != '/device:GPU:0':\n",
    "  raise SystemError('GPU device not found')\n",
    "print('Found GPU at: {}'.format(device_name))"
   ]
  },
  {
   "cell_type": "code",
   "execution_count": 0,
   "metadata": {
    "colab": {
     "autoexec": {
      "startup": false,
      "wait_interval": 0
     }
    },
    "colab_type": "code",
    "collapsed": true,
    "id": "Oap7vu3iyFJN"
   },
   "outputs": [],
   "source": [
    "import time\n",
    "from pathlib import Path\n",
    "from PIL import Image\n",
    "import matplotlib.pyplot as plt\n",
    "import numpy as np\n",
    "from tensorflow.contrib.learn.python.learn.datasets import mnist\n",
    "%matplotlib inline "
   ]
  },
  {
   "cell_type": "code",
   "execution_count": 4,
   "metadata": {
    "colab": {
     "autoexec": {
      "startup": false,
      "wait_interval": 0
     },
     "base_uri": "https://localhost:8080/",
     "height": 282
    },
    "colab_type": "code",
    "executionInfo": {
     "elapsed": 580,
     "status": "ok",
     "timestamp": 1524283057763,
     "user": {
      "displayName": "村山ひさみ",
      "photoUrl": "https://lh3.googleusercontent.com/a/default-user=s128",
      "userId": "113874243179507049880"
     },
     "user_tz": -540
    },
    "id": "BtJpDAqVzfKb",
    "outputId": "695d75fd-9baf-4eda-87e5-b88189911bf4"
   },
   "outputs": [
    {
     "data": {
      "text/plain": [
       "<matplotlib.image.AxesImage at 0x7f9f5ff6bf28>"
      ]
     },
     "execution_count": 4,
     "metadata": {
      "tags": []
     },
     "output_type": "execute_result"
    },
    {
     "data": {
      "image/png": "[encoded data removed]",
      "text/plain": [
       "<matplotlib.figure.Figure at 0x7f9fda2ca2b0>"
      ]
     },
     "metadata": {
      "tags": []
     },
     "output_type": "display_data"
    }
   ],
   "source": [
    "mnist = mnist.read_data_sets('MNIST_data', one_hot=True)\n",
    "img = np.array(mnist.train.images[753])\n",
    "plt.imshow(img.reshape(28,28))"
   ]
  },
  {
   "cell_type": "code",
   "execution_count": 0,
   "metadata": {
    "colab": {
     "autoexec": {
      "startup": false,
      "wait_interval": 0
     }
    },
    "colab_type": "code",
    "collapsed": true,
    "id": "Mz-gNbujz81O"
   },
   "outputs": [],
   "source": [
    "def batch_norm(X, scale, offset, axes, is_train,device_name='/cpu:0'):\n",
    "    # 予測のときにはそのまんまの値を返す\n",
    "    if is_train is False:\n",
    "        return X\n",
    "    \n",
    "    epsilon = 1e-5\n",
    "    with tf.device(device_name):\n",
    "        mean, variance = tf.nn.moments(X, axes)\n",
    "        bn = tf.nn.batch_normalization(X, mean, variance, offset, scale, epsilon)\n",
    "        \n",
    "    return bn\n",
    "\n",
    "class Generator():\n",
    "    def __init__(self,device_name='/cpu:0'):\n",
    "        \n",
    "        # Generator parameter         \n",
    "        with tf.device(device_name):\n",
    "            self.gen_w1 = tf.Variable(tf.truncated_normal(shape=[100,128],stddev=0.02,dtype=tf.float32),name=\"gen_w1\")\n",
    "            self.gen_b1 = tf.Variable(tf.truncated_normal(shape=[128],stddev=0.02,dtype=tf.float32),name=\"gen_b1\")\n",
    "\n",
    "            self.gen_w2 = tf.Variable(tf.truncated_normal([128,256],stddev=0.02,dtype=tf.float32),name=\"gen_w2\")\n",
    "            self.gen_b2 = tf.Variable(tf.truncated_normal(shape=[256],stddev=0.02,dtype=tf.float32),name=\"gen_b2\")\n",
    "\n",
    "            self.gen_w3 = tf.Variable(tf.truncated_normal([256,512],stddev=0.02,dtype=tf.float32),name=\"gen_w3\")\n",
    "            self.gen_b3 = tf.Variable(tf.truncated_normal(shape=[512],stddev=0.02,dtype=tf.float32),name=\"gen_b3\")\n",
    "\n",
    "            self.gen_w4 = tf.Variable(tf.truncated_normal([512,28*28],stddev=0.02,dtype=tf.float32),name=\"gen_w4\")\n",
    "            self.gen_b4 = tf.Variable(tf.truncated_normal(shape=[28*28],stddev=0.02,dtype=tf.float32),name=\"gen_b4\")\n",
    "\n",
    "            self.gen_scale_w1 = tf.Variable(tf.ones([128]),name=\"gen_scale_w1\")\n",
    "            self.gen_offset_w1 = tf.Variable(tf.zeros([128]),name=\"gen_offset_w1\")\n",
    "\n",
    "            self.gen_scale_w2 = tf.Variable(tf.ones([256]),name=\"gen_scale_w2\")\n",
    "            self.gen_offset_w2 = tf.Variable(tf.zeros([256]),name=\"gen_offset_w2\")\n",
    "\n",
    "            self.gen_scale_w3 = tf.Variable(tf.ones([512]),name=\"gen_scale_w3\")\n",
    "            self.gen_offset_w3 = tf.Variable(tf.zeros([512]),name=\"gen_offset_w3\")\n",
    "\n",
    "            self.keep_prob = tf.placeholder(tf.float32)     \n",
    "        \n",
    "    def run(self,z,is_train,device_name='/cpu:0'):\n",
    "        \n",
    "        with tf.device(device_name):\n",
    "            h1 = tf.nn.leaky_relu(tf.nn.xw_plus_b(z,self.gen_w1,self.gen_b1),alpha=0.2)\n",
    "            h1 = batch_norm(h1,self.gen_scale_w1,self.gen_offset_w1,[0],is_train,device_name)\n",
    "\n",
    "            h2 = tf.nn.leaky_relu(tf.nn.xw_plus_b(h1,self.gen_w2,self.gen_b2),alpha=0.2)\n",
    "            h2 = batch_norm(h2,self.gen_scale_w2,self.gen_offset_w2,[0],is_train,device_name)\n",
    "\n",
    "            h3 = tf.nn.leaky_relu(tf.nn.xw_plus_b(h2,self.gen_w3,self.gen_b3),alpha=0.2)\n",
    "            h3 = batch_norm(h3,self.gen_scale_w3,self.gen_offset_w3,[0],is_train,device_name)\n",
    "            h3_drop = tf.nn.dropout(h3, self.keep_prob)\n",
    "\n",
    "            fc = tf.nn.sigmoid(tf.nn.xw_plus_b(h3_drop,self.gen_w4,self.gen_b4))\n",
    "                \n",
    "        return fc\n",
    "\n",
    "class Discrimitor():\n",
    "    def __init__(self,device_name='/cpu:0'):\n",
    "        # Discrimitor parameter\n",
    "        with tf.device(device_name):        \n",
    "            self.dis_w1 = tf.Variable(tf.truncated_normal([28*28,512],stddev=0.02,dtype=tf.float32),name=\"dis_w1\")\n",
    "            self.dis_b1 = tf.Variable(tf.truncated_normal([512],stddev=0.02,dtype=tf.float32),name=\"dis_b1\")\n",
    "\n",
    "            self.dis_w2 = tf.Variable(tf.truncated_normal([512,256],stddev=0.02,dtype=tf.float32),name=\"dis_w2\")\n",
    "            self.dis_b2 = tf.Variable(tf.truncated_normal([256],stddev=0.02,dtype=tf.float32),name=\"dis_b2\")\n",
    "\n",
    "            self.dis_w3 = tf.Variable(tf.truncated_normal([256,128],stddev=0.02,dtype=tf.float32),name=\"dis_w3\")\n",
    "            self.dis_b3 = tf.Variable(tf.truncated_normal([128],stddev=0.02,dtype=tf.float32),name=\"dis_b3\")\n",
    "\n",
    "            self.dis_w4 = tf.Variable(tf.truncated_normal([128,1],stddev=0.02,dtype=tf.float32),name=\"dis_w4\")\n",
    "            self.dis_b4 = tf.Variable(tf.truncated_normal([1],stddev=0.02,dtype=tf.float32),name=\"dis_b4\")\n",
    "\n",
    "        \n",
    "    def run(self,x,device_name='/cpu:0'):\n",
    "        \n",
    "        with tf.device(device_name):\n",
    "            h1 = tf.nn.leaky_relu(tf.nn.xw_plus_b(x,self.dis_w1,self.dis_b1),alpha=0.2)\n",
    "            h2 = tf.nn.leaky_relu(tf.nn.xw_plus_b(h1,self.dis_w2,self.dis_b2),alpha=0.2)   \n",
    "            h3 = tf.nn.leaky_relu(tf.nn.xw_plus_b(h2,self.dis_w3,self.dis_b3),alpha=0.2)\n",
    "\n",
    "            fc = tf.nn.xw_plus_b(h3,self.dis_w4,self.dis_b4)\n",
    "                \n",
    "        return fc\n",
    "    \n",
    "class GAN():\n",
    "    def __init__(self,using_gpu):\n",
    "        self.device_name = '/cpu:0'\n",
    "        if(using_gpu):\n",
    "            self.device_name = '/gpu:0'\n",
    "        \n",
    "        print('using : {}'.format(self.device_name))\n",
    "        \n",
    "        with tf.device(self.device_name):\n",
    "            self.is_train = tf.placeholder(tf.bool)\n",
    "            self.input_X = tf.placeholder(tf.float32, shape=(None,28*28))\n",
    "\n",
    "            # t0は0のラベルを格納し、t1は1のラベルを格納する\n",
    "            self.label_t0 = tf.placeholder(tf.float32, shape=(None,1))\n",
    "            self.label_t1 = tf.placeholder(tf.float32, shape=(None,1))\n",
    "\n",
    "            # Generator\n",
    "            self.generator = Generator(device_name=self.device_name)\n",
    "            # 生成モデルに必要なノイズの入れ物\n",
    "            self.gen_z = tf.placeholder(tf.float32, shape=(None,100))\n",
    "\n",
    "            # Discrimitor \n",
    "            self.discrimitor = Discrimitor(device_name=self.device_name)\n",
    "\n",
    "            # weight decay\n",
    "            gen_norm_term = tf.nn.l2_loss(self.generator.gen_w2) + tf.nn.l2_loss(self.generator.gen_w3) + tf.nn.l2_loss(self.generator.gen_w4)\n",
    "            gen_lambda_ = 0.001\n",
    "\n",
    "            dis_norm_term = tf.nn.l2_loss(self.discrimitor.dis_w2) + tf.nn.l2_loss(self.discrimitor.dis_w3)\n",
    "            dis_lambda_ = 0.001\n",
    "\n",
    "            # 訓練データの識別予測\n",
    "            input_X = self.discrimitor.run(self.input_X,device_name=self.device_name)\n",
    "            # 生成されたデータの識別yosoku\n",
    "            generated_X = self.discrimitor.run(self.generator.run(z=self.gen_z,is_train=self.is_train,device_name=self.device_name))\n",
    "\n",
    "            self.dis_entropy_X = tf.nn.sigmoid_cross_entropy_with_logits(labels=self.label_t1, logits=input_X)  \n",
    "            self.dis_entropy_G = tf.nn.sigmoid_cross_entropy_with_logits(labels=self.label_t0, logits=generated_X)   \n",
    "            self.dis_loss = tf.reduce_mean(self.dis_entropy_X + self.dis_entropy_G) + dis_norm_term*dis_lambda_\n",
    "\n",
    "            self.gen_entropy = tf.nn.sigmoid_cross_entropy_with_logits(labels=self.label_t1,logits=generated_X)\n",
    "            self.gen_loss = tf.reduce_mean(self.gen_entropy) + gen_norm_term*gen_lambda_\n",
    "\n",
    "            # 最適化する際にDならDのみのパラメータを、GならGのみのパラメータを更新するようにしたいのでモデル別の変数を取得する\n",
    "            dis_vars = [x for x in tf.trainable_variables() if \"dis_\" in x.name]\n",
    "            gen_vars = [x for x in tf.trainable_variables() if \"gen_\" in x.name]\n",
    "\n",
    "            # 識別モデルDの最適化\n",
    "            self.opt_d = tf.train.MomentumOptimizer(0.1, momentum=0.5).minimize(self.dis_loss,var_list=[dis_vars])\n",
    "            # 生成モデルGの最適化\n",
    "            self.opt_g = tf.train.MomentumOptimizer(0.1, momentum=0.5).minimize(self.gen_loss,var_list=[gen_vars])\n",
    "        \n",
    "    def train(self\n",
    "                  , X_train = None \n",
    "                  , batch_size = 100\n",
    "                  , epoch_num = 1000\n",
    "                  , imgpath = './mnist_GAN_images/'\n",
    "                  , ckptpath = './mnist_GAN_checkpoints/'\n",
    "                  , init = False):\n",
    "        \n",
    "        if X_train is None:\n",
    "            raise TypeError(\"X_train is None\")\n",
    "\n",
    "        # 訓練途中で生成データを作成して保存したいのでその保存先の作成\n",
    "        p = Path(imgpath)\n",
    "        if not(p.is_dir()):\n",
    "            p.mkdir()\n",
    "        \n",
    "        # モデルパラメータのチェックポイントの保存先\n",
    "        ckpt_p = Path(ckptpath)\n",
    "        if not(ckpt_p.is_dir()):\n",
    "            ckpt_p.mkdir()\n",
    "            \n",
    "        config = tf.ConfigProto()\n",
    "        config.gpu_options.allow_growth = True\n",
    "        \n",
    "        saver = tf.train.Saver()\n",
    "        \n",
    "        sess = tf.Session()\n",
    "        \n",
    "        if(init):\n",
    "            sess.run(tf.global_variables_initializer())\n",
    "            print('Initialize')\n",
    "            \n",
    "        ckpt = tf.train.get_checkpoint_state(str(ckpt_p.absolute()))\n",
    "        if ckpt:\n",
    "            # checkpointファイルから最後に保存したモデルへのパスを取得する\n",
    "            last_model = ckpt.model_checkpoint_path\n",
    "            print(\"load {0}\".format(last_model))\n",
    "            # 学習済みモデルを読み込む\n",
    "            saver.restore(sess, last_model)        \n",
    "            \n",
    "        step = len(X_train) // batch_size\n",
    "        #step = mnist.train.num_examples // batch_size\n",
    "        \n",
    "        # 正解ラベルのミニバッチ\n",
    "        t1_batch = np.ones((batch_size,1),dtype=np.float32)\n",
    "        t0_batch = np.zeros((batch_size,1),dtype=np.float32)\n",
    "\n",
    "        for epoch in range(epoch_num):            \n",
    "            \n",
    "            perm = np.random.permutation(len(X_train))\n",
    "            # １エポックごとにかかる時間の計測\n",
    "            start = time.time()\n",
    "            for k in range(step):\n",
    "                #X_batch = mnist.train.next_batch(batch_size)[0] /255.\n",
    "                X_batch = X_train[perm][k*batch_size:(k+1)*batch_size]\n",
    "                \n",
    "                # Train Discrimitor\n",
    "                # ノイズ事前分布からノイズをミニバッチ分取得\n",
    "                noise_z = np.random.uniform(-1,1, size=[batch_size, 100]).astype(np.float32)\n",
    "\n",
    "                sess.run(self.opt_d, feed_dict = {self.input_X:X_batch\n",
    "                                                                          , self.is_train:False\n",
    "                                                                          , self.gen_z:noise_z\n",
    "                                                                          , self.generator.keep_prob:1.0\n",
    "                                                                          , self.label_t1:t1_batch\n",
    "                                                                          , self.label_t0:t0_batch})\n",
    "                \n",
    "                #if k % (step//10) == 0:\n",
    "                # Train Generator\n",
    "                # ノイズ事前分布からノイズをミニバッチ分取得\n",
    "                noise_z = np.random.uniform(-1,1, size=[batch_size, 100]).astype(np.float32)\n",
    "                sess.run(self.opt_g, feed_dict = {self.gen_z:noise_z\n",
    "                                                                          , self.is_train:True\n",
    "                                                                          , self.generator.keep_prob:0.5\n",
    "                                                                          , self.label_t1:t1_batch})\n",
    "            \n",
    "            # 1epoch終了時の損失を表示\n",
    "            noise_z = np.random.uniform(-1,1, size=[batch_size, 100]).astype(np.float32)\n",
    "            train_dis_loss = sess.run(self.dis_loss, feed_dict = {self.input_X:X_batch\n",
    "                                                                                                      , self.is_train:False\n",
    "                                                                                                      , self.gen_z:noise_z\n",
    "                                                                                                      , self.generator.keep_prob:1.0\n",
    "                                                                                                      , self.label_t1:t1_batch\n",
    "                                                                                                      , self.label_t0:t0_batch})\n",
    "\n",
    "            train_gen_loss = sess.run(self.gen_loss, feed_dict ={self.gen_z:noise_z\n",
    "                                                                                                      , self.is_train:False\n",
    "                                                                                                      , self.generator.keep_prob:1.0\n",
    "                                                                                                      , self.label_t1:t1_batch})\n",
    "\n",
    "            print(\"[Train] epoch: %d, dis loss: %f , gen loss : %f  Time : %f\" % (epoch, train_dis_loss, train_gen_loss, time.time() - start))\n",
    "            \n",
    "            saver.save(sess, str(ckpt_p.absolute())+'/GAN-mnist')\n",
    "            \n",
    "            # 10epoch終了毎に生成モデルから1枚の画像を生成する\n",
    "            if epoch % 10 == 0:\n",
    "                noise_z = np.random.uniform(-1,1, size=[1, 100]).astype(np.float32)\n",
    "\n",
    "                z_const = tf.constant(noise_z,dtype=tf.float32)\n",
    "                gen_imgs = sess.run(self.generator.run(z_const, is_train=False),feed_dict={self.generator.keep_prob:1.0}) * 255\n",
    "                Image.fromarray(gen_imgs[0].reshape(28,28)).convert('RGB').save(\n",
    "                        str(p.absolute())+'/generate_img_epoch{0}.jpg'.format(epoch)\n",
    "                )"
   ]
  },
  {
   "cell_type": "code",
   "execution_count": 0,
   "metadata": {
    "colab": {
     "autoexec": {
      "startup": false,
      "wait_interval": 0
     }
    },
    "colab_type": "code",
    "collapsed": true,
    "id": "lXAfqsz79Ogc"
   },
   "outputs": [],
   "source": [
    "X_train = np.r_[mnist.train.images,mnist.test.images] / 255."
   ]
  },
  {
   "cell_type": "code",
   "execution_count": 9,
   "metadata": {
    "colab": {
     "autoexec": {
      "startup": false,
      "wait_interval": 0
     },
     "base_uri": "https://localhost:8080/",
     "height": 221
    },
    "colab_type": "code",
    "executionInfo": {
     "elapsed": 553272,
     "status": "ok",
     "timestamp": 1524283663574,
     "user": {
      "displayName": "村山ひさみ",
      "photoUrl": "https://lh3.googleusercontent.com/a/default-user=s128",
      "userId": "113874243179507049880"
     },
     "user_tz": -540
    },
    "id": "W8p4pJn7Qaje",
    "outputId": "ab086f90-fbc7-41c5-d456-eca12953e72f"
   },
   "outputs": [
    {
     "name": "stdout",
     "output_type": "stream",
     "text": [
      "using : /gpu:0\n",
      "Initialize\n",
      "[Train] epoch: 0, dis loss: 1.416150 , gen loss : 0.868893  Time : 55.745630\n",
      "[Train] epoch: 1, dis loss: 1.400458 , gen loss : 0.846972  Time : 55.044122\n",
      "[Train] epoch: 2, dis loss: 1.396470 , gen loss : 0.825828  Time : 54.647170\n",
      "[Train] epoch: 3, dis loss: 1.396191 , gen loss : 0.808788  Time : 54.802599\n",
      "[Train] epoch: 4, dis loss: 1.394601 , gen loss : 0.795847  Time : 55.008549\n",
      "[Train] epoch: 5, dis loss: 1.393527 , gen loss : 0.785292  Time : 54.996431\n",
      "[Train] epoch: 6, dis loss: 1.388596 , gen loss : 0.778265  Time : 54.822872\n",
      "[Train] epoch: 7, dis loss: 1.385105 , gen loss : 0.776123  Time : 54.498708\n",
      "[Train] epoch: 8, dis loss: 1.390166 , gen loss : 0.760478  Time : 54.715502\n",
      "[Train] epoch: 9, dis loss: 1.387348 , gen loss : 0.754641  Time : 54.450168\n"
     ]
    }
   ],
   "source": [
    "model = GAN(using_gpu=True)\n",
    "model.train(X_train=X_train,batch_size=100, epoch_num=10, init=True)"
   ]
  },
  {
   "cell_type": "code",
   "execution_count": 12,
   "metadata": {
    "colab": {
     "autoexec": {
      "startup": false,
      "wait_interval": 0
     },
     "base_uri": "https://localhost:8080/",
     "height": 221
    },
    "colab_type": "code",
    "executionInfo": {
     "elapsed": 547880,
     "status": "ok",
     "timestamp": 1524284363178,
     "user": {
      "displayName": "村山ひさみ",
      "photoUrl": "https://lh3.googleusercontent.com/a/default-user=s128",
      "userId": "113874243179507049880"
     },
     "user_tz": -540
    },
    "id": "rbZ2OxLqZP90",
    "outputId": "04c6c1aa-9bc3-4bb9-908a-9e83bbc46c64"
   },
   "outputs": [
    {
     "name": "stdout",
     "output_type": "stream",
     "text": [
      "load /content/mnist_GAN_checkpoints/GAN-mnist\n",
      "INFO:tensorflow:Restoring parameters from /content/mnist_GAN_checkpoints/GAN-mnist\n",
      "[Train] epoch: 0, dis loss: 1.384992 , gen loss : 0.753092  Time : 55.415228\n",
      "[Train] epoch: 1, dis loss: 1.388160 , gen loss : 0.750115  Time : 54.569854\n",
      "[Train] epoch: 2, dis loss: 1.385454 , gen loss : 0.748116  Time : 54.579363\n",
      "[Train] epoch: 3, dis loss: 1.386948 , gen loss : 0.745432  Time : 54.586129\n",
      "[Train] epoch: 4, dis loss: 1.387257 , gen loss : 0.743630  Time : 54.522468\n",
      "[Train] epoch: 5, dis loss: 1.386093 , gen loss : 0.743958  Time : 54.592989\n",
      "[Train] epoch: 6, dis loss: 1.386804 , gen loss : 0.740215  Time : 54.668722\n",
      "[Train] epoch: 7, dis loss: 1.385283 , gen loss : 0.736444  Time : 54.638287\n",
      "[Train] epoch: 8, dis loss: 1.387362 , gen loss : 0.732796  Time : 54.082628\n",
      "[Train] epoch: 9, dis loss: 1.385418 , gen loss : 0.736565  Time : 53.582535\n"
     ]
    }
   ],
   "source": [
    "model.train(X_train=X_train,batch_size=100, epoch_num=10, init=False)"
   ]
  },
  {
   "cell_type": "code",
   "execution_count": 19,
   "metadata": {
    "colab": {
     "autoexec": {
      "startup": false,
      "wait_interval": 0
     },
     "base_uri": "https://localhost:8080/",
     "height": 102
    },
    "colab_type": "code",
    "executionInfo": {
     "elapsed": 2264,
     "status": "ok",
     "timestamp": 1524295636605,
     "user": {
      "displayName": "村山ひさみ",
      "photoUrl": "https://lh3.googleusercontent.com/a/default-user=s128",
      "userId": "113874243179507049880"
     },
     "user_tz": -540
    },
    "id": "Bo__cN65bsz3",
    "outputId": "95819edf-6a7c-4b41-be2f-8932b316945a"
   },
   "outputs": [
    {
     "name": "stdout",
     "output_type": "stream",
     "text": [
      "  adding: mnist_GAN_checkpoints/ (stored 0%)\r\n",
      "  adding: mnist_GAN_checkpoints/GAN-mnist.meta (deflated 88%)\r\n",
      "  adding: mnist_GAN_checkpoints/checkpoint (deflated 53%)\r\n",
      "  adding: mnist_GAN_checkpoints/GAN-mnist.index (deflated 51%)\n",
      "  adding: mnist_GAN_checkpoints/GAN-mnist.data-00000-of-00001 (deflated 7%)\n"
     ]
    }
   ],
   "source": [
    "!zip -r mnist_GAN_checkpoints.zip mnist_GAN_checkpoints"
   ]
  },
  {
   "cell_type": "code",
   "execution_count": 21,
   "metadata": {
    "colab": {
     "autoexec": {
      "startup": false,
      "wait_interval": 0
     },
     "base_uri": "https://localhost:8080/",
     "height": 391
    },
    "colab_type": "code",
    "executionInfo": {
     "elapsed": 1948,
     "status": "ok",
     "timestamp": 1524295665584,
     "user": {
      "displayName": "村山ひさみ",
      "photoUrl": "https://lh3.googleusercontent.com/a/default-user=s128",
      "userId": "113874243179507049880"
     },
     "user_tz": -540
    },
    "id": "SCPuCBqcGbsY",
    "outputId": "9fb5b5fa-6555-4d48-8191-b5e2fdcdf4bc"
   },
   "outputs": [
    {
     "name": "stdout",
     "output_type": "stream",
     "text": [
      "  adding: mnist_GAN_images/ (stored 0%)\r\n",
      "  adding: mnist_GAN_images/generate_img_epoch40.jpg (deflated 27%)\r\n",
      "  adding: mnist_GAN_images/generate_img_epoch30.jpg (deflated 26%)\r\n",
      "  adding: mnist_GAN_images/generate_img_epoch160.jpg (deflated 21%)\r\n",
      "  adding: mnist_GAN_images/generate_img_epoch150.jpg (deflated 25%)\r\n",
      "  adding: mnist_GAN_images/generate_img_epoch20.jpg (deflated 27%)\r\n",
      "  adding: mnist_GAN_images/generate_img_epoch90.jpg (deflated 24%)\r\n",
      "  adding: mnist_GAN_images/generate_img_epoch130.jpg (deflated 25%)\r\n",
      "  adding: mnist_GAN_images/generate_img_epoch10.jpg (deflated 27%)\r\n",
      "  adding: mnist_GAN_images/generate_img_epoch80.jpg (deflated 25%)\r\n",
      "  adding: mnist_GAN_images/generate_img_epoch140.jpg (deflated 23%)\r\n",
      "  adding: mnist_GAN_images/generate_img_epoch170.jpg (deflated 25%)\r\n",
      "  adding: mnist_GAN_images/generate_img_epoch100.jpg (deflated 22%)\r\n",
      "  adding: mnist_GAN_images/generate_img_epoch60.jpg (deflated 26%)\r\n",
      "  adding: mnist_GAN_images/generate_img_epoch50.jpg (deflated 26%)\r\n",
      "  adding: mnist_GAN_images/generate_img_epoch0.jpg (deflated 27%)\r\n",
      "  adding: mnist_GAN_images/generate_img_epoch200.jpg (deflated 25%)\r\n",
      "  adding: mnist_GAN_images/generate_img_epoch180.jpg (deflated 25%)\r\n",
      "  adding: mnist_GAN_images/generate_img_epoch70.jpg (deflated 16%)\r\n",
      "  adding: mnist_GAN_images/generate_img_epoch110.jpg (deflated 26%)\r\n",
      "  adding: mnist_GAN_images/generate_img_epoch120.jpg (deflated 25%)\r\n",
      "  adding: mnist_GAN_images/generate_img_epoch190.jpg (deflated 25%)\r\n"
     ]
    }
   ],
   "source": [
    "!zip -r mnist_GAN_images.zip mnist_GAN_images"
   ]
  },
  {
   "cell_type": "code",
   "execution_count": 0,
   "metadata": {
    "colab": {
     "autoexec": {
      "startup": false,
      "wait_interval": 0
     }
    },
    "colab_type": "code",
    "collapsed": true,
    "id": "uXQnfbnjb0PP"
   },
   "outputs": [],
   "source": [
    "from google.colab import files\n",
    "files.download('mnist_GAN_images.zip')"
   ]
  }
 ],
 "metadata": {
  "accelerator": "GPU",
  "colab": {
   "collapsed_sections": [],
   "default_view": {},
   "name": "GAN.ipynb",
   "provenance": [],
   "version": "0.3.2",
   "views": {}
  },
  "kernelspec": {
   "display_name": "Python 3",
   "language": "python",
   "name": "python3"
  },
  "language_info": {
   "codemirror_mode": {
    "name": "ipython",
    "version": 3
   },
   "file_extension": ".py",
   "mimetype": "text/x-python",
   "name": "python",
   "nbconvert_exporter": "python",
   "pygments_lexer": "ipython3",
   "version": "3.6.2"
  }
 },
 "nbformat": 4,
 "nbformat_minor": 1
}
