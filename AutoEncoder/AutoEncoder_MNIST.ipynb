{
 "cells": [
  {
   "cell_type": "code",
   "execution_count": 1,
   "metadata": {
    "collapsed": true
   },
   "outputs": [],
   "source": [
    "import tensorflow as tf\n",
    "import matplotlib.pyplot as plt\n",
    "import numpy as np\n",
    "import time\n",
    "from tensorflow.examples.tutorials.mnist import input_data\n",
    "%matplotlib inline "
   ]
  },
  {
   "cell_type": "code",
   "execution_count": 2,
   "metadata": {},
   "outputs": [
    {
     "name": "stdout",
     "output_type": "stream",
     "text": [
      "Extracting MNIST_data/train-images-idx3-ubyte.gz\n",
      "Extracting MNIST_data/train-labels-idx1-ubyte.gz\n",
      "Extracting MNIST_data/t10k-images-idx3-ubyte.gz\n",
      "Extracting MNIST_data/t10k-labels-idx1-ubyte.gz\n"
     ]
    }
   ],
   "source": [
    "mnist = input_data.read_data_sets('MNIST_data', one_hot=True)"
   ]
  },
  {
   "cell_type": "code",
   "execution_count": 3,
   "metadata": {},
   "outputs": [],
   "source": [
    "X = tf.placeholder(tf.float32, shape=[None, 784],name=\"input\")"
   ]
  },
  {
   "cell_type": "code",
   "execution_count": 4,
   "metadata": {
    "collapsed": true
   },
   "outputs": [],
   "source": [
    "stddev = np.sqrt(1.0 / 392)\n",
    "h_W = tf.Variable(tf.truncated_normal([784,392], stddev=stddev)) \n",
    "h_b = tf.Variable(tf.constant(0.1, shape=[392]))\n",
    "h_y = tf.nn.relu(tf.matmul(X, h_W) + h_b)"
   ]
  },
  {
   "cell_type": "code",
   "execution_count": 5,
   "metadata": {
    "collapsed": true
   },
   "outputs": [],
   "source": [
    "stddev = np.sqrt(1.0 / 784)\n",
    "W = tf.Variable(tf.truncated_normal([392,784], stddev=stddev)) \n",
    "b = tf.Variable(tf.constant(0.1, shape=[784]))\n",
    "y = tf.nn.xw_plus_b(h_y,W,b,name=\"output\")"
   ]
  },
  {
   "cell_type": "code",
   "execution_count": 6,
   "metadata": {
    "collapsed": true
   },
   "outputs": [],
   "source": [
    "### 損失\n",
    "loss = tf.reduce_mean(tf.pow(y - X, 2))\n",
    "\n",
    "### 学習op\n",
    "optimizer = tf.train.AdamOptimizer(1e-4)\n",
    "train_step = optimizer.minimize(loss)"
   ]
  },
  {
   "cell_type": "code",
   "execution_count": 8,
   "metadata": {},
   "outputs": [
    {
     "name": "stdout",
     "output_type": "stream",
     "text": [
      "[Train] step: 0, loss: 0.143337\n",
      "Time : 0.022471\n",
      "[Train] step: 10, loss: 0.115246\n",
      "Time : 0.074842\n",
      "[Train] step: 20, loss: 0.088188\n",
      "Time : 0.122192\n",
      "[Train] step: 30, loss: 0.084714\n",
      "Time : 0.170204\n",
      "[Train] step: 40, loss: 0.073143\n",
      "Time : 0.276749\n"
     ]
    }
   ],
   "source": [
    "sess = tf.Session()\n",
    "sess.run(tf.global_variables_initializer())\n",
    "\n",
    "batch_size = 20\n",
    "start = time.time()\n",
    "for i in range(50):\n",
    "    batch = mnist.train.next_batch(batch_size)\n",
    "    sess.run(train_step,feed_dict={X: batch[0]})\n",
    "    if i % 10 == 0:\n",
    "        train_loss = sess.run(loss, feed_dict={X: batch[0]})\n",
    "        print(\"[Train] step: %d, loss: %f\" % (i, train_loss))\n",
    "        print(\"Time : %f\" % (time.time() - start))"
   ]
  },
  {
   "cell_type": "code",
   "execution_count": 17,
   "metadata": {},
   "outputs": [
    {
     "data": {
      "text/plain": [
       "<matplotlib.image.AxesImage at 0x7f1ef89131d0>"
      ]
     },
     "execution_count": 17,
     "metadata": {},
     "output_type": "execute_result"
    },
    {
     "data": {
      "image/png": "[encoded data removed]",
      "text/plain": [
       "<matplotlib.figure.Figure at 0x7f1ef899f048>"
      ]
     },
     "metadata": {},
     "output_type": "display_data"
    }
   ],
   "source": [
    "orig_img = mnist.test.images[101]\n",
    "plt.imshow(np.array(orig_img).reshape(28,28))"
   ]
  },
  {
   "cell_type": "code",
   "execution_count": 19,
   "metadata": {},
   "outputs": [
    {
     "data": {
      "text/plain": [
       "<matplotlib.image.AxesImage at 0x7f1ef8882c50>"
      ]
     },
     "execution_count": 19,
     "metadata": {},
     "output_type": "execute_result"
    },
    {
     "data": {
      "image/png": "[encoded data removed]",
      "text/plain": [
       "<matplotlib.figure.Figure at 0x7f1ef884db00>"
      ]
     },
     "metadata": {},
     "output_type": "display_data"
    }
   ],
   "source": [
    "decode_img = sess.run(y,feed_dict={X:[orig_img]})\n",
    "plt.imshow(np.array(decode_img).reshape(28,28))"
   ]
  },
  {
   "cell_type": "code",
   "execution_count": 21,
   "metadata": {},
   "outputs": [
    {
     "name": "stdout",
     "output_type": "stream",
     "text": [
      "[Train] step: 0, loss: 0.059334\n",
      "Time : 0.010037\n",
      "[Train] step: 20, loss: 0.062277\n",
      "Time : 0.143480\n",
      "[Train] step: 40, loss: 0.062551\n",
      "Time : 0.219238\n",
      "[Train] step: 60, loss: 0.052020\n",
      "Time : 0.366013\n",
      "[Train] step: 80, loss: 0.049555\n",
      "Time : 0.458608\n"
     ]
    }
   ],
   "source": [
    "# 学習をもう少し続けてみる\n",
    "batch_size = 20\n",
    "start = time.time()\n",
    "for i in range(100):\n",
    "    batch = mnist.train.next_batch(batch_size)\n",
    "    sess.run(train_step,feed_dict={X: batch[0]})\n",
    "    if i % 20 == 0:\n",
    "        train_loss = sess.run(loss, feed_dict={X: batch[0]})\n",
    "        print(\"[Train] step: %d, loss: %f\" % (i, train_loss))\n",
    "        print(\"Time : %f\" % (time.time() - start))"
   ]
  },
  {
   "cell_type": "code",
   "execution_count": 22,
   "metadata": {},
   "outputs": [
    {
     "data": {
      "text/plain": [
       "<matplotlib.image.AxesImage at 0x7f1ef6030cc0>"
      ]
     },
     "execution_count": 22,
     "metadata": {},
     "output_type": "execute_result"
    },
    {
     "data": {
      "image/png": "[encoded data removed]",
      "text/plain": [
       "<matplotlib.figure.Figure at 0x7f1efa36bac8>"
      ]
     },
     "metadata": {},
     "output_type": "display_data"
    }
   ],
   "source": [
    "decode_img = sess.run(y,feed_dict={X:[orig_img]})\n",
    "plt.imshow(np.array(decode_img).reshape(28,28))"
   ]
  },
  {
   "cell_type": "code",
   "execution_count": 24,
   "metadata": {},
   "outputs": [
    {
     "name": "stdout",
     "output_type": "stream",
     "text": [
      "[Train] step: 0, loss: 0.025414\n",
      "Time : 0.010797\n",
      "[Train] step: 30, loss: 0.026780\n",
      "Time : 0.195797\n",
      "[Train] step: 60, loss: 0.024243\n",
      "Time : 0.389733\n",
      "[Train] step: 90, loss: 0.023638\n",
      "Time : 0.532278\n",
      "[Train] step: 120, loss: 0.021230\n",
      "Time : 0.757410\n",
      "[Train] step: 150, loss: 0.020311\n",
      "Time : 0.914464\n",
      "[Train] step: 180, loss: 0.019867\n",
      "Time : 1.072816\n",
      "[Train] step: 210, loss: 0.019485\n",
      "Time : 1.210943\n",
      "[Train] step: 240, loss: 0.018663\n",
      "Time : 1.363178\n",
      "[Train] step: 270, loss: 0.019170\n",
      "Time : 1.500984\n"
     ]
    }
   ],
   "source": [
    "# もう一度学習を続ける\n",
    "batch_size = 30\n",
    "start = time.time()\n",
    "for i in range(300):\n",
    "    batch = mnist.train.next_batch(batch_size)\n",
    "    sess.run(train_step,feed_dict={X: batch[0]})\n",
    "    if i % 30 == 0:\n",
    "        train_loss = sess.run(loss, feed_dict={X: batch[0]})\n",
    "        print(\"[Train] step: %d, loss: %f\" % (i, train_loss))\n",
    "        print(\"Time : %f\" % (time.time() - start))"
   ]
  },
  {
   "cell_type": "code",
   "execution_count": 25,
   "metadata": {},
   "outputs": [
    {
     "data": {
      "text/plain": [
       "<matplotlib.image.AxesImage at 0x7f1ef5dacd30>"
      ]
     },
     "execution_count": 25,
     "metadata": {},
     "output_type": "execute_result"
    },
    {
     "data": {
      "image/png": "[encoded data removed]",
      "text/plain": [
       "<matplotlib.figure.Figure at 0x7f1ef6051b70>"
      ]
     },
     "metadata": {},
     "output_type": "display_data"
    }
   ],
   "source": [
    "decode_img = sess.run(y,feed_dict={X:[orig_img]})\n",
    "plt.imshow(np.array(decode_img).reshape(28,28))"
   ]
  },
  {
   "cell_type": "code",
   "execution_count": 26,
   "metadata": {},
   "outputs": [
    {
     "name": "stdout",
     "output_type": "stream",
     "text": [
      "[Train] step: 0, loss: 0.017968\n",
      "Time : 0.010133\n",
      "[Train] step: 100, loss: 0.015501\n",
      "Time : 0.587333\n",
      "[Train] step: 200, loss: 0.015282\n",
      "Time : 1.057180\n",
      "[Train] step: 300, loss: 0.012776\n",
      "Time : 1.675321\n",
      "[Train] step: 400, loss: 0.012844\n",
      "Time : 2.174287\n",
      "[Train] step: 500, loss: 0.011244\n",
      "Time : 2.743816\n",
      "[Train] step: 600, loss: 0.011378\n",
      "Time : 3.417403\n",
      "[Train] step: 700, loss: 0.009515\n",
      "Time : 3.954003\n",
      "[Train] step: 800, loss: 0.009043\n",
      "Time : 4.448592\n",
      "[Train] step: 900, loss: 0.008362\n",
      "Time : 5.019379\n"
     ]
    }
   ],
   "source": [
    "# がっつり学習させる\n",
    "batch_size = 30\n",
    "start = time.time()\n",
    "for i in range(1000):\n",
    "    batch = mnist.train.next_batch(batch_size)\n",
    "    sess.run(train_step,feed_dict={X: batch[0]})\n",
    "    if i % 100 == 0:\n",
    "        train_loss = sess.run(loss, feed_dict={X: batch[0]})\n",
    "        print(\"[Train] step: %d, loss: %f\" % (i, train_loss))\n",
    "        print(\"Time : %f\" % (time.time() - start))"
   ]
  },
  {
   "cell_type": "code",
   "execution_count": 27,
   "metadata": {},
   "outputs": [
    {
     "data": {
      "text/plain": [
       "<matplotlib.image.AxesImage at 0x7f1ef5d3fd30>"
      ]
     },
     "execution_count": 27,
     "metadata": {},
     "output_type": "execute_result"
    },
    {
     "data": {
      "image/png": "[encoded data removed]",
      "text/plain": [
       "<matplotlib.figure.Figure at 0x7f1ef6043630>"
      ]
     },
     "metadata": {},
     "output_type": "display_data"
    }
   ],
   "source": [
    "decode_img = sess.run(y,feed_dict={X:[orig_img]})\n",
    "plt.imshow(np.array(decode_img).reshape(28,28))"
   ]
  }
 ],
 "metadata": {
  "kernelspec": {
   "display_name": "Python 3",
   "language": "python",
   "name": "python3"
  },
  "language_info": {
   "codemirror_mode": {
    "name": "ipython",
    "version": 3
   },
   "file_extension": ".py",
   "mimetype": "text/x-python",
   "name": "python",
   "nbconvert_exporter": "python",
   "pygments_lexer": "ipython3",
   "version": "3.6.2"
  }
 },
 "nbformat": 4,
 "nbformat_minor": 2
}
