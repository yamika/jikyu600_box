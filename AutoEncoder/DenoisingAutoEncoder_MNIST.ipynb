{
 "cells": [
  {
   "cell_type": "code",
   "execution_count": 1,
   "metadata": {
    "collapsed": true
   },
   "outputs": [],
   "source": [
    "import tensorflow as tf\n",
    "import matplotlib.pyplot as plt\n",
    "import numpy as np\n",
    "import time\n",
    "from tensorflow.examples.tutorials.mnist import input_data\n",
    "%matplotlib inline "
   ]
  },
  {
   "cell_type": "code",
   "execution_count": 2,
   "metadata": {},
   "outputs": [
    {
     "name": "stdout",
     "output_type": "stream",
     "text": [
      "Extracting MNIST_data/train-images-idx3-ubyte.gz\n",
      "Extracting MNIST_data/train-labels-idx1-ubyte.gz\n",
      "Extracting MNIST_data/t10k-images-idx3-ubyte.gz\n",
      "Extracting MNIST_data/t10k-labels-idx1-ubyte.gz\n"
     ]
    }
   ],
   "source": [
    "mnist = input_data.read_data_sets('MNIST_data', one_hot=True)"
   ]
  },
  {
   "cell_type": "code",
   "execution_count": 3,
   "metadata": {
    "collapsed": true
   },
   "outputs": [],
   "source": [
    "X = tf.placeholder(tf.float32, shape=[None, 784],name=\"input\")\n",
    "# ランダムノイズ用\n",
    "delta = tf.placeholder(tf.float32,shape=[None, 784], name=\"delta_noise\")"
   ]
  },
  {
   "cell_type": "code",
   "execution_count": 4,
   "metadata": {
    "collapsed": true
   },
   "outputs": [],
   "source": [
    "stddev = np.sqrt(1.0 / 392)\n",
    "h_W = tf.Variable(tf.truncated_normal([784,392], stddev=stddev)) \n",
    "h_b = tf.Variable(tf.constant(0.1, shape=[392]))\n",
    "# ノイズを乗せたものを入力として渡す\n",
    "h_y = tf.nn.relu(tf.matmul(X+delta, h_W) + h_b)"
   ]
  },
  {
   "cell_type": "code",
   "execution_count": 5,
   "metadata": {
    "collapsed": true
   },
   "outputs": [],
   "source": [
    "stddev = np.sqrt(1.0 / 784)\n",
    "W = tf.Variable(tf.truncated_normal([392,784], stddev=stddev)) \n",
    "b = tf.Variable(tf.constant(0.1, shape=[784]))\n",
    "y = tf.nn.xw_plus_b(h_y,W,b,name=\"output\")"
   ]
  },
  {
   "cell_type": "code",
   "execution_count": 6,
   "metadata": {
    "collapsed": true
   },
   "outputs": [],
   "source": [
    "### 損失\n",
    "### ノイズを乗せる前の入力を教師データとする\n",
    "loss = tf.reduce_mean(tf.pow(y - X, 2))\n",
    "\n",
    "### 学習op\n",
    "optimizer = tf.train.AdamOptimizer(1e-4)\n",
    "train_step = optimizer.minimize(loss)"
   ]
  },
  {
   "cell_type": "code",
   "execution_count": 7,
   "metadata": {},
   "outputs": [
    {
     "name": "stdout",
     "output_type": "stream",
     "text": [
      "[Train] step: 0, loss: 0.161017\n",
      "Time : 0.159875\n",
      "[Train] step: 500, loss: 0.043470\n",
      "Time : 2.804301\n",
      "[Train] step: 1000, loss: 0.029375\n",
      "Time : 5.650427\n",
      "[Train] step: 1500, loss: 0.020120\n",
      "Time : 8.177775\n",
      "[Train] step: 2000, loss: 0.013659\n",
      "Time : 10.770315\n",
      "[Train] step: 2500, loss: 0.010942\n",
      "Time : 13.193701\n"
     ]
    }
   ],
   "source": [
    "sess = tf.Session()\n",
    "sess.run(tf.global_variables_initializer())\n",
    "\n",
    "batch_size = 20\n",
    "start = time.time()\n",
    "for i in range(3000):\n",
    "    I = np.identity(28).reshape(28*28)\n",
    "    noise = np.random.normal(0,2*I,(batch_size,784))\n",
    "    \n",
    "    batch = mnist.train.next_batch(batch_size)\n",
    "    sess.run(train_step,feed_dict={X: batch[0],delta:noise})\n",
    "    if i % 500 == 0:\n",
    "        train_loss = sess.run(loss, feed_dict={X: batch[0],delta:noise})\n",
    "        print(\"[Train] step: %d, loss: %f\" % (i, train_loss))\n",
    "        print(\"Time : %f\" % (time.time() - start))"
   ]
  },
  {
   "cell_type": "code",
   "execution_count": 8,
   "metadata": {},
   "outputs": [
    {
     "data": {
      "text/plain": [
       "<matplotlib.image.AxesImage at 0x7f19d0678828>"
      ]
     },
     "execution_count": 8,
     "metadata": {},
     "output_type": "execute_result"
    },
    {
     "data": {
      "image/png": "[encoded data removed]",
      "text/plain": [
       "<matplotlib.figure.Figure at 0x7f19d2f71320>"
      ]
     },
     "metadata": {},
     "output_type": "display_data"
    }
   ],
   "source": [
    "orig_img = list(mnist.test.images[753])\n",
    "orig_img = np.array(orig_img)\n",
    "plt.imshow(orig_img.reshape(28,28))"
   ]
  },
  {
   "cell_type": "code",
   "execution_count": 9,
   "metadata": {},
   "outputs": [
    {
     "data": {
      "text/plain": [
       "<matplotlib.image.AxesImage at 0x7f19d05d9160>"
      ]
     },
     "execution_count": 9,
     "metadata": {},
     "output_type": "execute_result"
    },
    {
     "data": {
      "image/png": "[encoded data removed]",
      "text/plain": [
       "<matplotlib.figure.Figure at 0x7f19d066e160>"
      ]
     },
     "metadata": {},
     "output_type": "display_data"
    }
   ],
   "source": [
    "# ノイズありの画像を見る\n",
    "I = np.identity(28).reshape(28*28)\n",
    "noise = np.random.normal(0,2*I,(100,784))\n",
    "noise_img = orig_img.copy()\n",
    "noise_img += noise[8]\n",
    "plt.imshow(np.array(noise_img).reshape(28,28))"
   ]
  },
  {
   "cell_type": "code",
   "execution_count": 11,
   "metadata": {},
   "outputs": [
    {
     "data": {
      "text/plain": [
       "<matplotlib.image.AxesImage at 0x7f19d048b6a0>"
      ]
     },
     "execution_count": 11,
     "metadata": {},
     "output_type": "execute_result"
    },
    {
     "data": {
      "image/png": "[encoded data removed]",
      "text/plain": [
       "<matplotlib.figure.Figure at 0x7f19d0502f98>"
      ]
     },
     "metadata": {},
     "output_type": "display_data"
    }
   ],
   "source": [
    "decode_img = sess.run(y,feed_dict={X:[orig_img.reshape(28*28)],delta:[noise[8]]})\n",
    "# 復元結果\n",
    "plt.imshow(np.array(decode_img).reshape(28,28))"
   ]
  },
  {
   "cell_type": "code",
   "execution_count": 12,
   "metadata": {},
   "outputs": [],
   "source": [
    "# ソルトペッパーノイズでの復元はどうなるか確認する\n",
    "r = np.random.random(28*28)     \n",
    "# 破壊的操作を行わないように値だけコピー\n",
    "salt_pepper_img = list(mnist.test.images[315])\n",
    "salt_pepper_img = np.array(salt_pepper_img)"
   ]
  },
  {
   "cell_type": "code",
   "execution_count": 13,
   "metadata": {
    "collapsed": true
   },
   "outputs": [],
   "source": [
    "for i in range(0,28):\n",
    "    for j in range(0,28):\n",
    "        if r[i+j*28] < 0.3:\n",
    "            salt_pepper_img[i+j*28] = 0.4"
   ]
  },
  {
   "cell_type": "code",
   "execution_count": 14,
   "metadata": {},
   "outputs": [
    {
     "data": {
      "text/plain": [
       "<matplotlib.image.AxesImage at 0x7f19d041a048>"
      ]
     },
     "execution_count": 14,
     "metadata": {},
     "output_type": "execute_result"
    },
    {
     "data": {
      "image/png": "[encoded data removed]",
      "text/plain": [
       "<matplotlib.figure.Figure at 0x7f19d04ca748>"
      ]
     },
     "metadata": {},
     "output_type": "display_data"
    }
   ],
   "source": [
    "# ノイズありの入力画像\n",
    "plt.imshow(salt_pepper_img.reshape(28,28))"
   ]
  },
  {
   "cell_type": "code",
   "execution_count": 15,
   "metadata": {
    "collapsed": true
   },
   "outputs": [],
   "source": [
    "zero = np.zeros(28*28)\n",
    "zero = zero.astype(np.float32)"
   ]
  },
  {
   "cell_type": "code",
   "execution_count": 16,
   "metadata": {},
   "outputs": [
    {
     "data": {
      "text/plain": [
       "<matplotlib.image.AxesImage at 0x7f19cee89630>"
      ]
     },
     "execution_count": 16,
     "metadata": {},
     "output_type": "execute_result"
    },
    {
     "data": {
      "image/png": "[encoded data removed]",
      "text/plain": [
       "<matplotlib.figure.Figure at 0x7f19d048be48>"
      ]
     },
     "metadata": {},
     "output_type": "display_data"
    }
   ],
   "source": [
    "# 入力自体にノイズが加わっているため、deltaは0の行列に設定する\n",
    "decode_img2 = sess.run(y,feed_dict={X:[salt_pepper_img],delta:[zero]})\n",
    "# 復元結果\n",
    "plt.imshow(np.array(decode_img2).reshape(28,28))"
   ]
  }
 ],
 "metadata": {
  "kernelspec": {
   "display_name": "Python 3",
   "language": "python",
   "name": "python3"
  },
  "language_info": {
   "codemirror_mode": {
    "name": "ipython",
    "version": 3
   },
   "file_extension": ".py",
   "mimetype": "text/x-python",
   "name": "python",
   "nbconvert_exporter": "python",
   "pygments_lexer": "ipython3",
   "version": "3.6.2"
  }
 },
 "nbformat": 4,
 "nbformat_minor": 2
}
