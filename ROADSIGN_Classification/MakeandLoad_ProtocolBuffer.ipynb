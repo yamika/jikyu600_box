{
 "cells": [
  {
   "cell_type": "code",
   "execution_count": 1,
   "metadata": {
    "collapsed": true
   },
   "outputs": [],
   "source": [
    "import tensorflow as tf\n",
    "from tensorflow.python.framework import graph_util"
   ]
  },
  {
   "cell_type": "code",
   "execution_count": 2,
   "metadata": {
    "collapsed": true
   },
   "outputs": [],
   "source": [
    "# ProtocolBufferファイルの作成\n",
    "def freeze_graph(model_folder):\n",
    "    checkpoint = tf.train.get_checkpoint_state(model_folder)\n",
    "    input_checkpoint = checkpoint.model_checkpoint_path\n",
    "    \n",
    "    output_graph = model_folder + \"/frozen_model.pb\"\n",
    "\n",
    "    output_node_names = \"input,output,output2\"\n",
    "\n",
    "    clear_devices = True\n",
    "    \n",
    "    # clear_devices=Trueで学習時のデバイスに依存しないようにする\n",
    "    saver = tf.train.import_meta_graph(input_checkpoint + '.meta', clear_devices=clear_devices)\n",
    "\n",
    "    graph = tf.get_default_graph()\n",
    "    input_graph_def = graph.as_graph_def()\n",
    "\n",
    "    with tf.Session() as sess:\n",
    "        saver.restore(sess, input_checkpoint)\n",
    "\n",
    "        output_graph_def = graph_util.convert_variables_to_constants(\n",
    "            sess, \n",
    "            input_graph_def, \n",
    "            output_node_names.split(\",\") \n",
    "        ) \n",
    "        with tf.gfile.GFile(output_graph, \"wb\") as f:\n",
    "            f.write(output_graph_def.SerializeToString())\n",
    "        print(\"%d ops in the final graph.\" % len(output_graph_def.node))"
   ]
  },
  {
   "cell_type": "code",
   "execution_count": null,
   "metadata": {
    "collapsed": false
   },
   "outputs": [],
   "source": [
    "freeze_graph('./RoadSign-Alexnet-ckpt')"
   ]
  },
  {
   "cell_type": "code",
   "execution_count": 4,
   "metadata": {
    "collapsed": true
   },
   "outputs": [],
   "source": [
    "def load_graph(frozen_graph_filename):\n",
    "    # We load the protobuf file from the disk and parse it to retrieve the \n",
    "    # unserialized graph_def\n",
    "    with tf.gfile.GFile(frozen_graph_filename, \"rb\") as f:\n",
    "        graph_def = tf.GraphDef()\n",
    "        graph_def.ParseFromString(f.read())\n",
    "\n",
    "    # Then, we can use again a convenient built-in function to import a graph_def into the \n",
    "    # current default Graph\n",
    "    with tf.Graph().as_default() as graph:\n",
    "        tf.import_graph_def(\n",
    "            graph_def, \n",
    "            input_map=None, \n",
    "            return_elements=None, \n",
    "            name=\"prefix\", \n",
    "            op_dict=None, \n",
    "            producer_op_list=None\n",
    "        )\n",
    "    return graph"
   ]
  },
  {
   "cell_type": "code",
   "execution_count": 5,
   "metadata": {
    "collapsed": false
   },
   "outputs": [
    {
     "name": "stdout",
     "output_type": "stream",
     "text": [
      "prefix/input [<tf.Tensor 'prefix/input:0' shape=(?, 150528) dtype=float32>]\n",
      "prefix/keep_prob [<tf.Tensor 'prefix/keep_prob:0' shape=<unknown> dtype=float32>]\n",
      "prefix/Reshape/shape [<tf.Tensor 'prefix/Reshape/shape:0' shape=(4,) dtype=int32>]\n",
      "prefix/Reshape [<tf.Tensor 'prefix/Reshape:0' shape=(?, 224, 224, 3) dtype=float32>]\n",
      "prefix/conv2d/kernel [<tf.Tensor 'prefix/conv2d/kernel:0' shape=(11, 11, 3, 96) dtype=float32>]\n",
      "prefix/conv2d/kernel/read [<tf.Tensor 'prefix/conv2d/kernel/read:0' shape=(11, 11, 3, 96) dtype=float32>]\n",
      "prefix/conv2d/bias [<tf.Tensor 'prefix/conv2d/bias:0' shape=(96,) dtype=float32>]\n",
      "prefix/conv2d/bias/read [<tf.Tensor 'prefix/conv2d/bias/read:0' shape=(96,) dtype=float32>]\n",
      "prefix/conv2d/convolution [<tf.Tensor 'prefix/conv2d/convolution:0' shape=(?, 56, 56, 96) dtype=float32>]\n",
      "prefix/conv2d/BiasAdd [<tf.Tensor 'prefix/conv2d/BiasAdd:0' shape=(?, 56, 56, 96) dtype=float32>]\n",
      "prefix/conv2d/Relu [<tf.Tensor 'prefix/conv2d/Relu:0' shape=(?, 56, 56, 96) dtype=float32>]\n",
      "prefix/LRN [<tf.Tensor 'prefix/LRN:0' shape=(?, 56, 56, 96) dtype=float32>]\n",
      "prefix/max_pooling2d/MaxPool [<tf.Tensor 'prefix/max_pooling2d/MaxPool:0' shape=(?, 28, 28, 96) dtype=float32>]\n",
      "prefix/conv2d_1/kernel [<tf.Tensor 'prefix/conv2d_1/kernel:0' shape=(5, 5, 96, 256) dtype=float32>]\n",
      "prefix/conv2d_1/kernel/read [<tf.Tensor 'prefix/conv2d_1/kernel/read:0' shape=(5, 5, 96, 256) dtype=float32>]\n",
      "prefix/conv2d_1/bias [<tf.Tensor 'prefix/conv2d_1/bias:0' shape=(256,) dtype=float32>]\n",
      "prefix/conv2d_1/bias/read [<tf.Tensor 'prefix/conv2d_1/bias/read:0' shape=(256,) dtype=float32>]\n",
      "prefix/conv2d_2/convolution [<tf.Tensor 'prefix/conv2d_2/convolution:0' shape=(?, 28, 28, 256) dtype=float32>]\n",
      "prefix/conv2d_2/BiasAdd [<tf.Tensor 'prefix/conv2d_2/BiasAdd:0' shape=(?, 28, 28, 256) dtype=float32>]\n",
      "prefix/conv2d_2/Relu [<tf.Tensor 'prefix/conv2d_2/Relu:0' shape=(?, 28, 28, 256) dtype=float32>]\n",
      "prefix/LRN_1 [<tf.Tensor 'prefix/LRN_1:0' shape=(?, 28, 28, 256) dtype=float32>]\n",
      "prefix/max_pooling2d_2/MaxPool [<tf.Tensor 'prefix/max_pooling2d_2/MaxPool:0' shape=(?, 14, 14, 256) dtype=float32>]\n",
      "prefix/conv2d_2/kernel [<tf.Tensor 'prefix/conv2d_2/kernel:0' shape=(3, 3, 256, 384) dtype=float32>]\n",
      "prefix/conv2d_2/kernel/read [<tf.Tensor 'prefix/conv2d_2/kernel/read:0' shape=(3, 3, 256, 384) dtype=float32>]\n",
      "prefix/conv2d_2/bias [<tf.Tensor 'prefix/conv2d_2/bias:0' shape=(384,) dtype=float32>]\n",
      "prefix/conv2d_2/bias/read [<tf.Tensor 'prefix/conv2d_2/bias/read:0' shape=(384,) dtype=float32>]\n",
      "prefix/conv2d_3/convolution [<tf.Tensor 'prefix/conv2d_3/convolution:0' shape=(?, 14, 14, 384) dtype=float32>]\n",
      "prefix/conv2d_3/BiasAdd [<tf.Tensor 'prefix/conv2d_3/BiasAdd:0' shape=(?, 14, 14, 384) dtype=float32>]\n",
      "prefix/conv2d_3/Relu [<tf.Tensor 'prefix/conv2d_3/Relu:0' shape=(?, 14, 14, 384) dtype=float32>]\n",
      "prefix/conv2d_3/kernel [<tf.Tensor 'prefix/conv2d_3/kernel:0' shape=(3, 3, 384, 384) dtype=float32>]\n",
      "prefix/conv2d_3/kernel/read [<tf.Tensor 'prefix/conv2d_3/kernel/read:0' shape=(3, 3, 384, 384) dtype=float32>]\n",
      "prefix/conv2d_3/bias [<tf.Tensor 'prefix/conv2d_3/bias:0' shape=(384,) dtype=float32>]\n",
      "prefix/conv2d_3/bias/read [<tf.Tensor 'prefix/conv2d_3/bias/read:0' shape=(384,) dtype=float32>]\n",
      "prefix/conv2d_4/convolution [<tf.Tensor 'prefix/conv2d_4/convolution:0' shape=(?, 14, 14, 384) dtype=float32>]\n",
      "prefix/conv2d_4/BiasAdd [<tf.Tensor 'prefix/conv2d_4/BiasAdd:0' shape=(?, 14, 14, 384) dtype=float32>]\n",
      "prefix/conv2d_4/Relu [<tf.Tensor 'prefix/conv2d_4/Relu:0' shape=(?, 14, 14, 384) dtype=float32>]\n",
      "prefix/conv2d_4/kernel [<tf.Tensor 'prefix/conv2d_4/kernel:0' shape=(3, 3, 384, 256) dtype=float32>]\n",
      "prefix/conv2d_4/kernel/read [<tf.Tensor 'prefix/conv2d_4/kernel/read:0' shape=(3, 3, 384, 256) dtype=float32>]\n",
      "prefix/conv2d_4/bias [<tf.Tensor 'prefix/conv2d_4/bias:0' shape=(256,) dtype=float32>]\n",
      "prefix/conv2d_4/bias/read [<tf.Tensor 'prefix/conv2d_4/bias/read:0' shape=(256,) dtype=float32>]\n",
      "prefix/conv2d_5/convolution [<tf.Tensor 'prefix/conv2d_5/convolution:0' shape=(?, 14, 14, 256) dtype=float32>]\n",
      "prefix/conv2d_5/BiasAdd [<tf.Tensor 'prefix/conv2d_5/BiasAdd:0' shape=(?, 14, 14, 256) dtype=float32>]\n",
      "prefix/conv2d_5/Relu [<tf.Tensor 'prefix/conv2d_5/Relu:0' shape=(?, 14, 14, 256) dtype=float32>]\n",
      "prefix/max_pooling2d_3/MaxPool [<tf.Tensor 'prefix/max_pooling2d_3/MaxPool:0' shape=(?, 7, 7, 256) dtype=float32>]\n",
      "prefix/Variable [<tf.Tensor 'prefix/Variable:0' shape=(12544, 4096) dtype=float32>]\n",
      "prefix/Variable/read [<tf.Tensor 'prefix/Variable/read:0' shape=(12544, 4096) dtype=float32>]\n",
      "prefix/Variable_1 [<tf.Tensor 'prefix/Variable_1:0' shape=(4096,) dtype=float32>]\n",
      "prefix/Variable_1/read [<tf.Tensor 'prefix/Variable_1/read:0' shape=(4096,) dtype=float32>]\n",
      "prefix/Reshape_1/shape [<tf.Tensor 'prefix/Reshape_1/shape:0' shape=(2,) dtype=int32>]\n",
      "prefix/Reshape_1 [<tf.Tensor 'prefix/Reshape_1:0' shape=(?, 12544) dtype=float32>]\n",
      "prefix/MatMul [<tf.Tensor 'prefix/MatMul:0' shape=(?, 4096) dtype=float32>]\n",
      "prefix/add [<tf.Tensor 'prefix/add:0' shape=(?, 4096) dtype=float32>]\n",
      "prefix/Relu [<tf.Tensor 'prefix/Relu:0' shape=(?, 4096) dtype=float32>]\n",
      "prefix/dropout/Shape [<tf.Tensor 'prefix/dropout/Shape:0' shape=(2,) dtype=int32>]\n",
      "prefix/dropout/random_uniform/min [<tf.Tensor 'prefix/dropout/random_uniform/min:0' shape=() dtype=float32>]\n",
      "prefix/dropout/random_uniform/max [<tf.Tensor 'prefix/dropout/random_uniform/max:0' shape=() dtype=float32>]\n",
      "prefix/dropout/random_uniform/RandomUniform [<tf.Tensor 'prefix/dropout/random_uniform/RandomUniform:0' shape=(?, 4096) dtype=float32>]\n",
      "prefix/dropout/random_uniform/sub [<tf.Tensor 'prefix/dropout/random_uniform/sub:0' shape=() dtype=float32>]\n",
      "prefix/dropout/random_uniform/mul [<tf.Tensor 'prefix/dropout/random_uniform/mul:0' shape=(?, 4096) dtype=float32>]\n",
      "prefix/dropout/random_uniform [<tf.Tensor 'prefix/dropout/random_uniform:0' shape=(?, 4096) dtype=float32>]\n",
      "prefix/dropout/add [<tf.Tensor 'prefix/dropout/add:0' shape=<unknown> dtype=float32>]\n",
      "prefix/dropout/Floor [<tf.Tensor 'prefix/dropout/Floor:0' shape=<unknown> dtype=float32>]\n",
      "prefix/dropout/div [<tf.Tensor 'prefix/dropout/div:0' shape=<unknown> dtype=float32>]\n",
      "prefix/dropout/mul [<tf.Tensor 'prefix/dropout/mul:0' shape=<unknown> dtype=float32>]\n",
      "prefix/Variable_2 [<tf.Tensor 'prefix/Variable_2:0' shape=(4096, 4096) dtype=float32>]\n",
      "prefix/Variable_2/read [<tf.Tensor 'prefix/Variable_2/read:0' shape=(4096, 4096) dtype=float32>]\n",
      "prefix/Variable_3 [<tf.Tensor 'prefix/Variable_3:0' shape=(4096,) dtype=float32>]\n",
      "prefix/Variable_3/read [<tf.Tensor 'prefix/Variable_3/read:0' shape=(4096,) dtype=float32>]\n",
      "prefix/MatMul_1 [<tf.Tensor 'prefix/MatMul_1:0' shape=(?, 4096) dtype=float32>]\n",
      "prefix/add_1 [<tf.Tensor 'prefix/add_1:0' shape=(?, 4096) dtype=float32>]\n",
      "prefix/Relu_1 [<tf.Tensor 'prefix/Relu_1:0' shape=(?, 4096) dtype=float32>]\n",
      "prefix/dropout_1/Shape [<tf.Tensor 'prefix/dropout_1/Shape:0' shape=(2,) dtype=int32>]\n",
      "prefix/dropout_1/random_uniform/min [<tf.Tensor 'prefix/dropout_1/random_uniform/min:0' shape=() dtype=float32>]\n",
      "prefix/dropout_1/random_uniform/max [<tf.Tensor 'prefix/dropout_1/random_uniform/max:0' shape=() dtype=float32>]\n",
      "prefix/dropout_1/random_uniform/RandomUniform [<tf.Tensor 'prefix/dropout_1/random_uniform/RandomUniform:0' shape=(?, 4096) dtype=float32>]\n",
      "prefix/dropout_1/random_uniform/sub [<tf.Tensor 'prefix/dropout_1/random_uniform/sub:0' shape=() dtype=float32>]\n",
      "prefix/dropout_1/random_uniform/mul [<tf.Tensor 'prefix/dropout_1/random_uniform/mul:0' shape=(?, 4096) dtype=float32>]\n",
      "prefix/dropout_1/random_uniform [<tf.Tensor 'prefix/dropout_1/random_uniform:0' shape=(?, 4096) dtype=float32>]\n",
      "prefix/dropout_1/add [<tf.Tensor 'prefix/dropout_1/add:0' shape=<unknown> dtype=float32>]\n",
      "prefix/dropout_1/Floor [<tf.Tensor 'prefix/dropout_1/Floor:0' shape=<unknown> dtype=float32>]\n",
      "prefix/dropout_1/div [<tf.Tensor 'prefix/dropout_1/div:0' shape=<unknown> dtype=float32>]\n",
      "prefix/dropout_1/mul [<tf.Tensor 'prefix/dropout_1/mul:0' shape=<unknown> dtype=float32>]\n",
      "prefix/Variable_4 [<tf.Tensor 'prefix/Variable_4:0' shape=(4096, 4) dtype=float32>]\n",
      "prefix/Variable_4/read [<tf.Tensor 'prefix/Variable_4/read:0' shape=(4096, 4) dtype=float32>]\n",
      "prefix/Variable_5 [<tf.Tensor 'prefix/Variable_5:0' shape=(4,) dtype=float32>]\n",
      "prefix/Variable_5/read [<tf.Tensor 'prefix/Variable_5/read:0' shape=(4,) dtype=float32>]\n",
      "prefix/output/MatMul [<tf.Tensor 'prefix/output/MatMul:0' shape=(?, 4) dtype=float32>]\n",
      "prefix/output [<tf.Tensor 'prefix/output:0' shape=(?, 4) dtype=float32>]\n",
      "prefix/output2 [<tf.Tensor 'prefix/output2:0' shape=(?, 4) dtype=float32>]\n"
     ]
    }
   ],
   "source": [
    "graph = load_graph('./RoadSign-Alexnet-ckpt/frozen_model.pb')\n",
    "\n",
    "for op in graph.get_operations():\n",
    "    print op.name,op.outputs"
   ]
  },
  {
   "cell_type": "code",
   "execution_count": 6,
   "metadata": {
    "collapsed": true
   },
   "outputs": [],
   "source": [
    "import numpy as np\n",
    "from PIL import Image"
   ]
  },
  {
   "cell_type": "code",
   "execution_count": 7,
   "metadata": {
    "collapsed": false
   },
   "outputs": [
    {
     "name": "stdout",
     "output_type": "stream",
     "text": [
      "[[  9.99999404e-01   5.70434281e-07   5.25940314e-09   1.46564380e-12]]\n",
      "answer : Stop\n"
     ]
    }
   ],
   "source": [
    "#　グラフのパラメータをpbファイルのパラメータで初期化\n",
    "sess = tf.Session(graph=graph)\n",
    "\n",
    "# 「止まれ」のサンプル画像\n",
    "img = Image.open('./test_dataset_AlexNet/Stop-00196.jpg', \"r\")\n",
    "input_data = np.frombuffer(np.array(img),dtype=np.uint8)\n",
    "input_data = input_data.astype(np.float32)\n",
    "input_data /= 255.0\n",
    "\n",
    "predict = sess.run('prefix/output2:0',{'prefix/input:0':input_data.reshape(-1,224*224*3),'prefix/keep_prob:0':1.0})\n",
    "print(predict)\n",
    "\n",
    "Index = np.argmax(predict)\n",
    "if(Index == 0):\n",
    "    print \"answer : Stop\"\n",
    "elif(Index == 1):\n",
    "    print \"answer : LimitSpeed10\"\n",
    "elif(Index == 2):\n",
    "    print \"answer : LimitSpeed20\"\n",
    "elif(Index == 2):\n",
    "    print \"answer : LimitSpeed20\""
   ]
  }
 ],
 "metadata": {
  "kernelspec": {
   "display_name": "Python 2",
   "language": "python",
   "name": "python2"
  },
  "language_info": {
   "codemirror_mode": {
    "name": "ipython",
    "version": 2
   },
   "file_extension": ".py",
   "mimetype": "text/x-python",
   "name": "python",
   "nbconvert_exporter": "python",
   "pygments_lexer": "ipython2",
   "version": "2.7.9"
  }
 },
 "nbformat": 4,
 "nbformat_minor": 2
}
