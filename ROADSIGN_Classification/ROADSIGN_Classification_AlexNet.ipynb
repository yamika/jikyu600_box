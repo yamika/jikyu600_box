{
 "cells": [
  {
   "cell_type": "code",
   "execution_count": 1,
   "metadata": {
    "collapsed": true
   },
   "outputs": [],
   "source": [
    "import numpy as np\n",
    "import tensorflow as tf\n",
    "from load_dataset_VGG16 import load_dataset\n",
    "import matplotlib.pyplot as plt"
   ]
  },
  {
   "cell_type": "code",
   "execution_count": 2,
   "metadata": {
    "collapsed": false
   },
   "outputs": [
    {
     "name": "stdout",
     "output_type": "stream",
     "text": [
      "Load label : Done!\n",
      "Load img : Done!\n",
      "Load label : Done!\n",
      "Load img : Done!\n"
     ]
    }
   ],
   "source": [
    "x_train,t_train = load_dataset('./train_dataset_VGG16',convert_type='RGB',flatten=True,normalize=True,one_hot_label=True)\n",
    "x_test,t_test = load_dataset('./test_dataset_VGG16',convert_type='RGB',flatten=True,normalize=True,one_hot_label=True)"
   ]
  },
  {
   "cell_type": "code",
   "execution_count": 3,
   "metadata": {
    "collapsed": true
   },
   "outputs": [],
   "source": [
    "def list_shuffle(datas,labels):\n",
    "    ###データのシャッフル\n",
    "    index_list = np.arange(0,datas.shape[0])\n",
    "    np.random.shuffle(index_list)\n",
    "    x_data = datas[index_list]\n",
    "    t_data = labels[index_list]\n",
    "    return x_data,t_data"
   ]
  },
  {
   "cell_type": "code",
   "execution_count": 4,
   "metadata": {
    "collapsed": true
   },
   "outputs": [],
   "source": [
    "x_train_shuffle,t_train_shuffle = list_shuffle(x_train,t_train)\n",
    "x_test_shuffle,t_test_shuffle = list_shuffle(x_test,t_test)"
   ]
  },
  {
   "cell_type": "code",
   "execution_count": 5,
   "metadata": {
    "collapsed": true
   },
   "outputs": [],
   "source": [
    "X = tf.placeholder(tf.float32, shape=[None, 224*224*3],name=\"input\")\n",
    "t = tf.placeholder(tf.float32, shape=[None, 2])\n",
    "keep_prob = tf.placeholder(tf.float32)\n",
    "### 入力層\n",
    "input_layer = tf.reshape(X, [-1,224,224,3])"
   ]
  },
  {
   "cell_type": "code",
   "execution_count": 6,
   "metadata": {
    "collapsed": true
   },
   "outputs": [],
   "source": [
    "### 畳込み層、プーリング層1\n",
    "h_conv1 = tf.layers.conv2d(inputs=input_layer,filters=96,kernel_size=[11, 11],strides=(4,4),padding='same',activation=tf.nn.relu)\n",
    "h_norm1 = tf.nn.local_response_normalization(h_conv1)\n",
    "h_pool1 = tf.layers.max_pooling2d(inputs=h_norm1,pool_size=(3,3),strides=(2,2),padding='same')\n",
    "\n",
    "### 畳込み層、プーリング層2\n",
    "h_conv2 = tf.layers.conv2d(inputs=h_pool1,filters=256,kernel_size=[5, 5],padding='same',activation=tf.nn.relu)\n",
    "h_norm2 = tf.nn.local_response_normalization(h_conv2)\n",
    "h_pool2 = tf.layers.max_pooling2d(inputs=h_norm2,pool_size=(3,3),strides=(2,2),padding='same')\n",
    "\n",
    "### 畳込み層、プーリング層3\n",
    "h_conv3_1 = tf.layers.conv2d(inputs=h_pool2,filters=384,kernel_size=[3, 3],padding='same',activation=tf.nn.relu)\n",
    "h_conv3_2 = tf.layers.conv2d(inputs=h_conv3_1,filters=384,kernel_size=[3, 3],padding='same',activation=tf.nn.relu)\n",
    "h_conv3_3 = tf.layers.conv2d(inputs=h_conv3_2,filters=256,kernel_size=[3, 3],padding='same',activation=tf.nn.relu)\n",
    "\n",
    "h_pool3 = tf.layers.max_pooling2d(inputs=h_conv3_3,pool_size=(3,3),strides=(2,2),padding='same')\n",
    "\n",
    "### 全結合層1\n",
    "\n",
    "stddev = np.sqrt(1.0 / 7*7*256)\n",
    "h_W_fc1 = tf.Variable(tf.truncated_normal([7*7*256,4096], stddev=stddev)) \n",
    "h_b_fc1 = tf.Variable(tf.constant(0.1, shape=[4096]))\n",
    "h_pool3_flat = tf.reshape(h_pool3, [-1, 7*7*256])\n",
    "h_fc1 = tf.nn.relu(tf.matmul(h_pool3_flat, h_W_fc1) + h_b_fc1)\n",
    "\n",
    "h_fc1_drop = tf.nn.dropout(h_fc1, keep_prob)\n",
    "\n",
    "### 全結合層2\n",
    "\n",
    "stddev = np.sqrt(1.0 / 4096)\n",
    "h_W_fc2 = tf.Variable(tf.truncated_normal([4096,4096], stddev=stddev)) \n",
    "h_b_fc2 = tf.Variable(tf.constant(0.1, shape=[4096]))\n",
    "h_fc2 = tf.nn.relu(tf.matmul(h_fc1_drop, h_W_fc2) + h_b_fc2)\n",
    "\n",
    "h_fc2_drop = tf.nn.dropout(h_fc2, keep_prob)\n",
    "\n",
    "### 出力層\n",
    "stddev = np.sqrt(2.0 / 4096)\n",
    "W_fc3 = tf.Variable(tf.truncated_normal([4096,2], stddev=stddev))\n",
    "b_fc3 = tf.Variable(tf.constant(0.1, shape=[2]))\n",
    "fc = tf.nn.relu(tf.matmul(h_fc2_drop, W_fc3) + b_fc3)\n",
    "y_conv = tf.nn.softmax(fc,name=\"output\")\n",
    "\n",
    "### 損失\n",
    "loss = tf.reduce_mean(tf.nn.softmax_cross_entropy_with_logits(labels=t, logits=y_conv))\n",
    "\n",
    "### 学習op\n",
    "optimizer = tf.train.AdamOptimizer(1e-4)\n",
    "train_step = optimizer.minimize(loss)\n",
    "\n",
    "### モデルの評価\n",
    "correct_prediction = tf.equal(tf.argmax(y_conv,1), tf.argmax(t,1))\n",
    "# 精度\n",
    "accuracy = tf.reduce_mean(tf.cast(correct_prediction, tf.float32))"
   ]
  },
  {
   "cell_type": "code",
   "execution_count": 7,
   "metadata": {
    "collapsed": false
   },
   "outputs": [
    {
     "name": "stdout",
     "output_type": "stream",
     "text": [
      "Tensor(\"max_pooling2d/MaxPool:0\", shape=(?, 28, 28, 96), dtype=float32)\n",
      "Tensor(\"max_pooling2d_2/MaxPool:0\", shape=(?, 14, 14, 256), dtype=float32)\n",
      "Tensor(\"max_pooling2d_3/MaxPool:0\", shape=(?, 7, 7, 256), dtype=float32)\n"
     ]
    }
   ],
   "source": [
    "print(h_pool1)\n",
    "print(h_pool2)\n",
    "print(h_pool3)"
   ]
  },
  {
   "cell_type": "code",
   "execution_count": null,
   "metadata": {
    "collapsed": true
   },
   "outputs": [],
   "source": [
    "saver = tf.train.Saver()\n",
    "\n",
    "sess = tf.Session()\n",
    "sess.run(tf.global_variables_initializer())\n",
    "\n",
    "batch_size = 1\n",
    "\n",
    "for i in range(5000):\n",
    "    batch_mask = np.random.choice(x_train_shuffle.shape[0], batch_size)\n",
    "    x_batch = x_train_shuffle[batch_mask]\n",
    "    t_batch = t_train_shuffle[batch_mask]\n",
    "    sess.run(train_step,feed_dict={X: x_batch, t: t_batch,keep_prob:0.5})\n",
    "    if i % 100 == 0:\n",
    "        train_acc, train_loss = sess.run([accuracy,loss], feed_dict={X: x_train_shuffle, t: t_train_shuffle,keep_prob:1.0})\n",
    "        test_acc = sess.run(accuracy, feed_dict={X: x_test_shuffle, t: t_test_shuffle,keep_prob:1.0})\n",
    "        print \"[Train] step: %d, loss: %f, acc: %f, [Test] acc : %f\" % (i, train_loss, train_acc,test_acc)\n",
    "        \n",
    "saver.save(sess, \"./RoadSign-Alex-ckpt/roadsign-alex\")"
   ]
  }
 ],
 "metadata": {
  "kernelspec": {
   "display_name": "Python 2",
   "language": "python",
   "name": "python2"
  },
  "language_info": {
   "codemirror_mode": {
    "name": "ipython",
    "version": 2
   },
   "file_extension": ".py",
   "mimetype": "text/x-python",
   "name": "python",
   "nbconvert_exporter": "python",
   "pygments_lexer": "ipython2",
   "version": "2.7.9"
  }
 },
 "nbformat": 4,
 "nbformat_minor": 2
}
