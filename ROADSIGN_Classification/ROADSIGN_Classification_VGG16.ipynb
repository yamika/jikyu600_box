{
 "cells": [
  {
   "cell_type": "code",
   "execution_count": 1,
   "metadata": {
    "collapsed": true
   },
   "outputs": [],
   "source": [
    "import numpy as np\n",
    "import tensorflow as tf\n",
    "from load_dataset_VGG16 import load_dataset\n",
    "import matplotlib.pyplot as plt"
   ]
  },
  {
   "cell_type": "code",
   "execution_count": 2,
   "metadata": {
    "collapsed": false
   },
   "outputs": [
    {
     "name": "stdout",
     "output_type": "stream",
     "text": [
      "Load label : Done!\n",
      "Load img : Done!\n",
      "Load label : Done!\n",
      "Load img : Done!\n"
     ]
    }
   ],
   "source": [
    "x_train,t_train = load_dataset('./train_dataset_VGG16',convert_type='RGB',flatten=True,normalize=True,one_hot_label=True)\n",
    "x_test,t_test = load_dataset('./test_dataset_VGG16',convert_type='RGB',flatten=True,normalize=True,one_hot_label=True)"
   ]
  },
  {
   "cell_type": "code",
   "execution_count": 3,
   "metadata": {
    "collapsed": true
   },
   "outputs": [],
   "source": [
    "def list_shuffle(datas,labels):\n",
    "    index_list = np.arange(0,datas.shape[0])\n",
    "    np.random.shuffle(index_list)\n",
    "    x_data = datas[index_list]\n",
    "    t_data = labels[index_list]\n",
    "    return x_data,t_data"
   ]
  },
  {
   "cell_type": "code",
   "execution_count": 4,
   "metadata": {
    "collapsed": true
   },
   "outputs": [],
   "source": [
    "x_train_shuffle,t_train_shuffle = list_shuffle(x_train,t_train)\n",
    "x_test_shuffle,t_test_shuffle = list_shuffle(x_test,t_test)"
   ]
  },
  {
   "cell_type": "code",
   "execution_count": 5,
   "metadata": {
    "collapsed": true
   },
   "outputs": [],
   "source": [
    "t = tf.placeholder(tf.float32, shape=(None,2))\n",
    "X = tf.placeholder(tf.float32, shape=(None,224*224*3))\n",
    "# 入力層\n",
    "input_layer = tf.reshape(X, [-1,224,224,3])"
   ]
  },
  {
   "cell_type": "code",
   "execution_count": 6,
   "metadata": {
    "collapsed": true
   },
   "outputs": [],
   "source": [
    "conv1_1 = tf.layers.conv2d(inputs=input_layer,filters=32,kernel_size=[3, 3],padding='same',activation=tf.nn.relu)\n",
    "conv1_2 = tf.layers.conv2d(inputs=conv1_1,filters=32,kernel_size=[3, 3],padding='same',activation=tf.nn.relu)\n",
    "pool1 = tf.layers.max_pooling2d(inputs=conv1_2,pool_size=(2,2),strides=(2,2),padding='same')"
   ]
  },
  {
   "cell_type": "code",
   "execution_count": 7,
   "metadata": {
    "collapsed": true
   },
   "outputs": [],
   "source": [
    "conv2_1 = tf.layers.conv2d(inputs=pool1,filters=64,kernel_size=[3, 3],padding='same',activation=tf.nn.relu)\n",
    "conv2_2 = tf.layers.conv2d(inputs=conv2_1,filters=64,kernel_size=[3, 3],padding='same',activation=tf.nn.relu)\n",
    "pool2 = tf.layers.max_pooling2d(inputs=conv2_2,pool_size=(2,2),strides=(2,2),padding='same')"
   ]
  },
  {
   "cell_type": "code",
   "execution_count": 8,
   "metadata": {
    "collapsed": true
   },
   "outputs": [],
   "source": [
    "conv3_1 = tf.layers.conv2d(inputs=pool2,filters=128,kernel_size=[3, 3],padding='same',activation=tf.nn.relu)\n",
    "conv3_2 = tf.layers.conv2d(inputs=conv3_1,filters=128,kernel_size=[3, 3],padding='same',activation=tf.nn.relu)\n",
    "conv3_3 = tf.layers.conv2d(inputs=conv3_2,filters=128,kernel_size=[3, 3],padding='same',activation=tf.nn.relu)\n",
    "pool3 = tf.layers.max_pooling2d(inputs=conv3_3,pool_size=(2,2),strides=(2,2),padding='same')"
   ]
  },
  {
   "cell_type": "code",
   "execution_count": 9,
   "metadata": {
    "collapsed": true
   },
   "outputs": [],
   "source": [
    "conv4_1 = tf.layers.conv2d(inputs=pool3,filters=256,kernel_size=[3, 3],padding='same',activation=tf.nn.relu)\n",
    "conv4_2 = tf.layers.conv2d(inputs=conv4_1,filters=256,kernel_size=[3, 3],padding='same',activation=tf.nn.relu)\n",
    "conv4_3 = tf.layers.conv2d(inputs=conv4_2,filters=256,kernel_size=[3, 3],padding='same',activation=tf.nn.relu)\n",
    "pool4 = tf.layers.max_pooling2d(inputs=conv4_3,pool_size=(2,2),strides=(2,2),padding='same')"
   ]
  },
  {
   "cell_type": "code",
   "execution_count": 10,
   "metadata": {
    "collapsed": true
   },
   "outputs": [],
   "source": [
    "conv5_1 = tf.layers.conv2d(inputs=pool4,filters=512,kernel_size=[3, 3],padding='same',activation=tf.nn.relu)\n",
    "conv5_2 = tf.layers.conv2d(inputs=conv5_1,filters=512,kernel_size=[3, 3],padding='same',activation=tf.nn.relu)\n",
    "conv5_3 = tf.layers.conv2d(inputs=conv5_2,filters=512,kernel_size=[3, 3],padding='same',activation=tf.nn.relu)\n",
    "pool5 = tf.layers.max_pooling2d(inputs=conv5_3,pool_size=(2,2),strides=(2,2),padding='same')"
   ]
  },
  {
   "cell_type": "code",
   "execution_count": 11,
   "metadata": {
    "collapsed": true
   },
   "outputs": [],
   "source": [
    "conv6_1 = tf.layers.conv2d(inputs=pool5,filters=1024,kernel_size=[3, 3],padding='same',activation=tf.nn.relu)\n",
    "pool6 = tf.layers.max_pooling2d(inputs=conv6_1,pool_size=(2,2),strides=(2,2),padding='same')"
   ]
  },
  {
   "cell_type": "code",
   "execution_count": 13,
   "metadata": {
    "collapsed": true
   },
   "outputs": [],
   "source": [
    "stddev = np.sqrt(2.0 / 4*4*1024)\n",
    "h_W_fc1 = tf.Variable(tf.truncated_normal([4*4*1024,4096], stddev=stddev))\n",
    "h_b_fc1 = tf.Variable(tf.constant(0.1, shape=[4096]))\n",
    "pool5_flat = tf.reshape(pool5, [-1, 4*4*1024])\n",
    "h_fc1 = tf.nn.relu(tf.matmul(pool5_flat, h_W_fc1) + h_b_fc1)"
   ]
  },
  {
   "cell_type": "code",
   "execution_count": 14,
   "metadata": {
    "collapsed": true
   },
   "outputs": [],
   "source": [
    "stddev = np.sqrt(2.0 / 4096)\n",
    "h_W_fc2 = tf.Variable(tf.truncated_normal([4096,4096], stddev=stddev))\n",
    "h_b_fc2 = tf.Variable(tf.constant(0.1, shape=[4096]))\n",
    "h_fc2 = tf.nn.relu(tf.matmul(h_fc1, h_W_fc2) + h_b_fc2)"
   ]
  },
  {
   "cell_type": "code",
   "execution_count": 15,
   "metadata": {
    "collapsed": true
   },
   "outputs": [],
   "source": [
    "stddev = np.sqrt(2.0 / 4096)\n",
    "W_fc3 = tf.Variable(tf.truncated_normal([4096,2], stddev=stddev))\n",
    "b_fc3 = tf.Variable(tf.constant(0.1, shape=[2]))\n",
    "fc = tf.nn.relu(tf.matmul(h_fc2, W_fc3) + b_fc3)"
   ]
  },
  {
   "cell_type": "code",
   "execution_count": 16,
   "metadata": {
    "collapsed": true
   },
   "outputs": [],
   "source": [
    "keep_prob = tf.placeholder(tf.float32) # ドロップアウトする割合\n",
    "fc3_drop = tf.nn.dropout(fc, keep_prob)\n",
    "y_conv = tf.nn.softmax(fc3_drop)"
   ]
  },
  {
   "cell_type": "code",
   "execution_count": 17,
   "metadata": {
    "collapsed": true
   },
   "outputs": [],
   "source": [
    "cross_entropy = tf.reduce_mean(tf.nn.softmax_cross_entropy_with_logits(logits=y_conv, labels=t))\n",
    "loss = cross_entropy\n",
    "\n",
    "optimizer = tf.train.AdamOptimizer(1e-4)\n",
    "train_step = optimizer.minimize(loss)\n",
    "\n",
    "correct_prediction = tf.equal(tf.argmax(y_conv,1), tf.argmax(t,1))\n",
    "accuracy = tf.reduce_mean(tf.cast(correct_prediction, tf.float32))"
   ]
  },
  {
   "cell_type": "code",
   "execution_count": null,
   "metadata": {
    "collapsed": true
   },
   "outputs": [],
   "source": [
    "saver = tf.train.Saver()\n",
    "\n",
    "sess = tf.Session()\n",
    "sess.run(tf.global_variables_initializer())\n",
    "\n",
    "batch_size = 4\n",
    "\n",
    "for i in range(1000):\n",
    "    batch_mask = np.random.choice(x_train_shuffle.shape[0], batch_size)\n",
    "    x_batch = x_train_shuffle[batch_mask]\n",
    "    t_batch = t_train_shuffle[batch_mask]\n",
    "    sess.run(train_step,feed_dict={X: x_batch, t: t_batch,keep_prob:0.5})\n",
    "    if i % 100 == 0:\n",
    "        train_acc, train_loss = sess.run([accuracy,loss], feed_dict={X: x_batch, t: t_batch,keep_prob:1.0})\n",
    "        test_acc = sess.run(accuracy, feed_dict={X: x_test_shuffle, t: t_test_shuffle,keep_prob:1.0})\n",
    "        print \"[Train] step: %d, loss: %f, acc: %f, [Test] acc : %f\" % (i, train_loss, train_acc,test_acc)\n",
    "\n",
    "saver.save(sess, \"./RoadSign-vgg-ckpt/roadsign-vgg\")"
   ]
  }
 ],
 "metadata": {
  "kernelspec": {
   "display_name": "Python 2",
   "language": "python",
   "name": "python2"
  },
  "language_info": {
   "codemirror_mode": {
    "name": "ipython",
    "version": 2
   },
   "file_extension": ".py",
   "mimetype": "text/x-python",
   "name": "python",
   "nbconvert_exporter": "python",
   "pygments_lexer": "ipython2",
   "version": "2.7.9"
  }
 },
 "nbformat": 4,
 "nbformat_minor": 2
}
